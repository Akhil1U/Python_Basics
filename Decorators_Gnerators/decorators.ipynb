{
 "cells": [
  {
   "cell_type": "markdown",
   "id": "650fc093",
   "metadata": {},
   "source": [
    "# decorators"
   ]
  },
  {
   "cell_type": "markdown",
   "id": "90312f40",
   "metadata": {},
   "source": [
    "### A decorator is:\n",
    "\n",
    "--> A function that takes another function or class and returns a modified version of it.\n",
    "\n",
    "--> Used to add extra functionality without modifying the original function’s code.\n",
    "\n",
    "--> Often used for logging, authentication, timing, caching, etc."
   ]
  },
  {
   "cell_type": "markdown",
   "id": "3e9fe3a9",
   "metadata": {},
   "source": [
    "## Key concepts you must know\n",
    "\n",
    "--> Functions are first-class citizens in Python: You can pass them around like variables.   \n",
    "\n",
    "--> A decorator is a higher-order function: It takes a function as an argument and returns another function.  \n",
    "\n",
    "--> Closures allow a function to remember the environment in which it was created. >>>>>> we will understand this line laterrrrrrrrrrr   \n",
    "------> closure is function that remember varible of outer function."
   ]
  },
  {
   "cell_type": "code",
   "execution_count": null,
   "id": "90aa7654",
   "metadata": {},
   "outputs": [
    {
     "name": "stdout",
     "output_type": "stream",
     "text": [
      "before the function run\n",
      "hello\n",
      "after the function run\n",
      "this is class\n",
      "before the function run\n",
      "after the function run\n"
     ]
    }
   ],
   "source": [
    "def my_decorator(fun):                                     # Step 1: Define decorator\n",
    "    def wrapper():                                         # Step 2: Define wrapper function\n",
    "        print(\"before the function run\")\n",
    "        fun()                                              # Step 4: Call the original function\n",
    "        print(\"after the function run\")\n",
    "    return wrapper\n",
    "\n",
    "@my_decorator                                               # Step 7: Apply the decorator \n",
    "def say_hello():                                            # say_hello function is decorated,\n",
    "\n",
    "    hello =\"hello\"\n",
    "    print(hello)\n",
    "say_hello()                                                 # call decorated function.....\n",
    "\n",
    "\n",
    "\n",
    "\n",
    "@my_decorator             # decorators is used for methods/function so you can use decorators inside class..... not like thissssss\n",
    "class example:\n",
    "\n",
    "        print(\"this is class\")\n",
    "\n",
    "objOfClass = example()\n",
    "\n"
   ]
  },
  {
   "cell_type": "code",
   "execution_count": 1,
   "id": "36c616c6",
   "metadata": {},
   "outputs": [
    {
     "name": "stdout",
     "output_type": "stream",
     "text": [
      "Before the function runs\n",
      "Hello!\n",
      "After the function runs\n"
     ]
    }
   ],
   "source": [
    "def decorator_function(original_function):\n",
    "    def wrapper_function():\n",
    "        print(\"Before the function runs\")\n",
    "        original_function()\n",
    "        print(\"After the function runs\")\n",
    "    return wrapper_function\n",
    "\n",
    "def say_hello():\n",
    "    print(\"Hello!\")\n",
    "\n",
    "# Decorating manually\n",
    "decorated = decorator_function(say_hello)\n",
    "decorated()"
   ]
  },
  {
   "cell_type": "code",
   "execution_count": 14,
   "id": "a2e01983",
   "metadata": {},
   "outputs": [
    {
     "name": "stdout",
     "output_type": "stream",
     "text": [
      "Calling function: greet\n",
      "Hey there!\n"
     ]
    }
   ],
   "source": [
    "def log_function_call(func):\n",
    "    def wrapper():\n",
    "        print(f\"Calling function: {func.__name__}\")\n",
    "        return func()\n",
    "    return wrapper\n",
    "\n",
    "@log_function_call\n",
    "def greet():\n",
    "    print(\"Hey there!\")\n",
    "\n",
    "greet()\n"
   ]
  },
  {
   "cell_type": "code",
   "execution_count": 10,
   "id": "d6f15151",
   "metadata": {},
   "outputs": [
    {
     "name": "stdout",
     "output_type": "stream",
     "text": [
      "Hey there!\n"
     ]
    }
   ],
   "source": [
    "def greet():\n",
    "    print(\"Hey there!\")\n",
    "greet()"
   ]
  },
  {
   "cell_type": "code",
   "execution_count": null,
   "id": "0d86a810",
   "metadata": {},
   "outputs": [],
   "source": []
  }
 ],
 "metadata": {
  "kernelspec": {
   "display_name": "Python 3",
   "language": "python",
   "name": "python3"
  },
  "language_info": {
   "codemirror_mode": {
    "name": "ipython",
    "version": 3
   },
   "file_extension": ".py",
   "mimetype": "text/x-python",
   "name": "python",
   "nbconvert_exporter": "python",
   "pygments_lexer": "ipython3",
   "version": "3.13.5"
  }
 },
 "nbformat": 4,
 "nbformat_minor": 5
}
