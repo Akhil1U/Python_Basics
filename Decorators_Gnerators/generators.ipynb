{
 "cells": [
  {
   "cell_type": "markdown",
   "id": "2cf88de6",
   "metadata": {},
   "source": [
    "# Generators"
   ]
  },
  {
   "cell_type": "markdown",
   "id": "2efda3e7",
   "metadata": {},
   "source": [
    "===> A generator is a special type of function in Python that remembers its state and can be paused and resumed.   \n",
    "\n",
    "===>  It yields values one at a time, instead of returning them all at once."
   ]
  },
  {
   "cell_type": "code",
   "execution_count": 19,
   "id": "7567baa4",
   "metadata": {},
   "outputs": [
    {
     "name": "stdout",
     "output_type": "stream",
     "text": [
      "1\n",
      "2\n",
      "3\n"
     ]
    }
   ],
   "source": [
    "def generators():\n",
    "    yield 1\n",
    "    yield 2\n",
    "    yield 3\n",
    "\n",
    "\n",
    "gen = generators()\n",
    "print(next(gen))\n",
    "print(next(gen))\n",
    "print(next(gen))\n"
   ]
  },
  {
   "cell_type": "code",
   "execution_count": 17,
   "id": "f0dd3f93",
   "metadata": {},
   "outputs": [
    {
     "name": "stdout",
     "output_type": "stream",
     "text": [
      "[0, 1, 4, 9, 16]\n"
     ]
    }
   ],
   "source": [
    "def squares_gen(n):\n",
    "    for x in range(n):\n",
    "        yield x * x\n",
    "\n",
    "n = 5\n",
    "d = list(squares_gen(n))\n",
    "print(d)"
   ]
  },
  {
   "cell_type": "code",
   "execution_count": 18,
   "id": "cdf7c100",
   "metadata": {},
   "outputs": [
    {
     "name": "stdout",
     "output_type": "stream",
     "text": [
      "[0, 1, 4, 9, 16]\n"
     ]
    }
   ],
   "source": [
    "def squares_list(n):\n",
    "    return [x*x for x in range(n)]\n",
    "\n",
    "print(squares_list(5))  # [0, 1, 4, 9, 16]"
   ]
  },
  {
   "cell_type": "markdown",
   "id": "fd5d297b",
   "metadata": {},
   "source": [
    "###  Why generator function"
   ]
  },
  {
   "cell_type": "markdown",
   "id": "5322f300",
   "metadata": {},
   "source": [
    "--> normal function use all memotu while working with large file and data,   \n",
    "But   \n",
    "--> generator function return one value at ones, when you call for next value\n",
    "\n",
    "✅ Memory Efficient\tDoesn’t load all data into memory   \n",
    "\n",
    "✅ Lazy Evaluation\tOnly generates values when needed  \n",
    "\n",
    "✅ Infinite Sequences\tCan be used to generate endless series like Fibonacci or prime numbers  \n"
   ]
  },
  {
   "cell_type": "markdown",
   "id": "b7db054f",
   "metadata": {},
   "source": [
    "===> NOte: as normal function we cannot call generators bcz it return \"\"<generator object squares_gen at 0x000001A2FBD3F820>\"\"   \n",
    "\n",
    "===> so we need to call _next_methods, like you can use for loop to call this method and wrap into list,set,tuple and use next() method to get values line by line."
   ]
  },
  {
   "cell_type": "code",
   "execution_count": null,
   "id": "c0943c08",
   "metadata": {},
   "outputs": [],
   "source": [
    "def big_list(n):\n",
    "    return [x for x in range(n)]\n",
    "\n",
    "def big_gen(n):\n",
    "    for x in range(n):\n",
    "        yield x\n",
    "\n",
    "\n",
    "# Calling big_list(10_000_000) creates a list of 10 million elements in memory.\n",
    "\n",
    "# Calling big_gen(10_000_000) uses almost no memory, unless you iterate over it."
   ]
  },
  {
   "cell_type": "markdown",
   "id": "9b1aa32c",
   "metadata": {},
   "source": [
    " 🐢 2. Faster Startup Time  \n",
    "\n",
    "Lists are created all at once, so the function takes time before returning.  \n",
    "Generators start immediately, and values come as needed.  \n",
    "\n",
    "This is very useful for:  \n",
    "Large datasets  \n",
    "Reading files line by line  \n",
    "Streaming data (e.g. from APIs or databases)   \n",
    "Infinite sequences  "
   ]
  },
  {
   "cell_type": "markdown",
   "id": "4649e1f9",
   "metadata": {},
   "source": [
    "💡 When to Use Generators?  \n",
    "\n",
    "Use generators when:  \n",
    "\n",
    "-> The dataset is large or infinite  \n",
    "\n",
    "-> You care about performance and memory  \n",
    "\n",
    "-> You only need one item at a time  \n",
    "\n",
    "Use lists when:  \n",
    "\n",
    "-> The dataset is small  \n",
    "\n",
    "-> You need to re-use or sort the full list  \n",
    "\n",
    "-> You need random access to values (like mylist[3])  "
   ]
  }
 ],
 "metadata": {
  "kernelspec": {
   "display_name": "Python 3",
   "language": "python",
   "name": "python3"
  },
  "language_info": {
   "codemirror_mode": {
    "name": "ipython",
    "version": 3
   },
   "file_extension": ".py",
   "mimetype": "text/x-python",
   "name": "python",
   "nbconvert_exporter": "python",
   "pygments_lexer": "ipython3",
   "version": "3.13.5"
  }
 },
 "nbformat": 4,
 "nbformat_minor": 5
}
