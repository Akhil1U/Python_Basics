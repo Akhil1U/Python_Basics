{
 "cells": [
  {
   "cell_type": "markdown",
   "id": "7f5269ff",
   "metadata": {},
   "source": [
    "# if-alse, conditions, match"
   ]
  },
  {
   "cell_type": "markdown",
   "id": "2fbbecbe",
   "metadata": {},
   "source": [
    "Equals: a == b\n",
    "Not Equals: a != b\n",
    "Less than: a < b\n",
    "Less than or equal to: a <= b\n",
    "Greater than: a > b\n",
    "Greater than or equal to: a >= b"
   ]
  },
  {
   "cell_type": "code",
   "execution_count": null,
   "id": "9efe07ee",
   "metadata": {},
   "outputs": [],
   "source": [
    "a = 200\n",
    "b = 33\n",
    "if b > a:\n",
    "  print(\"b is greater than a\")\n",
    "elif a == b:\n",
    "  print(\"a and b are equal\")\n",
    "else:\n",
    "  print(\"a is greater than b\")"
   ]
  },
  {
   "cell_type": "markdown",
   "id": "922374df",
   "metadata": {},
   "source": [
    "## Short Hand If"
   ]
  },
  {
   "cell_type": "code",
   "execution_count": null,
   "id": "29f95ce1",
   "metadata": {},
   "outputs": [],
   "source": [
    "a = 5\n",
    "b = 6\n",
    "\n",
    "if a > b: print(\"a is greater than b\") "
   ]
  },
  {
   "cell_type": "markdown",
   "id": "74bb8441",
   "metadata": {},
   "source": [
    "## Short Hand If ... Else"
   ]
  },
  {
   "cell_type": "code",
   "execution_count": 3,
   "id": "3adee455",
   "metadata": {},
   "outputs": [
    {
     "name": "stdout",
     "output_type": "stream",
     "text": [
      "B\n"
     ]
    }
   ],
   "source": [
    "a = 2\n",
    "b = 330\n",
    "print(\"A\") if a > b else print(\"B\")"
   ]
  },
  {
   "cell_type": "code",
   "execution_count": 4,
   "id": "a0f50f54",
   "metadata": {},
   "outputs": [
    {
     "name": "stdout",
     "output_type": "stream",
     "text": [
      "=\n"
     ]
    }
   ],
   "source": [
    "a = 330\n",
    "b = 330\n",
    "print(\"A\") if a > b else print(\"=\") if a == b else print(\"B\")"
   ]
  },
  {
   "cell_type": "markdown",
   "id": "a5f7316f",
   "metadata": {},
   "source": [
    "### NOT in if else"
   ]
  },
  {
   "cell_type": "code",
   "execution_count": 5,
   "id": "150c2da3",
   "metadata": {},
   "outputs": [
    {
     "name": "stdout",
     "output_type": "stream",
     "text": [
      "a is NOT greater than b\n"
     ]
    }
   ],
   "source": [
    "a = 33\n",
    "b = 200\n",
    "if not a > b:\n",
    "  print(\"a is NOT greater than b\")"
   ]
  },
  {
   "cell_type": "markdown",
   "id": "eab7b89b",
   "metadata": {},
   "source": [
    "## Match"
   ]
  },
  {
   "cell_type": "code",
   "execution_count": 9,
   "id": "f72bb6c4",
   "metadata": {},
   "outputs": [
    {
     "name": "stdout",
     "output_type": "stream",
     "text": [
      "there is not match of this case\n"
     ]
    }
   ],
   "source": [
    "day = 8\n",
    "match day:\n",
    "  case 1:\n",
    "    print(\"Monday\")\n",
    "  case 2:\n",
    "    print(\"Tuesday\")\n",
    "  case 3:\n",
    "    print(\"Wednesday\")\n",
    "  case 4:\n",
    "    print(\"Thursday\")\n",
    "  case 5:\n",
    "    print(\"Friday\")\n",
    "  case 6:\n",
    "    print(\"Saturday\")\n",
    "  case 7:\n",
    "    print(\"Sunday\")\n",
    "  case _:\n",
    "    print(\"there is not match of this case\")"
   ]
  },
  {
   "cell_type": "code",
   "execution_count": 10,
   "id": "8e4e2930",
   "metadata": {},
   "outputs": [
    {
     "name": "stdout",
     "output_type": "stream",
     "text": [
      "these days for england match\n"
     ]
    }
   ],
   "source": [
    "day = 5\n",
    "match day:\n",
    "    case 1 |2|3:\n",
    "        print(\"this is match day for india\")\n",
    "    case 2 |4|5:\n",
    "        print(\"these days for england match\")\n",
    "    case 3 |6|7:\n",
    "        print(\"this is weekends\")\n",
    "    case _:\n",
    "        print(\"this day is not exist\")"
   ]
  }
 ],
 "metadata": {
  "kernelspec": {
   "display_name": "Python 3",
   "language": "python",
   "name": "python3"
  },
  "language_info": {
   "codemirror_mode": {
    "name": "ipython",
    "version": 3
   },
   "file_extension": ".py",
   "mimetype": "text/x-python",
   "name": "python",
   "nbconvert_exporter": "python",
   "pygments_lexer": "ipython3",
   "version": "3.13.5"
  }
 },
 "nbformat": 4,
 "nbformat_minor": 5
}
