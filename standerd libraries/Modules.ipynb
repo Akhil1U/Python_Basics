{
 "cells": [
  {
   "cell_type": "markdown",
   "id": "1df5fb8c",
   "metadata": {},
   "source": [
    "## major standard libraries"
   ]
  },
  {
   "cell_type": "markdown",
   "id": "a3216903",
   "metadata": {},
   "source": [
    "### 1. date and time\n",
    "\n",
    "Key Classes and Functions:   \n",
    "datetime.datetime: Represents date + time.  \n",
    "\n",
    "datetime.date: Only date (year, month, day).  \n",
    "\n",
    "datetime.time: Only time (hour, minute, second).   \n",
    "\n",
    "datetime.timedelta: Represents a duration (difference between two dates/times).   \n",
    "\n",
    "datetime.now(): Current date and time.  \n",
    "   \n",
    "datetime.strptime(): Convert string to datetime object.  \n",
    "\n",
    "datetime.strftime(): Convert datetime object to string.  "
   ]
  },
  {
   "cell_type": "code",
   "execution_count": 2,
   "id": "9d16031f",
   "metadata": {},
   "outputs": [
    {
     "name": "stdout",
     "output_type": "stream",
     "text": [
      "Now: 2025-08-11 17:10:48.977525\n",
      "2025-08-11 17:10:48\n",
      "Days since 2025-08-11: 0\n"
     ]
    }
   ],
   "source": [
    "from datetime import datetime, timedelta\n",
    "\n",
    "now = datetime.now()\n",
    "print(\"Now:\", now)\n",
    "\n",
    "# Formatting\n",
    "print(now.strftime(\"%Y-%m-%d %H:%M:%S\"))\n",
    "\n",
    "# Parsing\n",
    "dt = datetime.strptime(\"2025-08-11\", \"%Y-%m-%d\")\n",
    "\n",
    "# Difference\n",
    "delta = now - dt\n",
    "print(\"Days since 2025-08-11:\", delta.days)\n"
   ]
  },
  {
   "cell_type": "markdown",
   "id": "97e74583",
   "metadata": {},
   "source": [
    "### 2. os\n",
    " Key Functions:   \n",
    "  \n",
    "os.getcwd(): Get current working directory.   \n",
    "  \n",
    "os.listdir(): List files in a directory.   \n",
    "\n",
    "os.path: Work with file paths.   \n",
    "\n",
    "os.remove(): Delete a file.    \n",
    "   \n",
    "os.makedirs(), os.rmdir(): Create or remove directories.  \n",
    "  \n",
    "os.environ: Access environment variables.    \n",
    "   \n",
    "os.system(): Run shell commands.   "
   ]
  },
  {
   "cell_type": "code",
   "execution_count": 20,
   "id": "e8f2b986",
   "metadata": {},
   "outputs": [
    {
     "name": "stdout",
     "output_type": "stream",
     "text": [
      "Current Directory: f:\\Akhil\\Python_Basics\\standerd libraries\n",
      "Files: ['all.ipynb', 'example_folder']\n",
      "Exists: True\n"
     ]
    }
   ],
   "source": [
    "import os\n",
    "\n",
    "print(\"Current Directory:\", os.getcwd())\n",
    "\n",
    "# Create a new folder\n",
    "os.makedirs(\"example_folder\", exist_ok=True)\n",
    "\n",
    "# List files\n",
    "print(\"Files:\", os.listdir())\n",
    "\n",
    "# Check file existence\n",
    "print(\"Exists:\", os.path.exists(\"example_folder\"))\n",
    "\n",
    "# delete file\n",
    "# os.remove(\"F:\\Akhil\\Python_Basics\\standerd libraries\\example_folder\") mo access\n",
    "\n",
    "# #check again\n",
    "# # Check file existence\n",
    "# print(\"Exists:\", os.path.exists(\"example_folder\"))\n"
   ]
  },
  {
   "cell_type": "markdown",
   "id": "ac2d5721",
   "metadata": {},
   "source": [
    "###  3. sys — System-Specific Parameters and Functions\n",
    "\n",
    "Key Features:\n",
    "sys.argv: List of command-line arguments.\n",
    "\n",
    "sys.exit(): Exit the program.\n",
    "\n",
    "sys.path: List of directories Python searches for modules.\n",
    "\n",
    "sys.version: Python version info.\n",
    "\n",
    "sys.stdout, sys.stderr: Output and error streams."
   ]
  },
  {
   "cell_type": "code",
   "execution_count": 9,
   "id": "b5bfd381",
   "metadata": {},
   "outputs": [
    {
     "name": "stdout",
     "output_type": "stream",
     "text": [
      "Python Version: 3.13.5 (tags/v3.13.5:6cb20a2, Jun 11 2025, 16:15:46) [MSC v.1943 64 bit (AMD64)]\n",
      "Script arguments: ['C:\\\\Users\\\\Kartik\\\\AppData\\\\Roaming\\\\Python\\\\Python313\\\\site-packages\\\\ipykernel_launcher.py', '--f=c:\\\\Users\\\\Kartik\\\\AppData\\\\Roaming\\\\jupyter\\\\runtime\\\\kernel-v3fc7835429df25e3739d09eae3d64ddf1f003a649.json']\n"
     ]
    }
   ],
   "source": [
    "import sys\n",
    "\n",
    "import sys\n",
    "\n",
    "print(\"Python Version:\", sys.version)\n",
    "print(\"Script arguments:\", sys.argv)\n",
    "\n",
    "# Exit early\n",
    "# sys.exit(\"Stopping program\")\n"
   ]
  },
  {
   "cell_type": "markdown",
   "id": "42cd2dc0",
   "metadata": {},
   "source": [
    "### 4. math — Mathematical Functions\n",
    "Key Functions:\n",
    "math.sqrt(), math.pow(): Square root, power.\n",
    "\n",
    "math.ceil(), math.floor(): Round up/down.\n",
    "\n",
    "math.sin(), math.cos(), math.pi: Trigonometry.\n",
    "\n",
    "math.factorial(), math.log(): Factorial, logarithms."
   ]
  },
  {
   "cell_type": "code",
   "execution_count": 10,
   "id": "a962a163",
   "metadata": {},
   "outputs": [
    {
     "name": "stdout",
     "output_type": "stream",
     "text": [
      "PI: 3.141592653589793\n",
      "Square Root of 16: 4.0\n",
      "Ceil of 4.3: 5\n",
      "Log base e of 10: 2.302585092994046\n"
     ]
    }
   ],
   "source": [
    "import math\n",
    "\n",
    "print(\"PI:\", math.pi)\n",
    "print(\"Square Root of 16:\", math.sqrt(16))\n",
    "print(\"Ceil of 4.3:\", math.ceil(4.3))\n",
    "print(\"Log base e of 10:\", math.log(10))\n"
   ]
  },
  {
   "cell_type": "markdown",
   "id": "70bcc802",
   "metadata": {},
   "source": [
    "### 5. random — Random Number Generation\n",
    "random.random(): Float in [0, 1).\n",
    "\n",
    "random.randint(a, b): Random int in [a, b].\n",
    "\n",
    "random.choice(seq): Random element from a sequence.\n",
    "\n",
    "random.shuffle(list): Shuffle a list.\n",
    "\n",
    "random.seed(n): Seed the random generator for reproducibility."
   ]
  },
  {
   "cell_type": "code",
   "execution_count": 11,
   "id": "0d8ef60f",
   "metadata": {},
   "outputs": [
    {
     "name": "stdout",
     "output_type": "stream",
     "text": [
      "Random Float: 0.6394267984578837\n",
      "Random Integer (1-10): 1\n",
      "Random Choice: cherry\n",
      "Shuffled: [4, 5, 1, 2, 3]\n"
     ]
    }
   ],
   "source": [
    "import random\n",
    "\n",
    "random.seed(42)  # For reproducibility\n",
    "print(\"Random Float:\", random.random())\n",
    "print(\"Random Integer (1-10):\", random.randint(1, 10))\n",
    "print(\"Random Choice:\", random.choice(['apple', 'banana', 'cherry']))\n",
    "\n",
    "items = [1, 2, 3, 4, 5]\n",
    "random.shuffle(items)\n",
    "print(\"Shuffled:\", items)\n"
   ]
  }
 ],
 "metadata": {
  "kernelspec": {
   "display_name": "Python 3",
   "language": "python",
   "name": "python3"
  },
  "language_info": {
   "codemirror_mode": {
    "name": "ipython",
    "version": 3
   },
   "file_extension": ".py",
   "mimetype": "text/x-python",
   "name": "python",
   "nbconvert_exporter": "python",
   "pygments_lexer": "ipython3",
   "version": "3.13.5"
  }
 },
 "nbformat": 4,
 "nbformat_minor": 5
}
