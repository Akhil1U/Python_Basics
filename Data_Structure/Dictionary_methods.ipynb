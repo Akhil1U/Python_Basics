{
 "cells": [
  {
   "cell_type": "markdown",
   "id": "b147d7b0",
   "metadata": {},
   "source": [
    "# Dictionary Methods"
   ]
  },
  {
   "cell_type": "markdown",
   "id": "4bb2d99e",
   "metadata": {},
   "source": [
    "clear()\tRemoves all the elements from the dictionary   *\n",
    "  \n",
    "copy()\tReturns a copy of the dictionary  \n",
    "\n",
    "fromkeys()\tReturns a dictionary with the specified keys and value  \n",
    "\n",
    "get()\tReturns the value of the specified key  *\n",
    "\n",
    "items()\tReturns a list containing a tuple for each key value pair  *\n",
    "\n",
    "keys()\tReturns a list containing the dictionary's keys  *\n",
    "\n",
    "pop()\tRemoves the element with the specified key  *\n",
    "\n",
    "popitem()\tRemoves the last inserted key-value pair  \n",
    "\n",
    "setdefault()\tReturns the value of the specified key. If the key does not exist: insert the key, with the specified value   \n",
    "\n",
    "update()\tUpdates the dictionary with the specified key-value pairs  *\n",
    "\n",
    "values()\tReturns a list of all the values in the dictionary  *\n",
    "\n",
    "~ * Important\n"
   ]
  },
  {
   "cell_type": "markdown",
   "id": "aa164b4c",
   "metadata": {},
   "source": [
    "## fromkeys()\n",
    "\n",
    "#### The fromkeys() method returns desired keys and values"
   ]
  },
  {
   "cell_type": "code",
   "execution_count": null,
   "id": "9c3de858",
   "metadata": {},
   "outputs": [
    {
     "name": "stdout",
     "output_type": "stream",
     "text": [
      "{'key1': 0, 'key2': 0, 'key3': 0}\n"
     ]
    }
   ],
   "source": [
    "x = ('key1', 'key2', 'key3')\n",
    "y = 0\n",
    "\n",
    "thisdict = dict.fromkeys(x, y) # parameter required; here x = keys and y = vlaues\n",
    "\n",
    "\n",
    "print(thisdict)"
   ]
  },
  {
   "cell_type": "code",
   "execution_count": 8,
   "id": "94411dcf",
   "metadata": {},
   "outputs": [
    {
     "name": "stdout",
     "output_type": "stream",
     "text": [
      "{'key1': ('1', '2', '3'), 'key2': ('1', '2', '3'), 'key3': ('1', '2', '3')}\n"
     ]
    }
   ],
   "source": [
    "key = ('key1', 'key2', 'key3')\n",
    "values = ('1','2','3')\n",
    "\n",
    "newdict = dict.fromkeys(key, values)\n",
    "print(newdict)\n",
    "\n"
   ]
  },
  {
   "cell_type": "code",
   "execution_count": 4,
   "id": "931e949b",
   "metadata": {},
   "outputs": [
    {
     "name": "stdout",
     "output_type": "stream",
     "text": [
      "{'key1': None, 'key2': None, 'key3': None}\n"
     ]
    }
   ],
   "source": [
    "x = ('key1', 'key2', 'key3')\n",
    "\n",
    "thisdict = dict.fromkeys(x)\n",
    "\n",
    "\n",
    "print(thisdict)"
   ]
  },
  {
   "cell_type": "markdown",
   "id": "f400fb93",
   "metadata": {},
   "source": [
    "## setdefault()\n",
    "\n",
    "dictionary.setdefault(keyname, value)   \n",
    "keyname\tRequired. The keyname of the item you want to return the value from   \n",
    "value\tOptional.  \n",
    "If the key exist, this parameter has no effect.  \n",
    "If the key does not exist, this value becomes the key's value  \n",
    "Default value None  "
   ]
  },
  {
   "cell_type": "markdown",
   "id": "3e1ad866",
   "metadata": {},
   "source": [
    "###"
   ]
  },
  {
   "cell_type": "code",
   "execution_count": 15,
   "id": "b9eaf863",
   "metadata": {},
   "outputs": [
    {
     "name": "stdout",
     "output_type": "stream",
     "text": [
      "Bronco\n",
      "{'brand': 'Ford', 'model1': 'Mustang', 'year': 1964, 'model': 'Bronco'}\n"
     ]
    }
   ],
   "source": [
    "car = {\n",
    "  \"brand\": \"Ford\",\n",
    "  \"model1\": \"Mustang\",  #if we skip remove this model key than it will replce with defult which we set\n",
    "  \"year\": 1964\n",
    "}\n",
    "\n",
    "x = car.setdefault(\"model\", \"Bronco\")\n",
    "\n",
    "print(x)\n",
    "print(car)"
   ]
  }
 ],
 "metadata": {
  "kernelspec": {
   "display_name": "Python 3",
   "language": "python",
   "name": "python3"
  },
  "language_info": {
   "codemirror_mode": {
    "name": "ipython",
    "version": 3
   },
   "file_extension": ".py",
   "mimetype": "text/x-python",
   "name": "python",
   "nbconvert_exporter": "python",
   "pygments_lexer": "ipython3",
   "version": "3.13.5"
  }
 },
 "nbformat": 4,
 "nbformat_minor": 5
}
