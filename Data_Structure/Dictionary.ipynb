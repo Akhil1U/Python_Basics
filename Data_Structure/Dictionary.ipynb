{
 "cells": [
  {
   "cell_type": "markdown",
   "id": "6a57976a",
   "metadata": {},
   "source": [
    "# Dictionry\n",
    "## <class 'dict'>\n",
    "\n",
    "### A dictionary is a collection which is ordered*, changeable and do not allow duplicates.\n",
    "### allow duplicates for values \n",
    "### Ordered  changable no-Duplicate {keys}"
   ]
  },
  {
   "cell_type": "code",
   "execution_count": 4,
   "id": "96ca194d",
   "metadata": {},
   "outputs": [
    {
     "name": "stdout",
     "output_type": "stream",
     "text": [
      "ldkf\n"
     ]
    }
   ],
   "source": [
    "thisdict = {\n",
    "  \"brand\": \"Ford\",\n",
    "  \"brand\": \"ldkf\",\n",
    "  \"year\": 1964\n",
    "}\n",
    "print(thisdict[\"brand\"])"
   ]
  },
  {
   "cell_type": "code",
   "execution_count": 5,
   "id": "4f316ba0",
   "metadata": {},
   "outputs": [
    {
     "name": "stdout",
     "output_type": "stream",
     "text": [
      "{'brand': 'Ford', 'model': 'Mustang', 'year': 2020}\n"
     ]
    }
   ],
   "source": [
    "thisdict = {\n",
    "  \"brand\": \"Ford\",\n",
    "  \"model\": \"Mustang\",\n",
    "  \"year\": 1964,\n",
    "  \"year\": 2020\n",
    "}\n",
    "print(thisdict)"
   ]
  },
  {
   "cell_type": "markdown",
   "id": "ae0471b2",
   "metadata": {},
   "source": [
    "### Note : we can have duplicate value in dictionry"
   ]
  },
  {
   "cell_type": "code",
   "execution_count": 7,
   "id": "e2dc41e8",
   "metadata": {},
   "outputs": [
    {
     "name": "stdout",
     "output_type": "stream",
     "text": [
      "{'apple': 4, 'banana': 2, 'orange': 3, 'grape': 4}\n"
     ]
    }
   ],
   "source": [
    "my_dict = {\"apple\": 4, \"banana\": 2, \"orange\": 3,\"grape\":4}\n",
    "print(my_dict)\n",
    "# Output: {'apple': 4, 'banana': 2, 'orange': 3, 'grape': 4}"
   ]
  },
  {
   "cell_type": "markdown",
   "id": "6db6c91a",
   "metadata": {},
   "source": [
    "# Access items"
   ]
  },
  {
   "cell_type": "code",
   "execution_count": 21,
   "id": "80153e36",
   "metadata": {},
   "outputs": [
    {
     "name": "stdout",
     "output_type": "stream",
     "text": [
      "Mustang\n"
     ]
    }
   ],
   "source": [
    "# x = thisdict[\"model\"] using regular method\n",
    "thisdict = {\n",
    "  \"brand\": \"Ford\",\n",
    "  \"model\": \"Mustang\",\n",
    "  \"year\": 1964\n",
    "}\n",
    "item = thisdict[\"model\"]\n",
    "print(item)"
   ]
  },
  {
   "cell_type": "markdown",
   "id": "ef99a56b",
   "metadata": {},
   "source": [
    "### Get() - method\n",
    "#### it require at list one argument"
   ]
  },
  {
   "cell_type": "code",
   "execution_count": 20,
   "id": "6808919e",
   "metadata": {},
   "outputs": [
    {
     "name": "stdout",
     "output_type": "stream",
     "text": [
      "None\n"
     ]
    }
   ],
   "source": [
    "getItem = thisdict.get('Mustang')\n",
    "print(getItem)"
   ]
  },
  {
   "cell_type": "markdown",
   "id": "229ae2d0",
   "metadata": {},
   "source": [
    "### Get keys()"
   ]
  },
  {
   "cell_type": "code",
   "execution_count": 17,
   "id": "65d34b34",
   "metadata": {},
   "outputs": [
    {
     "name": "stdout",
     "output_type": "stream",
     "text": [
      "dict_keys(['brand', 'model', 'year'])\n"
     ]
    }
   ],
   "source": [
    "getkeys = thisdict.keys()\n",
    "print(getkeys)"
   ]
  },
  {
   "cell_type": "markdown",
   "id": "176d10e4",
   "metadata": {},
   "source": [
    "### Get Values()"
   ]
  },
  {
   "cell_type": "code",
   "execution_count": 18,
   "id": "7d57e761",
   "metadata": {},
   "outputs": [
    {
     "name": "stdout",
     "output_type": "stream",
     "text": [
      "dict_values(['Ford', 'Mustang', 1964])\n"
     ]
    }
   ],
   "source": [
    "getvalues = thisdict.values()\n",
    "print(getvalues)"
   ]
  },
  {
   "cell_type": "code",
   "execution_count": 19,
   "id": "f170a405",
   "metadata": {},
   "outputs": [
    {
     "name": "stdout",
     "output_type": "stream",
     "text": [
      "dict_keys(['brand', 'model', 'year'])\n",
      "dict_keys(['brand', 'model', 'year', 'color'])\n"
     ]
    }
   ],
   "source": [
    "car = {\n",
    "\"brand\": \"Ford\",\n",
    "\"model\": \"Mustang\",\n",
    "\"year\": 1964\n",
    "}\n",
    "\n",
    "x = car.keys()\n",
    "\n",
    "print(x) #before the change\n",
    "\n",
    "car[\"color\"] = \"white\"\n",
    "\n",
    "print(x) #after the change"
   ]
  },
  {
   "cell_type": "markdown",
   "id": "13d4d349",
   "metadata": {},
   "source": [
    "### Get items()\n",
    "\n",
    "#### REMEMBER -->  The items() method will return each item in a dictionary, as tuples in a list."
   ]
  },
  {
   "cell_type": "code",
   "execution_count": null,
   "id": "f747c724",
   "metadata": {},
   "outputs": [
    {
     "name": "stdout",
     "output_type": "stream",
     "text": [
      "dict_items([('brand', 'Ford'), ('model', 'Mustang'), ('year', 1964)])\n",
      "<class 'dict_items'>\n"
     ]
    }
   ],
   "source": [
    "getitems = thisdict.items()\n",
    "print(getitems)\n",
    "\n",
    "print(type(getitems)) # <class 'dict_items'>"
   ]
  },
  {
   "cell_type": "code",
   "execution_count": null,
   "id": "7b8e9f6a",
   "metadata": {},
   "outputs": [],
   "source": []
  },
  {
   "cell_type": "markdown",
   "id": "b02a1bf8",
   "metadata": {},
   "source": [
    "### Check if Key Exists"
   ]
  },
  {
   "cell_type": "code",
   "execution_count": 24,
   "id": "1169dccf",
   "metadata": {},
   "outputs": [
    {
     "name": "stdout",
     "output_type": "stream",
     "text": [
      "Yes, 'model' is one of the keys in the thisdict dictionary\n"
     ]
    }
   ],
   "source": [
    "thisdict = {\n",
    "  \"brand\": \"Ford\",\n",
    "  \"model\": \"Mustang\",\n",
    "  \"year\": 1964\n",
    "}\n",
    "if \"model\" in thisdict:\n",
    "  print(\"Yes, 'model' is one of the keys in the thisdict dictionary\")"
   ]
  },
  {
   "cell_type": "markdown",
   "id": "92e00954",
   "metadata": {},
   "source": [
    "# Change Dictionary Items"
   ]
  },
  {
   "cell_type": "code",
   "execution_count": 25,
   "id": "037e5589",
   "metadata": {},
   "outputs": [],
   "source": [
    "thisdict = {\n",
    "  \"brand\": \"Ford\",\n",
    "  \"model\": \"Mustang\",\n",
    "  \"year\": 1964\n",
    "}\n",
    "thisdict[\"year\"] = 2018"
   ]
  },
  {
   "cell_type": "markdown",
   "id": "19ce845b",
   "metadata": {},
   "source": [
    "### Update() - Method\n",
    "#### Note: The argument must be a dictionary, or an iterable object with key:value pairs."
   ]
  },
  {
   "cell_type": "code",
   "execution_count": 56,
   "id": "4e12b8af",
   "metadata": {},
   "outputs": [],
   "source": [
    "thisdict = {\n",
    "  \"brand\": \"Ford\",\n",
    "  \"model\": \"Mustang\",\n",
    "  \"year\": 1964\n",
    "}\n",
    "thisdict.update({\"year\": 2020})"
   ]
  },
  {
   "cell_type": "markdown",
   "id": "5e273962",
   "metadata": {},
   "source": [
    "### Add items"
   ]
  },
  {
   "cell_type": "code",
   "execution_count": 57,
   "id": "3818a1d0",
   "metadata": {},
   "outputs": [
    {
     "name": "stdout",
     "output_type": "stream",
     "text": [
      "{'brand': 'Ford', 'model': 'Mustang', 'year': 2020, 'color': 'black'}\n"
     ]
    }
   ],
   "source": [
    "thisdict[\"color\"] = \"black\"\n",
    "print(thisdict)"
   ]
  },
  {
   "cell_type": "markdown",
   "id": "06eaa379",
   "metadata": {},
   "source": [
    "### pop() method\n",
    "### it also return poped item"
   ]
  },
  {
   "cell_type": "code",
   "execution_count": 58,
   "id": "689d2563",
   "metadata": {},
   "outputs": [
    {
     "name": "stdout",
     "output_type": "stream",
     "text": [
      "{'brand': 'Ford', 'year': 2020, 'color': 'black'}\n"
     ]
    }
   ],
   "source": [
    "thisdict.pop(\"model\")\n",
    "\n",
    "print(thisdict)\n"
   ]
  },
  {
   "cell_type": "markdown",
   "id": "ed2d773f",
   "metadata": {},
   "source": [
    "### popitem()\n",
    "#### pop last added key value pair drom dictioanry"
   ]
  },
  {
   "cell_type": "code",
   "execution_count": 59,
   "id": "5db4241c",
   "metadata": {},
   "outputs": [
    {
     "name": "stdout",
     "output_type": "stream",
     "text": [
      "{'brand': 'Ford', 'model': 'Mustang'}\n"
     ]
    }
   ],
   "source": [
    "thisdict = {\n",
    "  \"brand\": \"Ford\",\n",
    "  \"model\": \"Mustang\",\n",
    "  \"year\": 1964\n",
    "}\n",
    "thisdict.popitem()\n",
    "print(thisdict)"
   ]
  },
  {
   "cell_type": "markdown",
   "id": "27d665ee",
   "metadata": {},
   "source": [
    "### del keyword"
   ]
  },
  {
   "cell_type": "code",
   "execution_count": 65,
   "id": "ce6c35f8",
   "metadata": {},
   "outputs": [
    {
     "name": "stdout",
     "output_type": "stream",
     "text": [
      "{'brand': 'Ford', 'year': 1964}\n"
     ]
    }
   ],
   "source": [
    "\n",
    "thisdict = {\n",
    "  \"brand\": \"Ford\",\n",
    "  \"model\": \"Mustang\",\n",
    "  \"year\": 1964\n",
    "}\n",
    "del thisdict[\"model\"]\n",
    "print(thisdict)\n",
    "\n",
    "########### del thisdict = it can delete dictionry completely"
   ]
  },
  {
   "cell_type": "markdown",
   "id": "f86e24a2",
   "metadata": {},
   "source": [
    "### clear() \n",
    "#### this method empties dictionary"
   ]
  },
  {
   "cell_type": "code",
   "execution_count": 64,
   "id": "08c3a97b",
   "metadata": {},
   "outputs": [
    {
     "name": "stdout",
     "output_type": "stream",
     "text": [
      "{}\n"
     ]
    }
   ],
   "source": [
    "thisdict = {\n",
    "  \"brand\": \"Ford\",\n",
    "  \"model\": \"Mustang\",\n",
    "  \"year\": 1964\n",
    "}\n",
    "thisdict.clear()\n",
    "print(thisdict)"
   ]
  },
  {
   "cell_type": "markdown",
   "id": "af38ede2",
   "metadata": {},
   "source": [
    "# loop through dictionary"
   ]
  },
  {
   "cell_type": "markdown",
   "id": "b3e7fbd3",
   "metadata": {},
   "source": [
    "\n",
    "for x in thisdict:    # it only print keys\n",
    "  print(x)   \n",
    "\n",
    "\n",
    "for x in thisdict.values():  # it will loop through values\n",
    "  print(x)  \n",
    "\n",
    "\n",
    "for x in thisdict.keys():  #  this will print keys of dict\n",
    "  print(x)  \n",
    "\n",
    "\n",
    "for x, y in thisdict.items():   # this will print keys values pair wihtout \n",
    "  print(x, y)  \n",
    "\n",
    "for pairs in thisdict.items(): # this will return tuple of key and value pair\n",
    "    print(pairs)"
   ]
  },
  {
   "cell_type": "code",
   "execution_count": 83,
   "id": "731e3cdb",
   "metadata": {},
   "outputs": [
    {
     "name": "stdout",
     "output_type": "stream",
     "text": [
      "brand\n",
      "model\n",
      "year\n",
      "\n",
      "Ford\n",
      "Mustang\n",
      "1964\n",
      "\n",
      "brand\n",
      "model\n",
      "year\n",
      "('brand', 'Ford')\n",
      "('model', 'Mustang')\n",
      "('year', 1964)\n",
      "<class 'tuple'>\n",
      "\n",
      "brand Ford\n",
      "model Mustang\n",
      "year 1964\n",
      "<class 'str'>\n",
      "<class 'int'>\n"
     ]
    }
   ],
   "source": [
    "thisdict = {\n",
    "  \"brand\": \"Ford\",\n",
    "  \"model\": \"Mustang\",\n",
    "  \"year\": 1964\n",
    "}\n",
    "\n",
    "for items in thisdict:\n",
    "    print(items)\n",
    "print()\n",
    "\n",
    "for values in thisdict.values():\n",
    "    print(values)\n",
    "    \n",
    "print()\n",
    "\n",
    "for keys in thisdict.keys():\n",
    "    print(keys)\n",
    "\n",
    "for pair in thisdict.items():\n",
    "    print(pair)\n",
    "print(type(pair))\n",
    "\n",
    "print()\n",
    "\n",
    "for x, y in thisdict.items():\n",
    "  print(x, y)\n",
    "print(type(x))\n",
    "print(type(y))"
   ]
  },
  {
   "cell_type": "code",
   "execution_count": null,
   "id": "201c6b62",
   "metadata": {},
   "outputs": [],
   "source": []
  },
  {
   "cell_type": "markdown",
   "id": "9b08deaf",
   "metadata": {},
   "source": [
    "pop() method"
   ]
  },
  {
   "cell_type": "markdown",
   "id": "4fc4742b",
   "metadata": {},
   "source": [
    "## copy() method"
   ]
  },
  {
   "cell_type": "code",
   "execution_count": 88,
   "id": "f79b335a",
   "metadata": {},
   "outputs": [
    {
     "name": "stdout",
     "output_type": "stream",
     "text": [
      "{'brand': 'Ford', 'model': 'Mustang', 'year': 1964}\n",
      "2595198527280   2595198527280\n"
     ]
    }
   ],
   "source": [
    "thisdict = {\n",
    "  \"brand\": \"Ford\",\n",
    "  \"model\": \"Mustang\",\n",
    "  \"year\": 1964\n",
    "}\n",
    "copydict = thisdict.copy()\n",
    "print(copydict)\n",
    "\n",
    "ids = id(thisdict[\"brand\"])\n",
    "id2 = id(copydict[\"brand\"])\n",
    "print(ids,\" \", id2)"
   ]
  },
  {
   "cell_type": "markdown",
   "id": "c24e742c",
   "metadata": {},
   "source": [
    "## dict() method \n",
    "#### used to copy dictionary also"
   ]
  },
  {
   "cell_type": "code",
   "execution_count": null,
   "id": "12306501",
   "metadata": {},
   "outputs": [
    {
     "name": "stdout",
     "output_type": "stream",
     "text": [
      "{'brand': 'Ford', 'model': 'Mustang', 'year': 1964}\n",
      "2595198527280   2595198527280\n"
     ]
    }
   ],
   "source": [
    "thisdict = {\n",
    "  \"brand\": \"Ford\",\n",
    "  \"model\": \"Mustang\",\n",
    "  \"year\": 1964\n",
    "}\n",
    "mydict = dict(thisdict)\n",
    "print(mydict)\n",
    "\n",
    "\n",
    "ids = id(thisdict[\"brand\"])\n",
    "id2 = id(mydict[\"brand\"])\n",
    "print(ids,\" \", id2)\n",
    "\n",
    "\n",
    "\n"
   ]
  },
  {
   "cell_type": "markdown",
   "id": "e519b012",
   "metadata": {},
   "source": [
    "## deep copy"
   ]
  },
  {
   "cell_type": "code",
   "execution_count": null,
   "id": "ce0f657d",
   "metadata": {},
   "outputs": [
    {
     "name": "stdout",
     "output_type": "stream",
     "text": [
      "2595198527280   2595198527280\n"
     ]
    }
   ],
   "source": [
    "import copy\n",
    "thisdict = {\n",
    "  \"brand\": \"Ford\",\n",
    "  \"model\": \"Mustang\",\n",
    "  \"year\": 1964\n",
    "}\n",
    "\n",
    "deepdict = copy.deepcopy(thisdict)\n",
    "\n",
    "adress = id(thisdict[\"brand\"])\n",
    "adress2 = id(deepdict[\"brand\"])\n",
    "\n",
    "print(adress,\" \",adress2) \n",
    "\n",
    "## very important\n",
    "# However, since strings are immutable in Python, the \"brand\" value (\"Ford\") is not copied to a new memory location; it's just referenced."
   ]
  },
  {
   "cell_type": "code",
   "execution_count": 97,
   "id": "30342af2",
   "metadata": {},
   "outputs": [
    {
     "name": "stdout",
     "output_type": "stream",
     "text": [
      "2595205621696 2595205256960\n"
     ]
    }
   ],
   "source": [
    "thisdict = {\n",
    "  \"brand\": [\"Ford\", \"Toyota\"],  # here we take list which is mutable so it completely copy and create new object.\n",
    "  \"model\": \"Mustang\",\n",
    "  \"year\": 1964\n",
    "}\n",
    "\n",
    "deepdict = copy.deepcopy(thisdict)\n",
    "\n",
    "# Now this will show different addresses:\n",
    "print(id(thisdict[\"brand\"]), id(deepdict[\"brand\"]))"
   ]
  },
  {
   "cell_type": "markdown",
   "id": "2fe195fc",
   "metadata": {},
   "source": [
    "## nested dictioary and looping\n"
   ]
  },
  {
   "cell_type": "code",
   "execution_count": 101,
   "id": "47b6a267",
   "metadata": {},
   "outputs": [
    {
     "name": "stdout",
     "output_type": "stream",
     "text": [
      "Emil\n"
     ]
    }
   ],
   "source": [
    "myfamily = {\n",
    "  \"child1\" : {\n",
    "    \"name\" : \"Emil\",\n",
    "    \"year\" : 2004\n",
    "  },\n",
    "  \"child2\" : {\n",
    "    \"name\" : \"Tobias\",\n",
    "    \"year\" : 2007\n",
    "  },\n",
    "  \"child3\" : {\n",
    "    \"name\" : \"Linus\",\n",
    "    \"year\" : 2011\n",
    "  }\n",
    "\n",
    "}\n",
    "\n",
    "print(myfamily['child1']['name'])"
   ]
  },
  {
   "cell_type": "code",
   "execution_count": 103,
   "id": "8389b65f",
   "metadata": {},
   "outputs": [
    {
     "name": "stdout",
     "output_type": "stream",
     "text": [
      "child1\n",
      "name   Emil\n",
      "year   2004\n",
      "child2\n",
      "name   Tobias\n",
      "year   2007\n",
      "child3\n",
      "name   Linus\n",
      "year   2011\n"
     ]
    }
   ],
   "source": [
    "for subdict, item in myfamily.items():\n",
    "    print(subdict)\n",
    "\n",
    "    for obj, subvalue in item.items():\n",
    "        print(obj,\" \",subvalue )"
   ]
  }
 ],
 "metadata": {
  "kernelspec": {
   "display_name": "Python 3",
   "language": "python",
   "name": "python3"
  },
  "language_info": {
   "codemirror_mode": {
    "name": "ipython",
    "version": 3
   },
   "file_extension": ".py",
   "mimetype": "text/x-python",
   "name": "python",
   "nbconvert_exporter": "python",
   "pygments_lexer": "ipython3",
   "version": "3.13.5"
  }
 },
 "nbformat": 4,
 "nbformat_minor": 5
}
