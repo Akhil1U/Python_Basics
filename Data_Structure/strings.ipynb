{
 "cells": [
  {
   "cell_type": "markdown",
   "id": "d079f323",
   "metadata": {},
   "source": [
    "# strings\n",
    "\n",
    "---> immutable, \n"
   ]
  },
  {
   "cell_type": "code",
   "execution_count": 1,
   "id": "28470492",
   "metadata": {},
   "outputs": [
    {
     "name": "stdout",
     "output_type": "stream",
     "text": [
      "Lorem ipsum dolor sit amet,\n",
      "consectetur adipiscing elit,\n",
      "sed do eiusmod tempor incididunt\n",
      "ut labore et dolore magna aliqua.\n"
     ]
    }
   ],
   "source": [
    "a = '''Lorem ipsum dolor sit amet,\n",
    "consectetur adipiscing elit,\n",
    "sed do eiusmod tempor incididunt\n",
    "ut labore et dolore magna aliqua.'''\n",
    "print(a)"
   ]
  },
  {
   "cell_type": "markdown",
   "id": "b1888133",
   "metadata": {},
   "source": [
    "### strings are array\n",
    "---> string in python are array of unicode character.\n",
    "\n",
    "\n",
    "--"
   ]
  },
  {
   "cell_type": "code",
   "execution_count": null,
   "id": "140218c8",
   "metadata": {},
   "outputs": [],
   "source": [
    "# used to access single character of string\n",
    "a = \"Hello, World!\"\n",
    "print(a[1])"
   ]
  },
  {
   "cell_type": "markdown",
   "id": "8a20182e",
   "metadata": {},
   "source": [
    "### Check string\n"
   ]
  },
  {
   "cell_type": "code",
   "execution_count": 2,
   "id": "b2c04271",
   "metadata": {},
   "outputs": [
    {
     "name": "stdout",
     "output_type": "stream",
     "text": [
      "True\n"
     ]
    }
   ],
   "source": [
    "txt = \"The best things in life are free!\"\n",
    "print(\"free\" in txt)"
   ]
  },
  {
   "cell_type": "code",
   "execution_count": 3,
   "id": "ba5fef6b",
   "metadata": {},
   "outputs": [
    {
     "name": "stdout",
     "output_type": "stream",
     "text": [
      "True\n"
     ]
    }
   ],
   "source": [
    "txt = \"The best things in life are free!\"\n",
    "print(\"expensive\" not in txt)"
   ]
  },
  {
   "cell_type": "markdown",
   "id": "2707f8bb",
   "metadata": {},
   "source": [
    "## Slicing in string"
   ]
  },
  {
   "cell_type": "code",
   "execution_count": 4,
   "id": "5eed7a0f",
   "metadata": {},
   "outputs": [
    {
     "name": "stdout",
     "output_type": "stream",
     "text": [
      "llo\n"
     ]
    }
   ],
   "source": [
    "b = \"Hello, World!\"\n",
    "print(b[2:5:1])"
   ]
  },
  {
   "cell_type": "code",
   "execution_count": 5,
   "id": "ccf21e83",
   "metadata": {},
   "outputs": [
    {
     "name": "stdout",
     "output_type": "stream",
     "text": [
      "Hello\n"
     ]
    }
   ],
   "source": [
    "# slice from start \n",
    "b = \"Hello, World!\"\n",
    "print(b[:5])"
   ]
  },
  {
   "cell_type": "code",
   "execution_count": 6,
   "id": "ba20390a",
   "metadata": {},
   "outputs": [
    {
     "name": "stdout",
     "output_type": "stream",
     "text": [
      "world!\n"
     ]
    }
   ],
   "source": [
    "# slice to end\n",
    "c = \"hello world!\"\n",
    "print(c[6:])"
   ]
  },
  {
   "cell_type": "markdown",
   "id": "7dbaf15b",
   "metadata": {},
   "source": [
    "## Nagative Indexing\n",
    "\n",
    "start: index to begin the slice (inclusive)\n",
    "\n",
    "end: index to stop at (exclusive)\n",
    "\n",
    "step: how to move through the string\n",
    "\n",
    "Positive → left to right\n",
    "\n",
    "Negative → right to left"
   ]
  },
  {
   "cell_type": "code",
   "execution_count": 40,
   "id": "282ef913",
   "metadata": {},
   "outputs": [
    {
     "name": "stdout",
     "output_type": "stream",
     "text": [
      "\n",
      " World\n",
      "W,l\n"
     ]
    }
   ],
   "source": [
    "b = \"Hello, World!\"\n",
    "# print(b[-7:-2:2]) # print(b[start:end:step]) \n",
    "\n",
    "\n",
    "print(b[1:10:-2])  # if you put nagative step than you have should maintain that flow, \n",
    "\n",
    "print(b[-7:-1:1])  # flow -7 to -1\n",
    "print(b[7:1:-2])  "
   ]
  },
  {
   "cell_type": "markdown",
   "id": "b0f4668a",
   "metadata": {},
   "source": [
    "## Python - String Concatenation"
   ]
  },
  {
   "cell_type": "code",
   "execution_count": 41,
   "id": "026e5244",
   "metadata": {},
   "outputs": [
    {
     "name": "stdout",
     "output_type": "stream",
     "text": [
      "HelloWorld\n"
     ]
    }
   ],
   "source": [
    "a = \"Hello\"\n",
    "b = \"World\"\n",
    "c = a + b\n",
    "print(c)"
   ]
  },
  {
   "cell_type": "markdown",
   "id": "b6d9d27d",
   "metadata": {},
   "source": [
    "## string format"
   ]
  },
  {
   "cell_type": "code",
   "execution_count": 42,
   "id": "94f54a5a",
   "metadata": {},
   "outputs": [
    {
     "name": "stdout",
     "output_type": "stream",
     "text": [
      "My name is John, I am 36\n"
     ]
    }
   ],
   "source": [
    "age = 36\n",
    "txt = f\"My name is John, I am {age}\"\n",
    "print(txt)"
   ]
  },
  {
   "cell_type": "markdown",
   "id": "d801a8ff",
   "metadata": {},
   "source": [
    "### floating after dot\n",
    "-->after :.2f"
   ]
  },
  {
   "cell_type": "code",
   "execution_count": null,
   "id": "03573040",
   "metadata": {},
   "outputs": [],
   "source": [
    "price = 59\n",
    "txt = f\"The price is {price:.2f} dollars\"\n",
    "print(txt)"
   ]
  },
  {
   "cell_type": "code",
   "execution_count": 43,
   "id": "0639a04d",
   "metadata": {},
   "outputs": [
    {
     "name": "stdout",
     "output_type": "stream",
     "text": [
      "The price is 1180 dollars\n"
     ]
    }
   ],
   "source": [
    "txt = f\"The price is {20 * 59} dollars\"\n",
    "print(txt)"
   ]
  },
  {
   "cell_type": "markdown",
   "id": "765df20f",
   "metadata": {},
   "source": [
    "## Escape character\n",
    "\n",
    "--> for escaper backslash  \\\\  \n",
    "--> for new line \\n  \n",
    "---> for tab \\t\n",
    "---> for backspace \\b"
   ]
  },
  {
   "cell_type": "code",
   "execution_count": null,
   "id": "25aeaf6b",
   "metadata": {},
   "outputs": [],
   "source": [
    "# you cannot use quotes inside string.  \n",
    "txt = \"We are the so-called \\\"jkdhgf\\\" from the north.\""
   ]
  },
  {
   "cell_type": "code",
   "execution_count": 46,
   "id": "523dcc7d",
   "metadata": {},
   "outputs": [
    {
     "name": "stdout",
     "output_type": "stream",
     "text": [
      "hello \" \" how are you\n"
     ]
    }
   ],
   "source": [
    "# use \\ backslash to print quotes in string\n",
    "txt = \"hello \\\"   \\\" how are you\"\n",
    "print(txt)"
   ]
  }
 ],
 "metadata": {
  "kernelspec": {
   "display_name": "Python 3",
   "language": "python",
   "name": "python3"
  },
  "language_info": {
   "codemirror_mode": {
    "name": "ipython",
    "version": 3
   },
   "file_extension": ".py",
   "mimetype": "text/x-python",
   "name": "python",
   "nbconvert_exporter": "python",
   "pygments_lexer": "ipython3",
   "version": "3.13.5"
  }
 },
 "nbformat": 4,
 "nbformat_minor": 5
}
