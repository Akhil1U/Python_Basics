{
 "cells": [
  {
   "cell_type": "markdown",
   "id": "816dd5ba",
   "metadata": {},
   "source": [
    "# stirng methods"
   ]
  },
  {
   "cell_type": "markdown",
   "id": "609a0760",
   "metadata": {},
   "source": [
    "### all methods of stirngs return new values/string, do not change origionl string !!!!\n",
    "\n",
    "https://www.w3schools.com/python/python_strings_methods.asp"
   ]
  },
  {
   "cell_type": "code",
   "execution_count": null,
   "id": "fe8fbc3e",
   "metadata": {},
   "outputs": [],
   "source": [
    "### uppercase()"
   ]
  },
  {
   "cell_type": "code",
   "execution_count": 1,
   "id": "03041619",
   "metadata": {},
   "outputs": [
    {
     "name": "stdout",
     "output_type": "stream",
     "text": [
      "HELLO, WORLD!\n"
     ]
    }
   ],
   "source": [
    "a = \"Hello, World!\"\n",
    "print(a.upper())"
   ]
  },
  {
   "cell_type": "code",
   "execution_count": null,
   "id": "a80533aa",
   "metadata": {},
   "outputs": [],
   "source": [
    "### lower case()"
   ]
  },
  {
   "cell_type": "code",
   "execution_count": 3,
   "id": "d95b6ebb",
   "metadata": {},
   "outputs": [
    {
     "name": "stdout",
     "output_type": "stream",
     "text": [
      "hello world!\n"
     ]
    }
   ],
   "source": [
    "a = \"HELLO WORLD!\"\n",
    "print(a.lower())"
   ]
  },
  {
   "cell_type": "code",
   "execution_count": null,
   "id": "11c6dbdc",
   "metadata": {},
   "outputs": [],
   "source": [
    "### strip()   Remove Whitespace"
   ]
  },
  {
   "cell_type": "code",
   "execution_count": 4,
   "id": "0f092727",
   "metadata": {},
   "outputs": [
    {
     "name": "stdout",
     "output_type": "stream",
     "text": [
      "Hello\n"
     ]
    }
   ],
   "source": [
    "b = \"  Hello  \"\n",
    "print(b.strip())   \n",
    "\n",
    "##### for leading whitespace : lstrip()\n",
    "##### for trailing whitespace : rstrip()"
   ]
  },
  {
   "cell_type": "code",
   "execution_count": null,
   "id": "9a705684",
   "metadata": {},
   "outputs": [],
   "source": [
    "### remove spacific character using strip"
   ]
  },
  {
   "cell_type": "code",
   "execution_count": 5,
   "id": "b4c3c19c",
   "metadata": {},
   "outputs": [
    {
     "name": "stdout",
     "output_type": "stream",
     "text": [
      "banana\n"
     ]
    }
   ],
   "source": [
    "txt = \",,,,,rrttgg.....banana....rrr\"\n",
    "\n",
    "x = txt.strip(\",.grt\")\n",
    "\n",
    "print(x)"
   ]
  },
  {
   "cell_type": "markdown",
   "id": "7b6b2b59",
   "metadata": {},
   "source": [
    "### replce strings"
   ]
  },
  {
   "cell_type": "code",
   "execution_count": 6,
   "id": "f2d25e4a",
   "metadata": {},
   "outputs": [
    {
     "name": "stdout",
     "output_type": "stream",
     "text": [
      "Jello, World!\n"
     ]
    }
   ],
   "source": [
    "a = \"Hello, World!\"\n",
    "print(a.replace(\"H\", \"J\"))"
   ]
  },
  {
   "cell_type": "markdown",
   "id": "eb57232d",
   "metadata": {},
   "source": [
    "### split string\n",
    "\n",
    "---> return list"
   ]
  },
  {
   "cell_type": "code",
   "execution_count": 13,
   "id": "38cc6958",
   "metadata": {},
   "outputs": [
    {
     "name": "stdout",
     "output_type": "stream",
     "text": [
      "['Hello,', 'World!']\n"
     ]
    }
   ],
   "source": [
    "a = \"Hello, World!\"\n",
    "print(a.split(\" \")) # returns ['Hello', ' World!']"
   ]
  },
  {
   "cell_type": "code",
   "execution_count": 14,
   "id": "3656f6f4",
   "metadata": {},
   "outputs": [
    {
     "name": "stdout",
     "output_type": "stream",
     "text": [
      "For only {price:.2f} dollars!\n"
     ]
    }
   ],
   "source": [
    "# === > capitalize()  = all fierst character capital\n",
    "\n",
    "# === > count() return count of character or word\n",
    "\n",
    "# == > find()   return index of specified element from string, if it;s word- return first index of word.  if not found return -1/\n",
    "\n",
    "# == > join()   Join element at the end of element of iterable and convert whole as string \n",
    "\n",
    "# ==> islower() True if all lower vica versa isupper() as well isnumeric(), \n",
    "# isspace() = if all space\n",
    "\n",
    "#== > \n"
   ]
  },
  {
   "cell_type": "code",
   "execution_count": 19,
   "id": "72276ee8",
   "metadata": {},
   "outputs": [
    {
     "name": "stdout",
     "output_type": "stream",
     "text": [
      "-1\n"
     ]
    }
   ],
   "source": [
    "txt = \"Hello, welcome to my world.\"\n",
    "\n",
    "x = txt.find(\"jg\")\n",
    "\n",
    "# i = txt.index(\"fh\")\n",
    "# print(i)\n",
    "\n",
    "print(x)\n"
   ]
  },
  {
   "cell_type": "code",
   "execution_count": null,
   "id": "cc32d62c",
   "metadata": {},
   "outputs": [],
   "source": [
    "#### join() example\n",
    "\n",
    "myDict = {\"name\": \"John\", \"country\": \"Norway\"}\n",
    "mySeparator = \"TEST\"\n",
    "\n",
    "x = mySeparator.join(myDict)\n",
    "\n",
    "print(x)"
   ]
  }
 ],
 "metadata": {
  "kernelspec": {
   "display_name": "Python 3",
   "language": "python",
   "name": "python3"
  },
  "language_info": {
   "codemirror_mode": {
    "name": "ipython",
    "version": 3
   },
   "file_extension": ".py",
   "mimetype": "text/x-python",
   "name": "python",
   "nbconvert_exporter": "python",
   "pygments_lexer": "ipython3",
   "version": "3.13.5"
  }
 },
 "nbformat": 4,
 "nbformat_minor": 5
}
