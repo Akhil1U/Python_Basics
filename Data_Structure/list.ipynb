{
 "cells": [
  {
   "cell_type": "code",
   "execution_count": null,
   "id": "9f455be5",
   "metadata": {},
   "outputs": [],
   "source": [
    "# Create a list of numbers from 1 to 10\n",
    "\n",
    "# Create a list of squares from 1 to 10\n",
    "\n",
    "# Convert a list of strings to uppercase\n",
    "\n",
    "# Filter even numbers from a list\n",
    "\n",
    "# Filter words longer than 4 letters from a list\n",
    "\n",
    "# Get lengths of all words in a list\n",
    "\n",
    "# Convert Celsius temperatures to Fahrenheit\n",
    "\n",
    "# Create a list of characters from a string\n",
    "\n",
    "# Add 5 to every element in a list\n",
    "\n",
    "# Remove vowels from a string\n",
    "\n",
    "#---------intermediate-------\n",
    "\n",
    "# Flatten a 2D list\n",
    "\n",
    "# Find common elements in two lists\n",
    "\n",
    "# Generate a list of tuples (x, x²) for x from 1 to 10\n",
    "\n",
    "# Label numbers as 'Even' or 'Odd'\n",
    "\n",
    "# Replace negative numbers with 0\n",
    "\n",
    "# Reverse each string in a list\n",
    "\n",
    "# Find all numbers between 1 and 100 divisible by 3 and 7\n",
    "\n",
    "# Extract digits from a given string\n",
    "\n",
    "# Remove all falsy values (like '', 0, None, False) from a list\n",
    "\n",
    "# List of ASCII values for each character in a string"
   ]
  },
  {
   "cell_type": "markdown",
   "id": "84e99e2c",
   "metadata": {},
   "source": [
    "### list methods"
   ]
  },
  {
   "cell_type": "code",
   "execution_count": null,
   "id": "643a4c9a",
   "metadata": {},
   "outputs": [],
   "source": [
    "# append()\tAdds an element at the end of the list\n",
    "# clear()\tRemoves all the elements from the list  ****\n",
    "# copy()\tReturns a copy of the list  ****\n",
    "# count()\tReturns the number of elements with the specified value ****\n",
    "# extend()\tAdd the elements of a list (or any iterable), to the end of the current list\n",
    "# index()\tReturns the index of the first element with the specified value  ****\n",
    "# insert()\tAdds an element at the specified position\n",
    "# pop()\tRemoves the element at the specified position  ****\n",
    "# remove()\tRemoves the item with the specified value\n",
    "# reverse()\tReverses the order of the list\n",
    "# sort()\tSorts the list\n",
    "\n",
    "\n",
    "# **** Return Values, other than **** return NONE\n"
   ]
  },
  {
   "cell_type": "markdown",
   "id": "5b28b844",
   "metadata": {},
   "source": [
    "### Replace list element using slicing"
   ]
  },
  {
   "cell_type": "code",
   "execution_count": null,
   "id": "e3967973",
   "metadata": {},
   "outputs": [
    {
     "name": "stdout",
     "output_type": "stream",
     "text": [
      "['apple', 'kiwi', 'mango', 'watermelon']\n"
     ]
    }
   ],
   "source": [
    "mylist = ['apple', 'banana', 'cherry']\n",
    "mylist[1:3] = [\"kiwi\", \"mango\",\"watermelon\"] # if here mylist[1:2] then it will replace with only one element.\n",
    "# here element 2nd and 3rd is replaced by mamngo and watermalon and kiwi\n",
    "print(mylist)   #we can use slicing to replace one or multiple element with multiple element (edited) "
   ]
  },
  {
   "cell_type": "markdown",
   "id": "c87c3742",
   "metadata": {},
   "source": [
    "### append()"
   ]
  },
  {
   "cell_type": "code",
   "execution_count": 2,
   "id": "fffc8dac",
   "metadata": {},
   "outputs": [
    {
     "name": "stdout",
     "output_type": "stream",
     "text": [
      "['apple', 'banana', 'cherry', 'orange']\n"
     ]
    }
   ],
   "source": [
    "thislist = [\"apple\", \"banana\", \"cherry\"]\n",
    "thislist.append(\"orange\")\n",
    "print(thislist)"
   ]
  },
  {
   "cell_type": "markdown",
   "id": "4cd47121",
   "metadata": {},
   "source": [
    "### sort()\n",
    "\n",
    "#### list.sort(reverse=True|False, key=myFunc)"
   ]
  },
  {
   "cell_type": "code",
   "execution_count": 1,
   "id": "bfdb852d",
   "metadata": {},
   "outputs": [
    {
     "name": "stdout",
     "output_type": "stream",
     "text": [
      "['pineapple', 'orange', 'mango', 'kiwi', 'banana']\n"
     ]
    }
   ],
   "source": [
    "thislist = [\"orange\", \"mango\", \"kiwi\", \"pineapple\", \"banana\"]\n",
    "thislist.sort(reverse = True)\n",
    "print(thislist)"
   ]
  },
  {
   "cell_type": "markdown",
   "id": "326d9fd0",
   "metadata": {},
   "source": [
    "### remove()"
   ]
  },
  {
   "cell_type": "code",
   "execution_count": 3,
   "id": "603ee6a2",
   "metadata": {},
   "outputs": [
    {
     "name": "stdout",
     "output_type": "stream",
     "text": [
      "['apple', 'cherry']\n"
     ]
    }
   ],
   "source": [
    "thislist = [\"apple\", \"banana\", \"cherry\"]\n",
    "thislist.remove(\"banana\")\n",
    "print(thislist)"
   ]
  },
  {
   "cell_type": "markdown",
   "id": "b985e596",
   "metadata": {},
   "source": [
    "### copy list\n",
    "#### You cannot copy a list simply by typing list2 = list1, because: list2 will only be a reference to list1, and changes made in list1 will automatically also be made in list2."
   ]
  },
  {
   "cell_type": "code",
   "execution_count": 5,
   "id": "6b1ee672",
   "metadata": {},
   "outputs": [
    {
     "name": "stdout",
     "output_type": "stream",
     "text": [
      "['apple', 'banana', 'cherry']\n",
      "2428519718304\n",
      "2428519718304\n",
      "2428519718304\n"
     ]
    }
   ],
   "source": [
    "# thislist = [\"apple\", \"banana\", \"cherry\"] \n",
    "# mylist = thislist.copy()\n",
    "# print(mylist)\n",
    "# print(id(thislist[0]))\n",
    "# print(id(mylist[0]))\n",
    "\n",
    "\n",
    "########## OTEHR WAY\n",
    "import copy\n",
    "thislist = [\"apple\", \"banana\", \"cherry\"]\n",
    "mylist = list(thislist)\n",
    "print(mylist)\n",
    "print(id(thislist[0]))\n",
    "print(id(mylist[0]))\n",
    "\n",
    "\n",
    "\n",
    "deepcopy = copy.deepcopy(thislist)\n",
    "print(id(deepcopy[0]))"
   ]
  },
  {
   "cell_type": "markdown",
   "id": "eeba25df",
   "metadata": {},
   "source": [
    "##  DIFERRENCE BETWEEN COPY() AND DEEP COPY\n",
    "#### copy create new object of list but take reference of all element from old list\n",
    "### but  \n",
    "### deep copy is totaly independed on old list, it also create new object for every element of the list."
   ]
  },
  {
   "cell_type": "markdown",
   "id": "fe38237a",
   "metadata": {},
   "source": [
    "### refer following example for shallow copy and deep copy"
   ]
  },
  {
   "cell_type": "code",
   "execution_count": null,
   "id": "ca751183",
   "metadata": {},
   "outputs": [],
   "source": [
    "import copy\n",
    "thislist = [[\"apple\"], \"banana\", \"cherry\"]\n",
    "print(id(thislist[0]))\n",
    "\n",
    "\n",
    "shallowcoppy = copy.copy(thislist)\n",
    "print(id(shallowcoppy[0]))\n",
    "\n",
    "\n",
    "deepcopy = copy.deepcopy(thislist)\n",
    "print(id(deepcopy[0]))"
   ]
  },
  {
   "cell_type": "markdown",
   "id": "62033447",
   "metadata": {},
   "source": [
    "### join()"
   ]
  },
  {
   "cell_type": "code",
   "execution_count": 7,
   "id": "a909211d",
   "metadata": {},
   "outputs": [
    {
     "name": "stdout",
     "output_type": "stream",
     "text": [
      "['a', 'b', 'c', 1, 2, 3]\n"
     ]
    }
   ],
   "source": [
    "list1 = [\"a\", \"b\", \"c\"]\n",
    "list2 = [1, 2, 3]\n",
    "\n",
    "list3 = list1 + list2\n",
    "print(list3)"
   ]
  },
  {
   "cell_type": "markdown",
   "id": "86a3a96e",
   "metadata": {},
   "source": [
    "### extend()\n",
    "#### list.extend(iterable)\n",
    "#### iterable\tRequired. Any iterable (list, set, tuple, etc.)"
   ]
  },
  {
   "cell_type": "code",
   "execution_count": null,
   "id": "00efc7f2",
   "metadata": {},
   "outputs": [],
   "source": [
    "list1 = [\"a\", \"b\" , \"c\"]  \n",
    "list2 = [1, 2, 3]\n",
    "\n",
    "list1.extend(list2)\n",
    "print(list1)"
   ]
  },
  {
   "cell_type": "markdown",
   "id": "c4e630b8",
   "metadata": {},
   "source": [
    "## Note \n",
    "### extend is iterable while append is not so append add element at the end of list."
   ]
  },
  {
   "cell_type": "markdown",
   "id": "b16211fd",
   "metadata": {},
   "source": [
    "### count() \n",
    "#### list.count(value)\n",
    "#### value\tRequired. Any type (string, number, list, tuple, etc.). The value to search for."
   ]
  },
  {
   "cell_type": "code",
   "execution_count": 8,
   "id": "04d10e32",
   "metadata": {},
   "outputs": [],
   "source": [
    "fruits = ['apple', 'banana', 'cherry']\n",
    "\n",
    "x = fruits.count(\"cherry\")"
   ]
  },
  {
   "cell_type": "markdown",
   "id": "cc890238",
   "metadata": {},
   "source": [
    "### index()\n",
    "#### list.index(elmnt, start, end)\n",
    "elmnt\tRequired. Any type (string, number, list, etc.). The element to search for  \n",
    "start\tOptional. A number representing where to start the search   \n",
    "end\tOptional. A number representing where to end the search  \n"
   ]
  },
  {
   "cell_type": "code",
   "execution_count": 20,
   "id": "07230e18",
   "metadata": {},
   "outputs": [
    {
     "name": "stdout",
     "output_type": "stream",
     "text": [
      "2\n",
      "6\n"
     ]
    }
   ],
   "source": [
    "fruits = ['apple', 'banana', 'cherry']\n",
    "\n",
    "x = fruits.index(\"cherry\")\n",
    "print(x)\n",
    "\n",
    "\n",
    "######\n",
    "fruits = ['apple', 'banana', 'cherry', 'kiwi', 'mango', 'orange', 'cherry']\n",
    "y = fruits.index(\"cherry\", 4) # it's only apply when there is dublicate element.\n",
    "print(y)"
   ]
  },
  {
   "cell_type": "markdown",
   "id": "78b778e6",
   "metadata": {},
   "source": [
    "### Note: The index() method only returns the first occurrence of the value."
   ]
  },
  {
   "cell_type": "markdown",
   "id": "5d31bd6c",
   "metadata": {},
   "source": [
    "### insert() \n",
    "### Note: The index() method only returns the first occurrence of the value.\n",
    "#### list.insert(pos, elmnt)\n",
    "pos\tRequired. A number specifying in which position to insert the value  \n",
    "elmnt\tRequired. An element of any type (string, number, object etc.)\n"
   ]
  },
  {
   "cell_type": "code",
   "execution_count": 21,
   "id": "74952467",
   "metadata": {},
   "outputs": [],
   "source": [
    "fruits = ['apple', 'banana', 'cherry']\n",
    "\n",
    "fruits.insert(1, \"orange\")\n"
   ]
  },
  {
   "cell_type": "markdown",
   "id": "a9d3248d",
   "metadata": {},
   "source": [
    "### pop() \n",
    "#### Note: The pop() method returns removed value.\n",
    "##### list.pop(index)"
   ]
  },
  {
   "cell_type": "code",
   "execution_count": null,
   "id": "604959ee",
   "metadata": {},
   "outputs": [
    {
     "data": {
      "text/plain": [
       "'banana'"
      ]
     },
     "execution_count": 22,
     "metadata": {},
     "output_type": "execute_result"
    }
   ],
   "source": [
    "fruits = ['apple', 'banana', 'cherry']\n",
    "\n",
    "fruits.pop(1) "
   ]
  },
  {
   "cell_type": "markdown",
   "id": "11bcb6c6",
   "metadata": {},
   "source": [
    "### remove()"
   ]
  },
  {
   "cell_type": "code",
   "execution_count": 25,
   "id": "09c33d4c",
   "metadata": {},
   "outputs": [
    {
     "name": "stdout",
     "output_type": "stream",
     "text": [
      "['apple', 'cherry']\n"
     ]
    }
   ],
   "source": [
    "fruits = ['apple', 'banana', 'cherry']\n",
    "\n",
    "fruits.remove(\"banana\")\n",
    "print(fruits)\n"
   ]
  },
  {
   "cell_type": "markdown",
   "id": "c0fbe4bf",
   "metadata": {},
   "source": [
    "### reverse()"
   ]
  },
  {
   "cell_type": "code",
   "execution_count": 26,
   "id": "74e210fb",
   "metadata": {},
   "outputs": [
    {
     "name": "stdout",
     "output_type": "stream",
     "text": [
      "['cherry', 'banana', 'apple']\n"
     ]
    }
   ],
   "source": [
    "fruits = ['apple', 'banana', 'cherry']\n",
    "\n",
    "fruits.reverse()\n",
    "print(fruits)"
   ]
  }
 ],
 "metadata": {
  "kernelspec": {
   "display_name": "Python 3",
   "language": "python",
   "name": "python3"
  },
  "language_info": {
   "codemirror_mode": {
    "name": "ipython",
    "version": 3
   },
   "file_extension": ".py",
   "mimetype": "text/x-python",
   "name": "python",
   "nbconvert_exporter": "python",
   "pygments_lexer": "ipython3",
   "version": "3.13.5"
  }
 },
 "nbformat": 4,
 "nbformat_minor": 5
}
