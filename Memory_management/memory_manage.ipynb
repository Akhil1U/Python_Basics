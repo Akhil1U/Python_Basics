{
 "cells": [
  {
   "cell_type": "markdown",
   "id": "defa534c",
   "metadata": {},
   "source": [
    "## How Python’s Memory Management Works\n",
    "\n",
    "Python’s memory management is an important part of its performance and efficiency.       \n",
    " Understanding how Python handles memory can help developers write better code and       \n",
    " optimize their applications. This beginner-friendly article explores Python’s memory       \n",
    " management, covering reference counting, garbage collection, and memory allocation strategies."
   ]
  },
  {
   "cell_type": "markdown",
   "id": "bc1e155f",
   "metadata": {},
   "source": [
    "# Reference Counting\n",
    "https://medium.com/@AlexanderObregon/how-pythons-memory-management-works-f832405ea3a3"
   ]
  },
  {
   "cell_type": "markdown",
   "id": "03ae4dd5",
   "metadata": {},
   "source": [
    "What is Reference Counting?    \n",
    "--->  Reference counting is a memory management technique used by Python to keep track of the number of references to each object.  \n",
    "\n",
    "--->  When an object’s reference count drops to zero, it means that the object is no longer in use and can be safely deallocated .  \n",
    "\n",
    "---> This method is simple yet effective for many memory management scenarios and forms the backbone of Python’s memory management system.    "
   ]
  },
  {
   "cell_type": "code",
   "execution_count": 1,
   "id": "4efd44f2",
   "metadata": {},
   "outputs": [
    {
     "name": "stdout",
     "output_type": "stream",
     "text": [
      "2\n",
      "3\n",
      "4\n",
      "3\n",
      "2\n"
     ]
    }
   ],
   "source": [
    "### Every Python object includes a reference count as part of its metadata. When you create a new object, its reference count is initialized to one.\n",
    "# As you assign this object to different variables or data structures, the reference count increases.\n",
    "#  Conversely, when you delete these references, the reference count decreases.\n",
    "\n",
    "\n",
    "import sys\n",
    "\n",
    "a = [1, 2, 3]\n",
    "print(sys.getrefcount(a))  # Outputs 2 because the reference count includes the argument to getrefcount\n",
    "\n",
    "b = a\n",
    "print(sys.getrefcount(a))  # Outputs 3\n",
    "\n",
    "c = a\n",
    "print(sys.getrefcount(a))  # Outputs 4\n",
    "\n",
    "del b\n",
    "print(sys.getrefcount(a))  # Outputs 3\n",
    "\n",
    "del c\n",
    "print(sys.getrefcount(a))  # Outputs 2\n",
    "\n",
    "del a\n",
    "# The reference count drops to 1, but because sys.getrefcount was called, the object is still in scope within that call"
   ]
  },
  {
   "cell_type": "markdown",
   "id": "d94efd7c",
   "metadata": {},
   "source": [
    "### Handling Circular References\n",
    "One of the main limitations of reference counting is    \n",
    "\n",
    "its inability to handle circular references, where two or more objects reference each other, forming a cycle.   \n",
    "In such cases, the reference count never drops to zero, leading to memory leaks."
   ]
  },
  {
   "cell_type": "markdown",
   "id": "847db7a3",
   "metadata": {},
   "source": [
    "Advantages of Reference Counting             \n",
    "Immediate Reclamation: Memory is freed immediately when the reference count drops to zero, which can lead to lower memory usage and less overhead compared to other garbage collection strategies that may only reclaim memory at certain intervals.      \n",
    "Simplicity: The implementation of reference counting is straightforward, making it easier to understand and debug.            \n",
    "Deterministic Destruction: Objects are destroyed as soon as they are no longer needed, which can be particularly useful for managing resources like file handles or network connections.\n",
    "\n",
    "..   \n",
    "...   \n",
    "...  \n",
    "Disadvantages of Reference Counting   \n",
    "Cyclic References: As mentioned, reference counting cannot handle cyclic references, which can lead to memory leaks.   \n",
    "Performance Overhead: Incrementing and decrementing reference counts adds overhead to every assignment and deletion operation, which can impact performance,    especially in programs with many short-lived objects.   \n",
    "Memory Overhead: Each object must store its reference count, adding to the memory footprint of objects.  "
   ]
  },
  {
   "cell_type": "markdown",
   "id": "688f3841",
   "metadata": {},
   "source": [
    "## Garbage Collection"
   ]
  },
  {
   "cell_type": "markdown",
   "id": "bb7fc5c6",
   "metadata": {},
   "source": [
    "--> Garbage collection (GC) is a mechanism that complements reference counting to  manage memory more effectively.     \n",
    "--> It is used to detect and reclaim memory occupied by objects that are no longer accessible, even if they are part of a reference cycle.     \n",
    "--> This is crucial for preventing memory leaks in applications where circular references might occur.  \n",
    "\n",
    "\n",
    "---> The GC mechanism is part of Python’s gc module, which provides tools to inspect and manipulate the garbage collection process.\n",
    "\n"
   ]
  },
  {
   "cell_type": "markdown",
   "id": "7cd92eb1",
   "metadata": {},
   "source": [
    "### How GC works--"
   ]
  },
  {
   "cell_type": "markdown",
   "id": "cb5cc08f",
   "metadata": {},
   "source": [
    "==> 1. Generation based collection:\n",
    "\n",
    "---> Python’s garbage collector divides objects into three generations based on their lifespan:\n",
    "\n",
    "A. Newly created objects are placed in the first generation (young generation).  \n",
    "B. Objects that survive garbage collection cycles are promoted to the second generation (middle generation)   \n",
    "\n",
    "C. eventually to the third generation (old generation).\n",
    "\n",
    "\n",
    "==> 2. Mark-and-Sweep Algorithm:\n",
    " use this algorithm to collect unreachable objects.   \n",
    "\n",
    " The GC traverses the objects graph starting from kown root objects(such as global variable and stack frames) then mark all as reachable objects.  \n",
    "\n",
    " collect al memory of unmarked objects, reclaiming their memory.\n",
    "\n",
    "\n",
    " ==> 3.   Thresholds and Triggers:\n",
    "\n",
    " GC trigger based on some thresholds, whihc are defined by the number of allocations and deallocations. when these threshold are axceeded, the garbage collector runs to clean up unused objects. \n",
    "\n",
    " ---> these thresholds can be adjusted using GC module.\n",
    "\n",
    "\n"
   ]
  },
  {
   "cell_type": "code",
   "execution_count": null,
   "id": "081fe8d5",
   "metadata": {},
   "outputs": [],
   "source": [
    "import gc\n",
    "\n",
    "\n",
    "\n",
    "gc.disable()  # Disable garbage collection\n",
    "# Perform performance-critical operations\n",
    "gc.enable()  # Re-enable garbage collection"
   ]
  },
  {
   "cell_type": "code",
   "execution_count": null,
   "id": "6e663005",
   "metadata": {},
   "outputs": [],
   "source": [
    "# Example of Tuning Garbage Collection\n",
    "# Here is an example of how to use the gc module to control and inspect garbage collection in a Python application:\n",
    "\n",
    "import gc\n",
    "\n",
    "# Disable automatic garbage collection\n",
    "gc.disable()\n",
    "\n",
    "# Perform operations that generate a lot of temporary objects\n",
    "temp_list = [i for i in range(10000)]\n",
    "temp_list = None  # Remove the reference to the list\n",
    "\n",
    "# Manually trigger garbage collection\n",
    "gc.collect()\n",
    "\n",
    "# Re-enable automatic garbage collection\n",
    "gc.enable()\n",
    "\n",
    "# Inspect the state of the garbage collector\n",
    "print(\"Garbage collection thresholds:\", gc.get_threshold())\n",
    "print(\"Number of objects in each generation:\", gc.get_count())\n"
   ]
  },
  {
   "cell_type": "markdown",
   "id": "b667e625",
   "metadata": {},
   "source": [
    "## memory allocation strategies"
   ]
  },
  {
   "cell_type": "markdown",
   "id": "29d50845",
   "metadata": {},
   "source": [
    "there is several memory allocation requests. these are designed to handle different types of memory requests, optimize performance and minimizing fragmentation.   "
   ]
  },
  {
   "cell_type": "markdown",
   "id": "8b0eaf45",
   "metadata": {},
   "source": [
    "1. Row memory allocators:\n",
    "\n",
    "--> thid directly interect with OS to allocate and deallocate memory bloacks. \n",
    "\n",
    "--> it is repsonsible for managing large memory requests and freeing memory back to system."
   ]
  },
  {
   "cell_type": "markdown",
   "id": "5bbb5dc5",
   "metadata": {},
   "source": [
    "2. Object - Specific Allocators:\n",
    "\n",
    "used for specific types of objects such as : Integer, strings, other build in types.\n",
    "\n",
    "--> tailor memory to the object by the need of specific objects.   \n"
   ]
  },
  {
   "cell_type": "markdown",
   "id": "9c0a03f2",
   "metadata": {},
   "source": [
    "3. Pymalloc:\n",
    "\n",
    "---> special allocators designed for small objects (less than 512 bytes) \n",
    "\n",
    "--> enhance performance by reducing overhead associated with frequent allocation and deallocation.\n"
   ]
  },
  {
   "cell_type": "markdown",
   "id": "bbd39438",
   "metadata": {},
   "source": [
    "Arenas, Pools, and Blocks   \n",
    "Python’s memory management system organizes memory into arenas, pools, and blocks to manage different sizes of memory requests:     \n",
    "\n",
    "Arenas: Large contiguous memory regions (256 KB each) allocated by the raw memory allocator. Each arena is subdivided into smaller pools.     \n",
    "\n",
    "Pools: Fixed-size memory blocks (4 KB each) within an arena, used to manage small objects. Each pool is dedicated to objects of a specific size class.   \n",
    "\n",
    "Blocks: The smallest units of memory within a pool, where individual objects are allocated. Each block is of a fixed size, corresponding to the size class of its pool."
   ]
  }
 ],
 "metadata": {
  "kernelspec": {
   "display_name": "Python 3",
   "language": "python",
   "name": "python3"
  },
  "language_info": {
   "codemirror_mode": {
    "name": "ipython",
    "version": 3
   },
   "file_extension": ".py",
   "mimetype": "text/x-python",
   "name": "python",
   "nbconvert_exporter": "python",
   "pygments_lexer": "ipython3",
   "version": "3.13.5"
  }
 },
 "nbformat": 4,
 "nbformat_minor": 5
}
