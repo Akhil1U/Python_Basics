{
 "cells": [
  {
   "cell_type": "markdown",
   "id": "d1e5c361",
   "metadata": {},
   "source": [
    "# Numpy"
   ]
  },
  {
   "cell_type": "markdown",
   "id": "06dd78a5",
   "metadata": {},
   "source": [
    "#### ===> NumPy is a high-performance multidimensional array processing library in Python.     \n",
    "        \n",
    "#### ===> Numpy - Numeric Python"
   ]
  },
  {
   "cell_type": "markdown",
   "id": "a84d7a6b",
   "metadata": {},
   "source": [
    "### Why Numpy ?\n",
    "\n",
    "---> we have python list but it's slow to process.  so Numpy provides array object which is 50x faster than traditional list.\n",
    "    \n",
    "---> array object called as Ndarray, lot of supporting function to make easy working"
   ]
  },
  {
   "cell_type": "markdown",
   "id": "b541cf0f",
   "metadata": {},
   "source": [
    "### Why Numpy is faster than List ?\n",
    "\n",
    "---> NumPy arrays are stored at one continuous place in memory unlike lists, so processes can access and manipulate them very efficiently.    \n",
    "   \n",
    "---> This behavior is called locality of reference in computer science.   \n",
    "    \n",
    "--->This is the main reason why NumPy is faster than lists. Also it is optimized to work with latest CPU architectures.   \n",
    "\n",
    "#### ⚡ NumPy arrays are faster than ever when:   \n",
    "\n",
    "--->    You're working with big arrays or matrices.    \n",
    "       \n",
    "---> You're doing matrix multiplication, statistics, or signal processing.              \n",
    "            \n",
    "---> Your operations are vectorizable (can be done in bulk).        "
   ]
  },
  {
   "cell_type": "markdown",
   "id": "f32484e0",
   "metadata": {},
   "source": [
    "#### C implementation in Numpy (high level overview)\n",
    "\n",
    " ---> its core functionality is implemented in C for speed.   \n",
    "\n",
    " ---> Python APi: High level interface for use (e.g., np.array()...)  \n",
    " \n",
    " --->C API: core performance critical written in c.\n",
    "\n",
    " ---> BLAS/LAPACK : External libraries used for linear algebra (matrix operations) - [Fortran libraries]\n",
    "\n",
    " ---> Compiler/CPU: Vectorized instructions (SSE/AVX/NEON) leveraged when possible "
   ]
  }
 ],
 "metadata": {
  "language_info": {
   "name": "python"
  }
 },
 "nbformat": 4,
 "nbformat_minor": 5
}
