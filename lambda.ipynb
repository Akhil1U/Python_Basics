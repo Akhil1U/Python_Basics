{
 "cells": [
  {
   "cell_type": "markdown",
   "id": "98ad4291",
   "metadata": {},
   "source": [
    "# lambda\n",
    "\n",
    "### anonymous(without name) | Any number of args | only one expression\n",
    "\n",
    "\n",
    "lambda arguments : expression\n",
    "\n",
    "### use : As anonymous function in function"
   ]
  },
  {
   "cell_type": "code",
   "execution_count": 14,
   "id": "8ca28518",
   "metadata": {},
   "outputs": [
    {
     "name": "stdout",
     "output_type": "stream",
     "text": [
      "20\n"
     ]
    }
   ],
   "source": [
    "lambda1 = lambda a, b : a*b\n",
    "print(lambda1(4,5))\n",
    "\n"
   ]
  },
  {
   "cell_type": "markdown",
   "id": "fd4d5d64",
   "metadata": {},
   "source": [
    "#### we can also use lamda fuction inside print() function"
   ]
  },
  {
   "cell_type": "code",
   "execution_count": 12,
   "id": "89b57b45",
   "metadata": {},
   "outputs": [
    {
     "name": "stdout",
     "output_type": "stream",
     "text": [
      "30\n"
     ]
    }
   ],
   "source": [
    "print((lambda a, b : a*b)(5,6))"
   ]
  },
  {
   "cell_type": "code",
   "execution_count": 4,
   "id": "92fa3a7c",
   "metadata": {},
   "outputs": [
    {
     "name": "stdout",
     "output_type": "stream",
     "text": [
      "6\n"
     ]
    }
   ],
   "source": [
    "def mydoubler(Value):\n",
    "    return lambda a : a*Value\n",
    "\n",
    "result = mydoubler(3)\n",
    "print(result(2))"
   ]
  },
  {
   "cell_type": "code",
   "execution_count": null,
   "id": "f484cdc0",
   "metadata": {},
   "outputs": [
    {
     "name": "stdout",
     "output_type": "stream",
     "text": [
      "22\n",
      "12\n"
     ]
    }
   ],
   "source": [
    "def myfunc(n):\n",
    "  return lambda a : a * n\n",
    "\n",
    "mydoubler = myfunc(2) # i.e, n\n",
    "mytripler = myfunc(3) # i.e, n\n",
    "\n",
    "print(mydoubler(11))   # i.e, a\n",
    "print(mytripler(4))  # i.e, a"
   ]
  },
  {
   "cell_type": "code",
   "execution_count": null,
   "id": "1472d230",
   "metadata": {},
   "outputs": [
    {
     "name": "stdout",
     "output_type": "stream",
     "text": [
      "5\n",
      "6\n"
     ]
    }
   ],
   "source": [
    "# maximum using lambda\n",
    "\n",
    "maximum = lambda a,b :a if a > b else b ## lambda a,b : this i.e., a if a > b else print(this)\n",
    "print(maximum(input(),input()))  \n",
    "print(maximum(5,6))  # this will not override but give another outpur..!"
   ]
  },
  {
   "cell_type": "markdown",
   "id": "987465b4",
   "metadata": {},
   "source": [
    "## lambda with filter"
   ]
  },
  {
   "cell_type": "code",
   "execution_count": 6,
   "id": "82a4da74",
   "metadata": {},
   "outputs": [
    {
     "name": "stdout",
     "output_type": "stream",
     "text": [
      "[2, 4, 8]\n"
     ]
    }
   ],
   "source": [
    "nums = [1,2,3,4,1,5,7,8,9]\n",
    "even = list(filter(lambda x : x % 2 ==0,nums))\n",
    "print(even)\n",
    "\n"
   ]
  },
  {
   "cell_type": "code",
   "execution_count": null,
   "id": "962e1539",
   "metadata": {},
   "outputs": [
    {
     "name": "stdout",
     "output_type": "stream",
     "text": [
      "[{'name': 'Bob', 'active': False}]\n"
     ]
    }
   ],
   "source": [
    "users = [\n",
    "    {\"name\": \"Alice\", \"active\": True},\n",
    "    {\"name\": \"Bob\", \"active\": False},\n",
    "    {\"name\": \"Carol\", \"active\": True}\n",
    "]\n",
    "\n",
    "active_users = list(filter(lambda user: not user[\"active\"], users))   \n",
    "print(active_users)"
   ]
  },
  {
   "cell_type": "markdown",
   "id": "269ec286",
   "metadata": {},
   "source": [
    "## lambda with Map function"
   ]
  },
  {
   "cell_type": "code",
   "execution_count": 15,
   "id": "544fbda7",
   "metadata": {},
   "outputs": [
    {
     "name": "stdout",
     "output_type": "stream",
     "text": [
      "['a1x', 'b2y', 's3z']\n"
     ]
    }
   ],
   "source": [
    "iterabel1 = ('a','b','s')\n",
    "iterabel2 = ('1','2','3')\n",
    "list1 = ['x','y','z']\n",
    "\n",
    "concate = list(map(lambda x,y,z: x + (y +z),iterabel1,iterabel2,list1))\n",
    "print(concate)"
   ]
  },
  {
   "cell_type": "markdown",
   "id": "0e7179b0",
   "metadata": {},
   "source": [
    "### lambda with sorted()"
   ]
  },
  {
   "cell_type": "code",
   "execution_count": 18,
   "id": "c05aa687",
   "metadata": {},
   "outputs": [
    {
     "name": "stdout",
     "output_type": "stream",
     "text": [
      "[(3, 1), (2, 2), (1, 3)]\n"
     ]
    }
   ],
   "source": [
    "# Sort a list of tuples by the second element\n",
    "pairs = [(1, 3), (2, 2), (3, 1)]\n",
    "sorted_pairs = sorted(pairs, key=lambda x: x[0],reverse=True)\n",
    "print(sorted_pairs)  # Output: [(3, 1), (2, 2), (1, 3)]\n"
   ]
  }
 ],
 "metadata": {
  "kernelspec": {
   "display_name": "Python 3",
   "language": "python",
   "name": "python3"
  },
  "language_info": {
   "codemirror_mode": {
    "name": "ipython",
    "version": 3
   },
   "file_extension": ".py",
   "mimetype": "text/x-python",
   "name": "python",
   "nbconvert_exporter": "python",
   "pygments_lexer": "ipython3",
   "version": "3.13.5"
  }
 },
 "nbformat": 4,
 "nbformat_minor": 5
}
