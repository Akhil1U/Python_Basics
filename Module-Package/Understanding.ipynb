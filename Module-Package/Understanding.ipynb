{
 "cells": [
  {
   "cell_type": "markdown",
   "id": "3f6f6522",
   "metadata": {},
   "source": [
    "## what is module and Package.\n",
    "  \n",
    "\n",
    "## here we see, how module and package can work together.\n",
    "\n",
    "=====>>> let's understand module and package by using create one python package and inside that package we gonna create module \n",
    "\n"
   ]
  },
  {
   "cell_type": "markdown",
   "id": "b0afb23b",
   "metadata": {},
   "source": [
    "### what is module.\n",
    "\n",
    "===> it is use for structuring the code and make accessable with particular syntax.   \n",
    "===> it is basically single file when we call their fuction/mehtod into another file, it will be module.\n",
    "\n",
    "Example  \n"
   ]
  },
  {
   "cell_type": "code",
   "execution_count": 3,
   "id": "b631e558",
   "metadata": {},
   "outputs": [],
   "source": [
    "# my_module.py\n",
    "# def greet(name):\n",
    "#     return f\"Hello, {name}!\"\n",
    "\n",
    "# class MyClass:\n",
    "#     def __init__(self, value):\n",
    "#         self.value = value\n",
    "\n",
    "#     def get_value(self):\n",
    "#         return self.value"
   ]
  },
  {
   "cell_type": "code",
   "execution_count": 4,
   "id": "3934b732",
   "metadata": {},
   "outputs": [],
   "source": [
    "# # main.py\n",
    "# import my_module\n",
    "\n",
    "# message = my_module.greet(\"Alice\")\n",
    "# print(message)\n",
    "\n",
    "# obj = my_module.MyClass(10)\n",
    "# print(obj.get_value())"
   ]
  },
  {
   "cell_type": "code",
   "execution_count": null,
   "id": "aad8f7fd",
   "metadata": {},
   "outputs": [],
   "source": []
  },
  {
   "cell_type": "markdown",
   "id": "58d34f95",
   "metadata": {},
   "source": [
    "## What is package\n",
    "\n",
    "\n",
    "===> package is basically way to organizw multiple module in hierarchy.   \n",
    " \n",
    "===> to be recognize as package it must contain __init__.py. this tell python interpreter  that this is package\n",
    "\n",
    "===> package provides structured code for larger project."
   ]
  }
 ],
 "metadata": {
  "kernelspec": {
   "display_name": "Python 3",
   "language": "python",
   "name": "python3"
  },
  "language_info": {
   "codemirror_mode": {
    "name": "ipython",
    "version": 3
   },
   "file_extension": ".py",
   "mimetype": "text/x-python",
   "name": "python",
   "nbconvert_exporter": "python",
   "pygments_lexer": "ipython3",
   "version": "3.13.5"
  }
 },
 "nbformat": 4,
 "nbformat_minor": 5
}
