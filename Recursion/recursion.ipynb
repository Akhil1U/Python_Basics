{
 "cells": [
  {
   "cell_type": "markdown",
   "id": "23dc2a3c",
   "metadata": {},
   "source": [
    "# Recursion\n",
    "\n",
    "## defined function can call itself."
   ]
  },
  {
   "cell_type": "code",
   "execution_count": 10,
   "id": "4f1013d2",
   "metadata": {},
   "outputs": [
    {
     "name": "stdout",
     "output_type": "stream",
     "text": [
      "55\n"
     ]
    }
   ],
   "source": [
    "def ex_recursion(Integer):\n",
    "    if(Integer > 0):\n",
    "        result = Integer + ex_recursion(Integer -1)\n",
    "        # print(result)\n",
    "    else:\n",
    "       result = 0\n",
    "    return result\n",
    "\n",
    "print(ex_recursion(10))"
   ]
  },
  {
   "cell_type": "code",
   "execution_count": 13,
   "id": "42721a3a",
   "metadata": {},
   "outputs": [
    {
     "name": "stdout",
     "output_type": "stream",
     "text": [
      "120\n"
     ]
    }
   ],
   "source": [
    "def factorial(Numeric):\n",
    "    if Numeric > 0:\n",
    "        return Numeric * factorial(Numeric-1)\n",
    "    else:\n",
    "        return 1\n",
    "    \n",
    "\n",
    "print(factorial(5))\n",
    "    "
   ]
  },
  {
   "cell_type": "code",
   "execution_count": null,
   "id": "9971de75",
   "metadata": {},
   "outputs": [],
   "source": []
  }
 ],
 "metadata": {
  "kernelspec": {
   "display_name": "Python 3",
   "language": "python",
   "name": "python3"
  },
  "language_info": {
   "codemirror_mode": {
    "name": "ipython",
    "version": 3
   },
   "file_extension": ".py",
   "mimetype": "text/x-python",
   "name": "python",
   "nbconvert_exporter": "python",
   "pygments_lexer": "ipython3",
   "version": "3.13.5"
  }
 },
 "nbformat": 4,
 "nbformat_minor": 5
}
