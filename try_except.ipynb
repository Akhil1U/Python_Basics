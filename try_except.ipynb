{
 "cells": [
  {
   "cell_type": "markdown",
   "id": "9e934930",
   "metadata": {},
   "source": [
    "# try - except\n",
    "\n",
    "\n",
    "### it used to manage and handle run time error and it allow to execute code without rise an error.\n",
    "\n",
    "--->The try block lets you test a block of code for errors.   \n",
    "\n",
    "---> except block lets you handle the error.\n",
    "\n",
    "---> else block lets you execute code when there is no error.\n",
    "\n",
    "---> The finally block lets you execute code, regardless of the result of the try- and except blocks."
   ]
  },
  {
   "cell_type": "markdown",
   "id": "2410fd5a",
   "metadata": {},
   "source": [
    "### Buit in exception in python\n",
    "\n",
    "ZeroDivisionError -- when  you devide integer by zero  \n",
    "\n",
    "TypeError -- --------\"hello\" + 5 , 123.upper() - this type of mistack can rise this error     \n",
    "\n",
    "ValueError ---------int(\"abc\"), math.sqrt(-1),   a, b = [1, 2, 3],  list.remove() \n",
    "\n",
    "IndexError --------- index out of range,  rise normaly when we work with iterabels  \n",
    "\n",
    "KeyError --------------in dict when try to access value using key which is not exist in dict,  typos, \n",
    "\n",
    "FileNotFoundError------- subclass of OsError, when try to access file or dir from precise location which is not overthere, typos in file defination, permission issue  \n",
    "\n",
    "ImportError ----------- related to python module import,  when module nor exist, incorrect spell, env path issue, when 2 module call each other  \n",
    "\n",
    "AtributeError--------   i = 10; i[0] = 10 this type of mistack rise, call methos, 'int' object has no attribute 'append' where int replaced by any object"
   ]
  },
  {
   "cell_type": "code",
   "execution_count": 3,
   "id": "fb2eaa13",
   "metadata": {},
   "outputs": [
    {
     "ename": "AttributeError",
     "evalue": "'int' object has no attribute 'append'",
     "output_type": "error",
     "traceback": [
      "\u001b[31m---------------------------------------------------------------------------\u001b[39m",
      "\u001b[31mAttributeError\u001b[39m                            Traceback (most recent call last)",
      "\u001b[36mCell\u001b[39m\u001b[36m \u001b[39m\u001b[32mIn[3]\u001b[39m\u001b[32m, line 4\u001b[39m\n\u001b[32m      1\u001b[39m X = \u001b[32m10\u001b[39m\n\u001b[32m      3\u001b[39m \u001b[38;5;66;03m# Raises an AttributeError\u001b[39;00m\n\u001b[32m----> \u001b[39m\u001b[32m4\u001b[39m \u001b[43mX\u001b[49m\u001b[43m.\u001b[49m\u001b[43mappend\u001b[49m(\u001b[32m6\u001b[39m)\n",
      "\u001b[31mAttributeError\u001b[39m: 'int' object has no attribute 'append'"
     ]
    }
   ],
   "source": [
    "X = 10\n",
    "\n",
    "# Raises an AttributeError\n",
    "X.append(6)"
   ]
  },
  {
   "cell_type": "markdown",
   "id": "430998fa",
   "metadata": {},
   "source": [
    "### try block"
   ]
  },
  {
   "cell_type": "code",
   "execution_count": 4,
   "id": "510f3edd",
   "metadata": {},
   "outputs": [
    {
     "name": "stdout",
     "output_type": "stream",
     "text": [
      "An exception occurred\n"
     ]
    }
   ],
   "source": [
    "try:\n",
    "  print(x)\n",
    "except:\n",
    "  print(\"An exception occurred\")"
   ]
  },
  {
   "cell_type": "code",
   "execution_count": 5,
   "id": "7268a473",
   "metadata": {},
   "outputs": [
    {
     "name": "stdout",
     "output_type": "stream",
     "text": [
      "Variable x is not defined\n"
     ]
    }
   ],
   "source": [
    "try:\n",
    "  print(x)\n",
    "except NameError:\n",
    "  print(\"Variable x is not defined\")\n",
    "except:\n",
    "  print(\"Something else went wrong\")"
   ]
  },
  {
   "cell_type": "markdown",
   "id": "0fa11ae7",
   "metadata": {},
   "source": [
    "### Final block"
   ]
  },
  {
   "cell_type": "code",
   "execution_count": null,
   "id": "bee381a3",
   "metadata": {},
   "outputs": [
    {
     "name": "stdout",
     "output_type": "stream",
     "text": [
      "Something went wrong\n",
      "The 'try except' is finished\n"
     ]
    }
   ],
   "source": [
    "try:\n",
    "  print(x)\n",
    "except:\n",
    "  print(\"Something went wrong\")\n",
    "finally:\n",
    "  print(\"The 'try except' is finished\")\n",
    "\n",
    "  "
   ]
  },
  {
   "cell_type": "markdown",
   "id": "86b42c87",
   "metadata": {},
   "source": [
    "## rise keyword\n",
    "### To throw (or raise) an exception, use the raise keyword."
   ]
  },
  {
   "cell_type": "code",
   "execution_count": 4,
   "id": "dd563978",
   "metadata": {},
   "outputs": [
    {
     "ename": "Exception",
     "evalue": "Sorry, no numbers below zero",
     "output_type": "error",
     "traceback": [
      "\u001b[31m---------------------------------------------------------------------------\u001b[39m",
      "\u001b[31mException\u001b[39m                                 Traceback (most recent call last)",
      "\u001b[36mCell\u001b[39m\u001b[36m \u001b[39m\u001b[32mIn[4]\u001b[39m\u001b[32m, line 4\u001b[39m\n\u001b[32m      1\u001b[39m x = \u001b[32m1\u001b[39m\n\u001b[32m      3\u001b[39m \u001b[38;5;28;01mif\u001b[39;00m \u001b[38;5;129;01mnot\u001b[39;00m x < \u001b[32m1\u001b[39m:\n\u001b[32m----> \u001b[39m\u001b[32m4\u001b[39m   \u001b[38;5;28;01mraise\u001b[39;00m \u001b[38;5;167;01mException\u001b[39;00m(\u001b[33m\"\u001b[39m\u001b[33mSorry, no numbers below zero\u001b[39m\u001b[33m\"\u001b[39m)\n",
      "\u001b[31mException\u001b[39m: Sorry, no numbers below zero"
     ]
    }
   ],
   "source": [
    "x = 1\n",
    "\n",
    "if not x < 1:\n",
    "  raise Exception(\"Sorry, no numbers below zero\")"
   ]
  },
  {
   "cell_type": "code",
   "execution_count": 8,
   "id": "be99a847",
   "metadata": {},
   "outputs": [
    {
     "ename": "TypeError",
     "evalue": "Only integers are allowed",
     "output_type": "error",
     "traceback": [
      "\u001b[31m---------------------------------------------------------------------------\u001b[39m",
      "\u001b[31mTypeError\u001b[39m                                 Traceback (most recent call last)",
      "\u001b[36mCell\u001b[39m\u001b[36m \u001b[39m\u001b[32mIn[8]\u001b[39m\u001b[32m, line 4\u001b[39m\n\u001b[32m      1\u001b[39m x = \u001b[33m\"\u001b[39m\u001b[33mhello\u001b[39m\u001b[33m\"\u001b[39m\n\u001b[32m      3\u001b[39m \u001b[38;5;28;01mif\u001b[39;00m \u001b[38;5;129;01mnot\u001b[39;00m \u001b[38;5;28mtype\u001b[39m(x) \u001b[38;5;129;01mis\u001b[39;00m \u001b[38;5;28mint\u001b[39m:\n\u001b[32m----> \u001b[39m\u001b[32m4\u001b[39m   \u001b[38;5;28;01mraise\u001b[39;00m \u001b[38;5;167;01mTypeError\u001b[39;00m(\u001b[33m\"\u001b[39m\u001b[33mOnly integers are allowed\u001b[39m\u001b[33m\"\u001b[39m)\n",
      "\u001b[31mTypeError\u001b[39m: Only integers are allowed"
     ]
    }
   ],
   "source": [
    "x = \"hello\"\n",
    "\n",
    "if not type(x) is int:\n",
    "  raise TypeError(\"Only integers are allowed\")"
   ]
  },
  {
   "cell_type": "markdown",
   "id": "c8522493",
   "metadata": {},
   "source": [
    "# Custom Exception"
   ]
  },
  {
   "cell_type": "code",
   "execution_count": null,
   "id": "49bdf50f",
   "metadata": {},
   "outputs": [
    {
     "name": "stdout",
     "output_type": "stream",
     "text": [
      "Custom Exception Caught: Age cannot be negative\n"
     ]
    }
   ],
   "source": [
    "class NegativeAgeError(Exception): # subclassing Exception\n",
    "    pass\n",
    "\n",
    "def set_age(age):\n",
    "    if age < 0:\n",
    "        raise NegativeAgeError(\"Age cannot be negative\")\n",
    "    print(f\"Age is {age}\")\n",
    "\n",
    "###------------------------------------------------------------\n",
    "try:\n",
    "    set_age(-1)\n",
    "except NegativeAgeError as e:\n",
    "    print(f\"Custom Exception Caught: {e}\")"
   ]
  },
  {
   "cell_type": "code",
   "execution_count": 10,
   "id": "c6f49e77",
   "metadata": {},
   "outputs": [
    {
     "name": "stdout",
     "output_type": "stream",
     "text": [
      "Execution complete.\n",
      "The file does not exist.\n"
     ]
    }
   ],
   "source": [
    "def read_file(filename):\n",
    "    try:\n",
    "        with open(filename, \"r\") as file:\n",
    "            return file.read()\n",
    "    except FileNotFoundError:\n",
    "        return \"The file does not exist.\"\n",
    "    except PermissionError:\n",
    "        return \"Permission denied.\"\n",
    "    finally:\n",
    "        print(\"Execution complete.\")\n",
    "\n",
    "print(read_file(\"example.txt\"))\n"
   ]
  }
 ],
 "metadata": {
  "kernelspec": {
   "display_name": "Python 3",
   "language": "python",
   "name": "python3"
  },
  "language_info": {
   "codemirror_mode": {
    "name": "ipython",
    "version": 3
   },
   "file_extension": ".py",
   "mimetype": "text/x-python",
   "name": "python",
   "nbconvert_exporter": "python",
   "pygments_lexer": "ipython3",
   "version": "3.13.5"
  }
 },
 "nbformat": 4,
 "nbformat_minor": 5
}
