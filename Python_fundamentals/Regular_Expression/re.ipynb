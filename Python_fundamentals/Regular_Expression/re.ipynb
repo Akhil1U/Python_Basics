{
 "cells": [
  {
   "cell_type": "markdown",
   "id": "525c5bf9",
   "metadata": {},
   "source": [
    "# REgular Expression\n",
    "\n",
    "===>> Regular expression is sequence of character that search pattern in string. used to match,locate,manuplate text based,"
   ]
  },
  {
   "cell_type": "markdown",
   "id": "0defa053",
   "metadata": {},
   "source": [
    "python has a built-in package re."
   ]
  },
  {
   "cell_type": "markdown",
   "id": "72d57be7",
   "metadata": {},
   "source": [
    "### RE functions\n",
    "\n",
    "findall() = return a list contain all matches   \n",
    "\n",
    "search()  = return all match object if there is match in string  \n",
    "\n",
    "split()\t  = split and Return list of substring based on defined pattern.   \n",
    "\n",
    "sub()\t  = Replaces one or many matches with a string.   "
   ]
  },
  {
   "cell_type": "markdown",
   "id": "6a0c7dd1",
   "metadata": {},
   "source": [
    "### Meta character"
   ]
  },
  {
   "cell_type": "code",
   "execution_count": null,
   "id": "ee3840b3",
   "metadata": {},
   "outputs": [],
   "source": [
    "# []---> sequence of character           [a-m]\n",
    "# \\ ---->signals a special characters    \\d    \n",
    "# . ---->any character()                \"he..o\"  --any char after he\n",
    "# ^ ----->start with                    \"^hello\"\n",
    "# $ ----->end with              \n",
    "# * ----->zero or more occurences         \"he*o\" any thing at place of *   \n",
    "# + ----->one or more occurences                              \n",
    "# ? ----->zero or one occurences            \n",
    "# {} ----->exact number of occurences                                   \n",
    "# |-----> either or                      hello|jello - or \n",
    "# () ----->capture and group        \n"
   ]
  },
  {
   "cell_type": "markdown",
   "id": "d387e5ee",
   "metadata": {},
   "source": [
    "### Special sequence \\"
   ]
  },
  {
   "cell_type": "code",
   "execution_count": null,
   "id": "8d2cccd8",
   "metadata": {},
   "outputs": [],
   "source": [
    "# \\Athe  ---> return match id specified character at biginning \n",
    "# \\b --->   return match if char at end or at biginning\n",
    "# \\B ---> if not at biginning or at end \n",
    "# \\d ---> if string contain number 0 - 9\n",
    "# \\D ----> if not 0-9 \n",
    "# \\s ---> if white space \n",
    "# \\S ---> if not white space \n",
    "# \\w ---> if any (a-Z,0-9,underscore)\n",
    "# \\W ---> if not \n",
    "# \\Z ---> return match if specified char are at the end of string"
   ]
  },
  {
   "cell_type": "markdown",
   "id": "b3d0b7d2",
   "metadata": {},
   "source": [
    "### Sets of pair"
   ]
  },
  {
   "cell_type": "code",
   "execution_count": null,
   "id": "85de435d",
   "metadata": {},
   "outputs": [],
   "source": [
    "# [arm] --->   from arm any one character present\n",
    "# [a-n] -->    lower case between a-n\n",
    "# [^arm]-->    any character except a,r,n\n",
    "# [0123] -----> 0123 any present \n",
    "# [0-9] ------> 0-9 if any present\n",
    "# [0-5][0-9] -->2 digit number, first digit till 5, second till 9 so highest is 59\n",
    "# [a-zA-Z] ---> a to Z both case\n",
    "# [+] --->      in set, not meaning of +-.|()${} so return if \"+\"\" present "
   ]
  },
  {
   "cell_type": "markdown",
   "id": "b6337b27",
   "metadata": {},
   "source": [
    "### Flags"
   ]
  },
  {
   "cell_type": "code",
   "execution_count": null,
   "id": "452866e4",
   "metadata": {},
   "outputs": [],
   "source": [
    "# re.A ---> return only ASCII matches\n",
    "# re.DEBUG---> return debug informatin\n",
    "# re.S ---> makes the . character to match all character including new line\n",
    "# re.I ---> ignore case upper lowe are same\n",
    "# re.M ---> only match ar biginning of line\n",
    "# re.U ---> return unicode matches\n",
    "\n",
    "# re.X ---> allow white space and comments inside string"
   ]
  },
  {
   "cell_type": "code",
   "execution_count": 52,
   "id": "3523ae34",
   "metadata": {},
   "outputs": [
    {
     "name": "stdout",
     "output_type": "stream",
     "text": [
      "['ai', 'ai']\n",
      "[]\n"
     ]
    }
   ],
   "source": [
    "import re\n",
    "\n",
    "txt = \"the rain in a spain\"\n",
    "x = re.findall(\"ai\",txt)\n",
    "print(x)\n",
    "\n",
    "y = re.findall(\"jfj\",txt)\n",
    "print(y)\n",
    "\n"
   ]
  },
  {
   "cell_type": "code",
   "execution_count": null,
   "id": "c1387eca",
   "metadata": {},
   "outputs": [
    {
     "name": "stdout",
     "output_type": "stream",
     "text": [
      "<re.Match object; span=(5, 6), match=' '>\n",
      "\n",
      "[' ', ' ', ' ', ' ', ' ', ' ']\n"
     ]
    }
   ],
   "source": [
    "import re\n",
    "txt = \"hello this is regular  expression \"\n",
    "search_whitespace = re.search(r\"\\s\",txt)    ## ! use r (row string) to avoid syntax error\n",
    "print(search_whitespace)\n",
    "print()\n",
    "## find all whhite space\n",
    "find_whitespace = re.findall(r\"\\s\",txt)\n",
    "print(find_whitespace)"
   ]
  },
  {
   "cell_type": "code",
   "execution_count": 48,
   "id": "2eb910ce",
   "metadata": {},
   "outputs": [
    {
     "name": "stdout",
     "output_type": "stream",
     "text": [
      "[\"let's\", 'split  this string']\n"
     ]
    }
   ],
   "source": [
    "import re\n",
    "txt = \"let's split  this string\"\n",
    "split_txt = re.split(r\" \",txt,maxsplit=1)  # why 1 - split from fist occurence, \n",
    "print(split_txt)"
   ]
  },
  {
   "cell_type": "code",
   "execution_count": null,
   "id": "c4c42581",
   "metadata": {},
   "outputs": [
    {
     "name": "stdout",
     "output_type": "stream",
     "text": [
      "add 0 string in replace of other string\n"
     ]
    }
   ],
   "source": [
    "import re\n",
    "txt = \"add string in replace of other string\"\n",
    "sub_txt = re.sub(r\"\\s\",\" 0 \",txt,count=1) # count is optional\n",
    "print(sub_txt)"
   ]
  },
  {
   "cell_type": "code",
   "execution_count": 58,
   "id": "8597d04b",
   "metadata": {},
   "outputs": [
    {
     "name": "stdout",
     "output_type": "stream",
     "text": [
      "<re.Match object; span=(5, 7), match='ai'>\n",
      "(5, 7)\n",
      "the rain in a spain\n",
      "ai\n"
     ]
    }
   ],
   "source": [
    "##########-----search methods------------\n",
    "\n",
    "search = re.search(\"ai\",txt) # search return only first occurence !!\n",
    "print(search)\n",
    "print(search.span())\n",
    "print(search.string)\n",
    "print(search.group())"
   ]
  }
 ],
 "metadata": {
  "kernelspec": {
   "display_name": "Python 3",
   "language": "python",
   "name": "python3"
  },
  "language_info": {
   "codemirror_mode": {
    "name": "ipython",
    "version": 3
   },
   "file_extension": ".py",
   "mimetype": "text/x-python",
   "name": "python",
   "nbconvert_exporter": "python",
   "pygments_lexer": "ipython3",
   "version": "3.13.5"
  }
 },
 "nbformat": 4,
 "nbformat_minor": 5
}
