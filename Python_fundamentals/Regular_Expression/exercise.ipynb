{
 "cells": [
  {
   "cell_type": "markdown",
   "id": "fb4edbcb",
   "metadata": {},
   "source": [
    "## Exercise of regular expression"
   ]
  },
  {
   "cell_type": "code",
   "execution_count": 53,
   "id": "193183d3",
   "metadata": {},
   "outputs": [
    {
     "name": "stdout",
     "output_type": "stream",
     "text": [
      "invalid\n"
     ]
    }
   ],
   "source": [
    "### validate email -----------------------------------\n",
    "\n",
    "import re\n",
    "strings = input()\n",
    "valid_string = re.match(r\"[a-zA-Z0-9._%+-]+@[a-zA-Z0-9.-]+\\.[a-zA-Z]\" ,strings)\n",
    "\n",
    "print(\"valid\" if valid_string else \"invalid\")\n"
   ]
  },
  {
   "cell_type": "code",
   "execution_count": 62,
   "id": "a7cc94e5",
   "metadata": {},
   "outputs": [
    {
     "data": {
      "text/plain": [
       "'invalid'"
      ]
     },
     "execution_count": 62,
     "metadata": {},
     "output_type": "execute_result"
    }
   ],
   "source": [
    "#### validare phone number ****\n",
    "\n",
    "import re\n",
    "phone = input()\n",
    "valid_phone = re.match(r\"^[7-9]{1}[0-9]{9}$\",phone)\n",
    "\n",
    "print(\"valid\") if valid_phone else \"invalid\""
   ]
  },
  {
   "cell_type": "code",
   "execution_count": null,
   "id": "7550c932",
   "metadata": {},
   "outputs": [],
   "source": []
  }
 ],
 "metadata": {
  "kernelspec": {
   "display_name": "Python 3",
   "language": "python",
   "name": "python3"
  },
  "language_info": {
   "codemirror_mode": {
    "name": "ipython",
    "version": 3
   },
   "file_extension": ".py",
   "mimetype": "text/x-python",
   "name": "python",
   "nbconvert_exporter": "python",
   "pygments_lexer": "ipython3",
   "version": "3.13.5"
  }
 },
 "nbformat": 4,
 "nbformat_minor": 5
}
