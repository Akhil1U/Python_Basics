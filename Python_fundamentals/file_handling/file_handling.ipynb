{
 "cells": [
  {
   "cell_type": "markdown",
   "id": "e5ec4106",
   "metadata": {},
   "source": [
    "# file_handling"
   ]
  },
  {
   "cell_type": "markdown",
   "id": "deba2b63",
   "metadata": {},
   "source": [
    "The key function for working with files in Python is the open() function.\n",
    "\n",
    "The open() function takes two parameters; filename, and mode.\n",
    "\n",
    "There are four different methods (modes) for opening a file:\n",
    "\n",
    "\"r\" - Read - Default value. Opens a file for reading, error if the file does not exist\n",
    "\n",
    "\"a\" - Append - Opens a file for appending, creates the file if it does not exist\n",
    "\n",
    "\"w\" - Write - Opens a file for writing, creates the file if it does not exist\n",
    "\n",
    "\"x\" - Create - Creates the specified file, returns an error if the file exists"
   ]
  },
  {
   "cell_type": "markdown",
   "id": "e538a3d4",
   "metadata": {},
   "source": [
    "\"t\" - Text - Default value. Text mode\n",
    "\n",
    "\"b\" - Binary - Binary mode (e.g. images)"
   ]
  },
  {
   "cell_type": "markdown",
   "id": "e06c9582",
   "metadata": {},
   "source": [
    "## start form creating file to delete file"
   ]
  },
  {
   "cell_type": "markdown",
   "id": "d44e1850",
   "metadata": {},
   "source": [
    "### Create a New File\n",
    "\n",
    "To create a new file in Python, use the open() method, with one of the following parameters:\n",
    "\n",
    "\"x\" - Create - use this to create file when you don't know file is exist or not\n",
    "..  \n",
    "..  \n",
    "\n",
    "2 write mode:  -->  also create new file and make edits into the existing file.\n",
    "\n",
    "\"a\" - Append - will create a file, write from end of the file, \n",
    "\n",
    "\"w\" - Write - will create a file,  start overwriting file"
   ]
  },
  {
   "cell_type": "markdown",
   "id": "cc000456",
   "metadata": {},
   "source": []
  },
  {
   "cell_type": "code",
   "execution_count": 1,
   "id": "ca93aabd",
   "metadata": {},
   "outputs": [],
   "source": [
    "# f = open(\"myfile.txt\", \"x\")\n",
    "\n",
    "with open(\"myfile.txt\",\"w\") as append:   ##  create file if not exist\n",
    "    append.write(\"overwrite file content\\n\")\n"
   ]
  },
  {
   "cell_type": "code",
   "execution_count": 2,
   "id": "935f0184",
   "metadata": {},
   "outputs": [
    {
     "name": "stdout",
     "output_type": "stream",
     "text": [
      "overwrite file content\n",
      "\n"
     ]
    }
   ],
   "source": [
    "with open(\"myfile.txt\") as f:\n",
    "  print(f.read())"
   ]
  },
  {
   "cell_type": "code",
   "execution_count": null,
   "id": "3d12c137",
   "metadata": {},
   "outputs": [],
   "source": [
    "with open(\"myfile.txt\",\"a\") as append:\n",
    "\n",
    "    append.write(\"content added at the end of the file.....!\\n\")"
   ]
  },
  {
   "cell_type": "code",
   "execution_count": 4,
   "id": "7ab33bb9",
   "metadata": {},
   "outputs": [
    {
     "name": "stdout",
     "output_type": "stream",
     "text": [
      "overwrite file content\n",
      "content added at the end of the file.....!\n"
     ]
    }
   ],
   "source": [
    "with open(\"myfile.txt\") as f:\n",
    "  print(f.read())"
   ]
  },
  {
   "cell_type": "code",
   "execution_count": null,
   "id": "065e93aa",
   "metadata": {},
   "outputs": [],
   "source": []
  },
  {
   "cell_type": "code",
   "execution_count": 5,
   "id": "79581866",
   "metadata": {},
   "outputs": [],
   "source": [
    "# f = open(\"myfile.txt\", \"rt\") # here r for Read & t for Rext"
   ]
  },
  {
   "cell_type": "markdown",
   "id": "8f4e132b",
   "metadata": {},
   "source": [
    "## close file\n",
    "--> It is a good practice to always close the file when you are done with it."
   ]
  },
  {
   "cell_type": "code",
   "execution_count": 6,
   "id": "f30e44d5",
   "metadata": {},
   "outputs": [
    {
     "name": "stdout",
     "output_type": "stream",
     "text": [
      "overwrite file content\n",
      "\n",
      "content added at the end of the file.....!\n"
     ]
    }
   ],
   "source": [
    "f = open(\"myfile.txt\")\n",
    "print(f.readline())\n",
    "print(f.readline())\n",
    "\n",
    "f.close()\n"
   ]
  },
  {
   "cell_type": "code",
   "execution_count": 7,
   "id": "58e36f4f",
   "metadata": {},
   "outputs": [
    {
     "name": "stdout",
     "output_type": "stream",
     "text": [
      "overw\n"
     ]
    }
   ],
   "source": [
    "with open(\"myfile.txt\") as f:\n",
    "  print(f.read(5))                   ###########   Return the 5 first characters of the file: ---------"
   ]
  },
  {
   "cell_type": "code",
   "execution_count": 8,
   "id": "5d736610",
   "metadata": {},
   "outputs": [
    {
     "name": "stdout",
     "output_type": "stream",
     "text": [
      "overwrite file content\n",
      "\n",
      "content added at the end of the file.....!\n"
     ]
    }
   ],
   "source": [
    "######## Loop through the file line by line:\n",
    "with open(\"myfile.txt\") as f:\n",
    "  for x in f:\n",
    "    print(x)"
   ]
  },
  {
   "cell_type": "markdown",
   "id": "3053f990",
   "metadata": {},
   "source": [
    "## Write to existing file\n",
    "To write to an existing file, you must add a parameter to the open() function:\n",
    "\n",
    "\"a\" - Append - will append to the end of the file\n",
    "\n",
    "\"w\" - Write - will overwrite any existing content"
   ]
  },
  {
   "cell_type": "code",
   "execution_count": null,
   "id": "71b099cc",
   "metadata": {},
   "outputs": [
    {
     "name": "stdout",
     "output_type": "stream",
     "text": [
      "Now the file has more content!Now the file has more content!\n"
     ]
    }
   ],
   "source": [
    "with open(\"demo.txt\", \"a\") as f:\n",
    "  f.write(\"Now the file has more content!\\n\")\n",
    "\n",
    "#open and read the file after the appending:\n",
    "with open(\"demo.txt\") as f:\n",
    "  print(f.read())"
   ]
  },
  {
   "cell_type": "code",
   "execution_count": 17,
   "id": "b0f37d67",
   "metadata": {},
   "outputs": [
    {
     "name": "stdout",
     "output_type": "stream",
     "text": [
      "Woops! I have deleted the content!\n"
     ]
    }
   ],
   "source": [
    "with open(\"demofile.txt\", \"w\") as f:\n",
    "  f.write(\"Woops! I have deleted the content!\")\n",
    "\n",
    "#open and read the file after the overwriting:\n",
    "with open(\"demofile.txt\") as f:\n",
    "  print(f.read())"
   ]
  },
  {
   "cell_type": "markdown",
   "id": "80be1840",
   "metadata": {},
   "source": [
    "#### create new file"
   ]
  },
  {
   "cell_type": "markdown",
   "id": "b13f65f1",
   "metadata": {},
   "source": [
    "## delete file\n"
   ]
  },
  {
   "cell_type": "code",
   "execution_count": 1,
   "id": "fe3bb18d",
   "metadata": {},
   "outputs": [
    {
     "name": "stdout",
     "output_type": "stream",
     "text": [
      "no file exist [WinError 2] The system cannot find the file specified: 'demofile.txt'\n"
     ]
    }
   ],
   "source": [
    "import os\n",
    "\n",
    "try:\n",
    "    if os.remove(\"demofile.txt\"):\n",
    "        print(\"demofile is deleted.......\")\n",
    "   \n",
    "except FileNotFoundError as E:\n",
    "    print(\"no file exist\", E)"
   ]
  },
  {
   "cell_type": "code",
   "execution_count": null,
   "id": "9e8880f3",
   "metadata": {},
   "outputs": [],
   "source": [
    "import os\n",
    "\n",
    "try:\n",
    "    if os.remove(\"demo.txt\"):\n",
    "        print(\"demo is deleted.......\")\n",
    "   \n",
    "except FileNotFoundError as E:\n",
    "    print(\"file not exist\", E)"
   ]
  },
  {
   "cell_type": "code",
   "execution_count": 13,
   "id": "a87243ee",
   "metadata": {},
   "outputs": [],
   "source": [
    "import os\n",
    "\n",
    "try:\n",
    "    if os.remove(\"myfile.txt\"):\n",
    "        print(\"myfile is deleted.......\")\n",
    "   \n",
    "except FileNotFoundError as E:\n",
    "    print(\"no file exist\", E)"
   ]
  },
  {
   "cell_type": "code",
   "execution_count": 14,
   "id": "e3ebdb2e",
   "metadata": {},
   "outputs": [],
   "source": [
    "###### to delte entire folder ###\n",
    "# import os\n",
    "# os.rmdir(\"myfolder\")"
   ]
  },
  {
   "cell_type": "markdown",
   "id": "35f89384",
   "metadata": {},
   "source": [
    "Note: You can only remove empty folders."
   ]
  }
 ],
 "metadata": {
  "kernelspec": {
   "display_name": "Python 3",
   "language": "python",
   "name": "python3"
  },
  "language_info": {
   "codemirror_mode": {
    "name": "ipython",
    "version": 3
   },
   "file_extension": ".py",
   "mimetype": "text/x-python",
   "name": "python",
   "nbconvert_exporter": "python",
   "pygments_lexer": "ipython3",
   "version": "3.13.5"
  }
 },
 "nbformat": 4,
 "nbformat_minor": 5
}
