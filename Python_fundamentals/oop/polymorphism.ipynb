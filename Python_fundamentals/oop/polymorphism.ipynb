{
 "cells": [
  {
   "cell_type": "markdown",
   "id": "e2064f52",
   "metadata": {},
   "source": [
    "# polymorphism"
   ]
  },
  {
   "cell_type": "markdown",
   "id": "e9d9d551",
   "metadata": {},
   "source": [
    "### poly means - many and morphism means - form - many forms of operators/function/Methods. \n",
    "\n",
    "### same name of method in multiple class but output depend on object which call this method."
   ]
  },
  {
   "cell_type": "markdown",
   "id": "76e9e72d",
   "metadata": {},
   "source": [
    "without Inheritance"
   ]
  },
  {
   "cell_type": "code",
   "execution_count": null,
   "id": "72faf593",
   "metadata": {},
   "outputs": [
    {
     "name": "stdout",
     "output_type": "stream",
     "text": [
      "Drive!\n",
      "Fly!\n"
     ]
    }
   ],
   "source": [
    "class Car:\n",
    "  def __init__(self, brand, model):\n",
    "    self.brand = brand\n",
    "    self.model = model\n",
    "\n",
    "  def move(self):\n",
    "    print(\"Drive!\")\n",
    "\n",
    "class Plane:\n",
    "  def __init__(self, brand, model):\n",
    "    self.brand = brand\n",
    "    self.model = model\n",
    "\n",
    "  def move(self):\n",
    "    print(\"Fly!\")\n",
    "\n",
    "car1 = Car(\"Ford\", \"Mustang\")       \n",
    "plane1 = Plane(\"Boeing\", \"747\")     \n",
    "\n",
    "\n",
    "# if car1 object call move method than it print Drive & if plan1 object call move() than print fly!...\n",
    "\n",
    "for x in (car1, plane1):\n",
    "  x.move()"
   ]
  },
  {
   "cell_type": "code",
   "execution_count": null,
   "id": "b93819ef",
   "metadata": {},
   "outputs": [
    {
     "name": "stdout",
     "output_type": "stream",
     "text": [
      "Ford\n",
      "Mustang\n",
      "Move!\n",
      "Ibiza\n",
      "Touring 20\n",
      "Sail!\n"
     ]
    }
   ],
   "source": [
    "\n",
    "#### Polymorphism with Inheritance.........  RUN TIME POLYMORPHISM\n",
    "\n",
    "class Vehicle:\n",
    "  def __init__(self, brand, model):\n",
    "    self.brand = brand\n",
    "    self.model = model\n",
    "\n",
    "  def move(self):\n",
    "    print(\"Move!\")\n",
    "\n",
    "class Car(Vehicle):  \n",
    "  pass               # here we does nor overrided this method so it wil print move\n",
    "\n",
    "class Boat(Vehicle):  \n",
    "  def move(self):  # this methosd is overrided...\n",
    "    print(\"Sail!\")\n",
    "\n",
    "\n",
    "car1 = Car(\"Ford\", \"Mustang\")      \n",
    "boat1 = Boat(\"Ibiza\", \"Touring 20\") \n",
    "\n",
    "\n",
    "for x in (car1, boat1):\n",
    "  print(x.brand)\n",
    "  print(x.model)\n",
    "  x.move()"
   ]
  },
  {
   "cell_type": "markdown",
   "id": "f411e5b3",
   "metadata": {},
   "source": []
  }
 ],
 "metadata": {
  "kernelspec": {
   "display_name": "Python 3",
   "language": "python",
   "name": "python3"
  },
  "language_info": {
   "codemirror_mode": {
    "name": "ipython",
    "version": 3
   },
   "file_extension": ".py",
   "mimetype": "text/x-python",
   "name": "python",
   "nbconvert_exporter": "python",
   "pygments_lexer": "ipython3",
   "version": "3.13.5"
  }
 },
 "nbformat": 4,
 "nbformat_minor": 5
}
