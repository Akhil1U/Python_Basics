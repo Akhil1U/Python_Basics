{
 "cells": [
  {
   "cell_type": "markdown",
   "id": "52ee9537",
   "metadata": {},
   "source": [
    "# Inheritance\n"
   ]
  },
  {
   "cell_type": "markdown",
   "id": "63e324b0",
   "metadata": {},
   "source": [
    "### Inheritance allows us to define a class that inherits all the methods and properties from another class."
   ]
  },
  {
   "cell_type": "markdown",
   "id": "ccbf19a6",
   "metadata": {},
   "source": [
    "### there are 5 types of inheritance suppoorted by Python."
   ]
  },
  {
   "cell_type": "markdown",
   "id": "f72e9a4e",
   "metadata": {},
   "source": [
    "1. single inheritance        ===== only one child class inherite property from base class.\n",
    "2. multiple inheritance     ==== multiple child class inherite property from base class.\n",
    "3. multilevel inheritance   ==== super class extends to  base class extends to child class. theoryticaly no limit of sub classes.\n",
    "4. Hierarchical  inheritance  ===  multiple child classes inherite from one parent class.\n",
    "5. hybrid inheritance    ====      combination of two type of inheritance.\n",
    " "
   ]
  },
  {
   "cell_type": "code",
   "execution_count": 4,
   "id": "b2c6ea40",
   "metadata": {},
   "outputs": [],
   "source": [
    "# multilevel inheritance\n",
    "   \n",
    "class Grandparent:\n",
    "    def method_grandparent(self):\n",
    "        print(\"Method from Grandparent\")\n",
    "\n",
    "class Parent(Grandparent):\n",
    "    def method_parent(self):\n",
    "        print(\"Method from Parent\")\n",
    "\n",
    "class Child(Parent):\n",
    "    def method_child(self):\n",
    "        print(\"Method from Child\")"
   ]
  },
  {
   "cell_type": "code",
   "execution_count": 2,
   "id": "eebb2345",
   "metadata": {},
   "outputs": [
    {
     "name": "stdout",
     "output_type": "stream",
     "text": [
      "Animal speaks\n",
      "Mammal gives birth\n",
      "Bird lays eggs\n"
     ]
    }
   ],
   "source": [
    "# hybrid inheritance\n",
    "\n",
    "class Animal:\n",
    "    def speak(self):\n",
    "        print(\"Animal speaks\")\n",
    "\n",
    "class Mammal(Animal):\n",
    "    def give_birth(self):\n",
    "        print(\"Mammal gives birth\")\n",
    "\n",
    "class Bird(Animal):\n",
    "    def lay_eggs(self):\n",
    "        print(\"Bird lays eggs\")\n",
    "\n",
    "class Platypus(Mammal, Bird):  # Multiple inheritance from Mammal and Bird\n",
    "    pass\n",
    "\n",
    "# Create an instance of Platypus\n",
    "platypus = Platypus()\n",
    "\n",
    "# Access methods from different parent classes\n",
    "platypus.speak()      # Method from Animal class (via Mammal or Bird, due to multi-level inheritance)\n",
    "platypus.give_birth() # Method from Mammal class\n",
    "platypus.lay_eggs()   # Method from Bird class"
   ]
  }
 ],
 "metadata": {
  "kernelspec": {
   "display_name": "Python 3",
   "language": "python",
   "name": "python3"
  },
  "language_info": {
   "codemirror_mode": {
    "name": "ipython",
    "version": 3
   },
   "file_extension": ".py",
   "mimetype": "text/x-python",
   "name": "python",
   "nbconvert_exporter": "python",
   "pygments_lexer": "ipython3",
   "version": "3.13.5"
  }
 },
 "nbformat": 4,
 "nbformat_minor": 5
}
