{
 "cells": [
  {
   "cell_type": "markdown",
   "id": "5c1dbd29",
   "metadata": {},
   "source": [
    "# Abstraction\n",
    "\n",
    "\n",
    "==> in oop it referred as hiding implimentation of application and exposing only assential functionality. \n",
    "\n",
    "### this principle works on what object does not how object does."
   ]
  },
  {
   "cell_type": "markdown",
   "id": "e3fddbf5",
   "metadata": {},
   "source": [
    "#### Abstract classes are created using abc module and @abstractmethod decorator, allowing developers to enforce method implementation in subclasses while hiding complex internal logic."
   ]
  },
  {
   "cell_type": "code",
   "execution_count": null,
   "id": "acdb1adc",
   "metadata": {},
   "outputs": [
    {
     "name": "stdout",
     "output_type": "stream",
     "text": [
      "Hello!\n"
     ]
    }
   ],
   "source": [
    "from abc import ABC, abstractmethod\n",
    "\n",
    "class Greet(ABC):       #\n",
    "    @abstractmethod\n",
    "    def say_hello(self):\n",
    "        pass  # Abstract method\n",
    "\n",
    "class English(Greet):\n",
    "    def say_hello(self):\n",
    "        return \"Hello!\"\n",
    "\n",
    "\n",
    "\n",
    "# Error_object = Greet()   ######## TypeError: Can't instantiate abstract class Greet without an implementation for abstract method 'say_hello'\n",
    "# print(Error_object.say_hello())\n",
    "\n",
    "\n",
    "g = English()\n",
    "print(g.say_hello())"
   ]
  },
  {
   "cell_type": "markdown",
   "id": "adccd768",
   "metadata": {},
   "source": [
    "## what is abc module & abstractmethod\n",
    "\n",
    "ABC - Abstract base class\n",
    "===> it  tell python that this is abstract class and cannot directly instantoalt.\n",
    "\n",
    "===> you can use abstract class to define blueprint for sub class of that class."
   ]
  },
  {
   "cell_type": "markdown",
   "id": "8245a05d",
   "metadata": {},
   "source": [
    "#### abc module enable abstract class and methods. require subclass to implement specific method."
   ]
  },
  {
   "cell_type": "markdown",
   "id": "3bddb0eb",
   "metadata": {},
   "source": [
    "### Abstraction in Python is made up of key components like abstract methods, concrete methods, abstract properties and class instantiation rules. These elements work together to define a clear and enforced structure for subclasses while hiding unnecessary implementation details."
   ]
  },
  {
   "cell_type": "code",
   "execution_count": null,
   "id": "2af01539",
   "metadata": {},
   "outputs": [],
   "source": []
  },
  {
   "cell_type": "markdown",
   "id": "a1506a01",
   "metadata": {},
   "source": [
    "## 1. Abstract Methods\n",
    "Definition: Methods declared in an abstract base class that have no implementation.\n",
    "\n",
    "Purpose: Force subclasses to implement these methods."
   ]
  },
  {
   "cell_type": "code",
   "execution_count": 4,
   "id": "73fb3433",
   "metadata": {},
   "outputs": [],
   "source": [
    "from abc import ABC, abstractmethod\n",
    "\n",
    "class Shape(ABC):\n",
    "    @abstractmethod\n",
    "    def area(self):\n",
    "        pass\n"
   ]
  },
  {
   "cell_type": "markdown",
   "id": "d365d62e",
   "metadata": {},
   "source": [
    "## 2. Concrete Methods\n",
    "Definition: Methods that have an implementation in the abstract base class.\n",
    "\n",
    "Purpose: Provide common functionality that subclasses can inherit or override."
   ]
  },
  {
   "cell_type": "code",
   "execution_count": 5,
   "id": "748843f6",
   "metadata": {},
   "outputs": [],
   "source": [
    "class Shape(ABC):\n",
    "    @abstractmethod\n",
    "    def area(self):\n",
    "        pass\n",
    "\n",
    "    def describe(self):\n",
    "        print(\"This is a shape.\")\n"
   ]
  },
  {
   "cell_type": "markdown",
   "id": "c19b9838",
   "metadata": {},
   "source": [
    "## 3. Abstract Properties\n",
    "Definition: Properties that are declared abstract using @property and @abstractmethod.\n",
    "\n",
    "Purpose: Force subclasses to implement these properties."
   ]
  },
  {
   "cell_type": "code",
   "execution_count": 6,
   "id": "87364925",
   "metadata": {},
   "outputs": [],
   "source": [
    "class Shape(ABC):\n",
    "    @property\n",
    "    @abstractmethod\n",
    "    def name(self):\n",
    "        pass\n"
   ]
  },
  {
   "cell_type": "markdown",
   "id": "0474a8ad",
   "metadata": {},
   "source": [
    "## 4. Class Instantiation Rules\n",
    "Rule: You cannot instantiate an abstract class directly if it has any unimplemented abstract methods or properties."
   ]
  },
  {
   "cell_type": "code",
   "execution_count": 8,
   "id": "e1b2602d",
   "metadata": {},
   "outputs": [],
   "source": [
    "## SUB CLASS OF ABC CLASS\n",
    "\n",
    "#shape = Shape()  # ❌ Raises TypeError   \n",
    "\n",
    "###### ONLY FULLY IMPLEMENTED SUB CLASS CAN BE Instantiate\n",
    "\n",
    "\n",
    "class Circle(Shape):\n",
    "    def area(self):\n",
    "        return 3.14 * self.radius ** 2\n",
    "\n",
    "    @property\n",
    "    def name(self):\n",
    "        return \"Circle\"\n",
    "\n"
   ]
  },
  {
   "cell_type": "code",
   "execution_count": 9,
   "id": "3b43efd9",
   "metadata": {},
   "outputs": [
    {
     "name": "stdout",
     "output_type": "stream",
     "text": [
      "Processing credit card payment of $100 using card 1234-5678-9012-3456\n",
      "Thank you for your payment.\n",
      "Processing PayPal payment of $75 from account user@example.com\n",
      "Thank you for your payment.\n"
     ]
    }
   ],
   "source": [
    "#### real world example\n",
    "\n",
    "\n",
    "\n",
    "from abc import ABC, abstractmethod\n",
    "\n",
    "# Abstract base class\n",
    "class PaymentMethod(ABC):\n",
    "\n",
    "    @abstractmethod\n",
    "    def pay(self, amount):\n",
    "        \"\"\"Process the payment of a specific amount\"\"\"\n",
    "        pass\n",
    "\n",
    "    def receipt(self):\n",
    "        \"\"\"Concrete method: shared behavior\"\"\"\n",
    "        print(\"Thank you for your payment.\")\n",
    "\n",
    "# Subclass 1: Credit Card Payment\n",
    "class CreditCardPayment(PaymentMethod):\n",
    "\n",
    "    def __init__(self, card_number):\n",
    "        self.card_number = card_number\n",
    "\n",
    "    def pay(self, amount):\n",
    "        print(f\"Processing credit card payment of ${amount} using card {self.card_number}\")\n",
    "\n",
    "# Subclass 2: PayPal Payment\n",
    "class PayPalPayment(PaymentMethod):\n",
    "\n",
    "    def __init__(self, email):\n",
    "        self.email = email\n",
    "\n",
    "    def pay(self, amount):\n",
    "        print(f\"Processing PayPal payment of ${amount} from account {self.email}\")\n",
    "\n",
    "# Trying to instantiate the abstract class (this will raise an error)\n",
    "# p = PaymentMethod()  # ❌ TypeError: Can't instantiate abstract class\n",
    "\n",
    "# Using the subclasses\n",
    "credit_payment = CreditCardPayment(\"1234-5678-9012-3456\")\n",
    "credit_payment.pay(100)\n",
    "credit_payment.receipt()\n",
    "\n",
    "paypal_payment = PayPalPayment(\"user@example.com\")\n",
    "paypal_payment.pay(75)\n",
    "paypal_payment.receipt()\n"
   ]
  },
  {
   "cell_type": "markdown",
   "id": "0c95f2fe",
   "metadata": {},
   "source": [
    "# Interface"
   ]
  },
  {
   "cell_type": "code",
   "execution_count": null,
   "id": "97099096",
   "metadata": {},
   "outputs": [],
   "source": [
    "## in python, there is not any keyword like interfacwe but we can create programm like interface.\n",
    "\n",
    "## here we use Abstract base class to clon interface as other language like java.\n",
    "\n",
    "#####   Animal is an interface (abstract base class).\n",
    "\n",
    "\n",
    "### basically An interface is a blueprint for a class. It defines what methods a class must have — but not how they should work. so here we can archieve using ABC class.\n",
    "\n",
    "\n",
    "\n",
    "from abc import ABC, abstractmethod\n",
    "\n",
    "class Animal(ABC):   #### Interface\n",
    "    \n",
    "    @abstractmethod\n",
    "    def make_sound(self):\n",
    "        pass\n",
    "\n",
    "class Dog(Animal):\n",
    "    def make_sound(self):\n",
    "        print(\"Bark\")\n",
    "\n",
    "class Cat(Animal):\n",
    "    def make_sound(self):\n",
    "        print(\"Meow\")\n"
   ]
  }
 ],
 "metadata": {
  "kernelspec": {
   "display_name": "Python 3",
   "language": "python",
   "name": "python3"
  },
  "language_info": {
   "codemirror_mode": {
    "name": "ipython",
    "version": 3
   },
   "file_extension": ".py",
   "mimetype": "text/x-python",
   "name": "python",
   "nbconvert_exporter": "python",
   "pygments_lexer": "ipython3",
   "version": "3.13.5"
  }
 },
 "nbformat": 4,
 "nbformat_minor": 5
}
