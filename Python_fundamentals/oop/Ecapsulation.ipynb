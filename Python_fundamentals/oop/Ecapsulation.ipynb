{
 "cells": [
  {
   "cell_type": "markdown",
   "id": "52cec4a3",
   "metadata": {},
   "source": [
    "# Emcapsulation"
   ]
  },
  {
   "cell_type": "markdown",
   "id": "afe1ac4b",
   "metadata": {},
   "source": [
    "### Binding data into some capsule- without permission any other class cannot acces\n",
    "===> achieved through the use of access modifiers which restrict access to the methods and variables of a class"
   ]
  },
  {
   "cell_type": "markdown",
   "id": "1645f56f",
   "metadata": {},
   "source": [
    "### there is three type of access modifier in python:\n",
    "\n",
    "1. Public  - by default public\n",
    "2. private  - by __ only within class\n",
    "3. protected -  by _ only class and sub class can access."
   ]
  },
  {
   "cell_type": "code",
   "execution_count": null,
   "id": "32aaa199",
   "metadata": {},
   "outputs": [],
   "source": [
    "##### public\n",
    "\n",
    "class Public:\n",
    "    def __init__(self):\n",
    "        self.name = \"John\"  # Public attribute\n",
    "\n",
    "    def display_name(self):\n",
    "        print(self.name)  # Public method\n",
    "\n",
    "obj = Public()\n",
    "obj.display_name()  # Accessible\n",
    "print(obj.name)  # Accessible"
   ]
  },
  {
   "cell_type": "code",
   "execution_count": null,
   "id": "5a79e372",
   "metadata": {},
   "outputs": [
    {
     "name": "stdout",
     "output_type": "stream",
     "text": [
      "john\n",
      "30\n"
     ]
    }
   ],
   "source": [
    "# protected _\n",
    "\n",
    "class Protected:\n",
    "    def __init__(self):\n",
    "        self._name = \"john\"\n",
    "\n",
    "    \n",
    "class Sub_class(Protected):\n",
    "    def display(self):\n",
    "        print(self._name)\n",
    "\n",
    "obj1 = Sub_class()\n",
    "obj1.display()\n"
   ]
  },
  {
   "cell_type": "code",
   "execution_count": null,
   "id": "91d73a03",
   "metadata": {},
   "outputs": [
    {
     "name": "stdout",
     "output_type": "stream",
     "text": [
      "50000\n"
     ]
    }
   ],
   "source": [
    "\n",
    "class Private:\n",
    "    def __init__(self):\n",
    "        self.__salary = 50000  # Private attribute\n",
    "\n",
    "    def salary(self):\n",
    "        return self.__salary  # Access through public method\n",
    "\n",
    "obj = Private()\n",
    "print(obj.salary())  # Works\n",
    "#print(obj.__salary)  # Raises AttributeError   but programmer does not write these method name where they want to encapsulate this attribute.///!"
   ]
  },
  {
   "cell_type": "code",
   "execution_count": null,
   "id": "9bcc662d",
   "metadata": {},
   "outputs": [],
   "source": [
    "## at language level python does not enforce to these modifier but it folloe naminf conventions that followed by programmer."
   ]
  }
 ],
 "metadata": {
  "kernelspec": {
   "display_name": "Python 3",
   "language": "python",
   "name": "python3"
  },
  "language_info": {
   "codemirror_mode": {
    "name": "ipython",
    "version": 3
   },
   "file_extension": ".py",
   "mimetype": "text/x-python",
   "name": "python",
   "nbconvert_exporter": "python",
   "pygments_lexer": "ipython3",
   "version": "3.13.5"
  }
 },
 "nbformat": 4,
 "nbformat_minor": 5
}
