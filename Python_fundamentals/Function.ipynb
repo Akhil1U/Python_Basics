{
 "cells": [
  {
   "cell_type": "markdown",
   "id": "7a7c1a97",
   "metadata": {},
   "source": [
    "# function\n",
    "\n",
    "#### A function is a block of code which only runs when it is called.\n",
    "### You can pass data, known as parameters, into a function.\n",
    "### A function can return data as a result"
   ]
  },
  {
   "cell_type": "markdown",
   "id": "b3ffa478",
   "metadata": {},
   "source": [
    "### calling a function\n"
   ]
  },
  {
   "cell_type": "code",
   "execution_count": 1,
   "id": "fb738006",
   "metadata": {},
   "outputs": [
    {
     "name": "stdout",
     "output_type": "stream",
     "text": [
      "Hello from a function\n"
     ]
    }
   ],
   "source": [
    "def my_function():\n",
    "  print(\"Hello from a function\")\n",
    "\n",
    "my_function()"
   ]
  },
  {
   "cell_type": "markdown",
   "id": "fd0b7706",
   "metadata": {},
   "source": [
    "### number of arguent\n",
    "you have to call function  with number of args when you created function \n"
   ]
  },
  {
   "cell_type": "markdown",
   "id": "18e4ccc9",
   "metadata": {},
   "source": [
    "### Arbitrary Arguments, *args and *kwargs \n",
    "\n",
    "### you can use when you don't klnow exact number of parameter of function."
   ]
  },
  {
   "cell_type": "code",
   "execution_count": null,
   "id": "0c05f4e4",
   "metadata": {},
   "outputs": [
    {
     "name": "stdout",
     "output_type": "stream",
     "text": [
      "The youngest child is Linus\n",
      "\n",
      "The youngest child is Linus\n",
      "His last name is Refsnes\n"
     ]
    }
   ],
   "source": [
    "### * args\n",
    "def my_function(*kids):\n",
    "  print(\"The youngest child is \" + kids[2])\n",
    "\n",
    "my_function(\"Emil\", \"Tobias\", \"Linus\")  # also called as call by value, & positional arguments\n",
    "print()\n",
    "\n",
    "#### *kwargs\n",
    "\n",
    "def my_function(child3, child2, child1):  # keyword arguments\n",
    "  print(\"The youngest child is \" + child3)\n",
    "\n",
    "my_function(child1 = \"Emil\", child2 = \"Tobias\", child3 = \"Linus\")\n",
    "\n",
    "\n",
    "\n",
    "##### whne you do not know number of keyword args\n",
    "def my_function(**kid):\n",
    "  print(\"His last name is \" + kid[\"lname\"])\n",
    "\n",
    "my_function(fname = \"Tobias\", lname = \"Refsnes\")\n"
   ]
  },
  {
   "cell_type": "markdown",
   "id": "5605e366",
   "metadata": {},
   "source": [
    "### Default Parameter Value"
   ]
  },
  {
   "cell_type": "code",
   "execution_count": 9,
   "id": "d48dd0c1",
   "metadata": {},
   "outputs": [
    {
     "name": "stdout",
     "output_type": "stream",
     "text": [
      "I am from India\n",
      "I am from Norway\n",
      "I am from Brazil\n"
     ]
    }
   ],
   "source": [
    "def my_function(country = \"Norway\"):\n",
    "  print(\"I am from \" + country)\n",
    "my_function(\"India\")\n",
    "my_function()\n",
    "\n",
    "my_function(\"Brazil\")"
   ]
  },
  {
   "cell_type": "code",
   "execution_count": null,
   "id": "59c6c9f7",
   "metadata": {},
   "outputs": [
    {
     "name": "stdout",
     "output_type": "stream",
     "text": [
      "apple\n",
      "banana\n",
      "cherry\n"
     ]
    }
   ],
   "source": [
    "def my_function(fruits):\n",
    "  for x in fruits:\n",
    "    print(x)\n",
    "\n",
    "fruits = [\"apple\", \"banana\", \"cherry\"] ## list, tuple, string etc any datatype as an argument\n",
    "my_function(fruits)"
   ]
  },
  {
   "cell_type": "markdown",
   "id": "4a6cff55",
   "metadata": {},
   "source": [
    "### Return Values"
   ]
  },
  {
   "cell_type": "code",
   "execution_count": null,
   "id": "cac7be49",
   "metadata": {},
   "outputs": [
    {
     "name": "stdout",
     "output_type": "stream",
     "text": [
      "15\n",
      "25\n"
     ]
    }
   ],
   "source": [
    "def my_function(x):\n",
    "  return 5 * x\n",
    "\n",
    "print(my_function(3))\n",
    "print(my_function(5))"
   ]
  },
  {
   "cell_type": "code",
   "execution_count": null,
   "id": "437ae648",
   "metadata": {},
   "outputs": [],
   "source": [
    "##### function empty is not valid so for replacement of stament we can use pass\n",
    "\n",
    "def myfunction():\n",
    "  pass"
   ]
  },
  {
   "cell_type": "markdown",
   "id": "76103828",
   "metadata": {},
   "source": [
    "### Positional-Only Arguments AND keyword only args\n",
    "\n"
   ]
  },
  {
   "cell_type": "code",
   "execution_count": null,
   "id": "1a85c122",
   "metadata": {},
   "outputs": [
    {
     "name": "stdout",
     "output_type": "stream",
     "text": [
      "26\n"
     ]
    }
   ],
   "source": [
    "#$#### def my_function(x, /):\n",
    "\n",
    "### def my_function(*, x):\n",
    "\n",
    "\n",
    "\n",
    "##### combination ###################\n",
    "def my_function(a, b, /,     *, c, d):  ## a, b, /, positional args #### *,c,d  keyword args    \n",
    "  print(a + b + c + d)\n",
    "\n",
    "my_function(5, 6, c = 7, d = 8)\n"
   ]
  },
  {
   "cell_type": "markdown",
   "id": "4584301b",
   "metadata": {},
   "source": []
  }
 ],
 "metadata": {
  "kernelspec": {
   "display_name": "Python 3",
   "language": "python",
   "name": "python3"
  },
  "language_info": {
   "codemirror_mode": {
    "name": "ipython",
    "version": 3
   },
   "file_extension": ".py",
   "mimetype": "text/x-python",
   "name": "python",
   "nbconvert_exporter": "python",
   "pygments_lexer": "ipython3",
   "version": "3.13.5"
  }
 },
 "nbformat": 4,
 "nbformat_minor": 5
}
