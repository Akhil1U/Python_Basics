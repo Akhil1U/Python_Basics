{
 "cells": [
  {
   "cell_type": "markdown",
   "id": "38061d63",
   "metadata": {},
   "source": [
    "# tupel\n",
    "### ordered & unchangeable     \n",
    "#### allow duplicate values\n",
    "### Tuples are unchangeable, meaning that you cannot change, add, or remove items once the tuple is created.\n",
    "\n"
   ]
  },
  {
   "cell_type": "code",
   "execution_count": 5,
   "id": "013c66e5",
   "metadata": {},
   "outputs": [
    {
     "name": "stdout",
     "output_type": "stream",
     "text": [
      "(1, 2, 3, 4, 5)\n"
     ]
    }
   ],
   "source": [
    "tuple1 = (1,2,3,4,5)\n",
    "print(tuple1)"
   ]
  },
  {
   "cell_type": "markdown",
   "id": "67e74f71",
   "metadata": {},
   "source": [
    "### Note: one item tuple"
   ]
  },
  {
   "cell_type": "code",
   "execution_count": 7,
   "id": "c0b4033e",
   "metadata": {},
   "outputs": [
    {
     "name": "stdout",
     "output_type": "stream",
     "text": [
      "<class 'str'>\n"
     ]
    }
   ],
   "source": [
    "oneItemTuple = (\"onlyone\",)  # <class 'tuple'>\n",
    "tuplewrong = (\"wrong\") \n",
    "print(type(tuplewrong))\n"
   ]
  },
  {
   "cell_type": "markdown",
   "id": "e40e72a7",
   "metadata": {},
   "source": [
    "## workaround\n",
    "---> You can convert the tuple into a list, change the list, and convert the list back into a tuple.    \n",
    "---> you can convert it into a list, add your item(s), and convert it back into a tuple.  \n",
    "---> Convert the tuple into a list, remove \"apple\", and convert it back into a tuple:    "
   ]
  },
  {
   "cell_type": "markdown",
   "id": "09d59fcc",
   "metadata": {},
   "source": [
    "## Add tuple to a tuple\n"
   ]
  },
  {
   "cell_type": "code",
   "execution_count": 8,
   "id": "04dbd4e4",
   "metadata": {},
   "outputs": [
    {
     "name": "stdout",
     "output_type": "stream",
     "text": [
      "('apple', 'banana', 'cherry', 'orange')\n"
     ]
    }
   ],
   "source": [
    "thistuple = (\"apple\", \"banana\", \"cherry\")\n",
    "y = (\"orange\",)\n",
    "thistuple += y\n",
    "\n",
    "print(thistuple)"
   ]
  },
  {
   "cell_type": "markdown",
   "id": "44f6a960",
   "metadata": {},
   "source": [
    "\n",
    "### Note : The del keyword can delete the tuple completely:"
   ]
  },
  {
   "cell_type": "code",
   "execution_count": 11,
   "id": "2b30b731",
   "metadata": {},
   "outputs": [
    {
     "ename": "NameError",
     "evalue": "name 'thistuple' is not defined",
     "output_type": "error",
     "traceback": [
      "\u001b[31m---------------------------------------------------------------------------\u001b[39m",
      "\u001b[31mNameError\u001b[39m                                 Traceback (most recent call last)",
      "\u001b[36mCell\u001b[39m\u001b[36m \u001b[39m\u001b[32mIn[11]\u001b[39m\u001b[32m, line 3\u001b[39m\n\u001b[32m      1\u001b[39m thistuple = (\u001b[33m\"\u001b[39m\u001b[33mapple\u001b[39m\u001b[33m\"\u001b[39m, \u001b[33m\"\u001b[39m\u001b[33mbanana\u001b[39m\u001b[33m\"\u001b[39m, \u001b[33m\"\u001b[39m\u001b[33mcherry\u001b[39m\u001b[33m\"\u001b[39m)\n\u001b[32m      2\u001b[39m \u001b[38;5;28;01mdel\u001b[39;00m thistuple\n\u001b[32m----> \u001b[39m\u001b[32m3\u001b[39m \u001b[38;5;28mprint\u001b[39m(\u001b[43mthistuple\u001b[49m) \u001b[38;5;66;03m#this will raise an error because the tuple no longer exists\u001b[39;00m\n",
      "\u001b[31mNameError\u001b[39m: name 'thistuple' is not defined"
     ]
    }
   ],
   "source": [
    "thistuple = (\"apple\", \"banana\", \"cherry\")\n",
    "del thistuple\n",
    "print(thistuple) #this will raise an error because the tuple no longer exists"
   ]
  },
  {
   "cell_type": "markdown",
   "id": "67083705",
   "metadata": {},
   "source": [
    "### Unpacking a Tuple\n",
    "#### Note:  The number of variables must match the number of values in the tuple, if not, you must use an asterisk to collect the remaining values as a list."
   ]
  },
  {
   "cell_type": "code",
   "execution_count": 12,
   "id": "581d9daf",
   "metadata": {},
   "outputs": [
    {
     "name": "stdout",
     "output_type": "stream",
     "text": [
      "apple\n",
      "banana\n",
      "cherry\n"
     ]
    }
   ],
   "source": [
    "fruits = (\"apple\", \"banana\", \"cherry\")\n",
    "\n",
    "(green, yellow, red) = fruits\n",
    "\n",
    "print(green)\n",
    "print(yellow)\n",
    "print(red)"
   ]
  },
  {
   "cell_type": "code",
   "execution_count": 14,
   "id": "98b80b64",
   "metadata": {},
   "outputs": [
    {
     "name": "stdout",
     "output_type": "stream",
     "text": [
      "apple\n",
      "['banana', 'cherry', 'strawberry']\n",
      "raspberry\n"
     ]
    }
   ],
   "source": [
    "# Using Asterisk*\n",
    "fruits = (\"apple\", \"banana\", \"cherry\", \"strawberry\", \"raspberry\")\n",
    "\n",
    "(green, *yellow, red) = fruits\n",
    "\n",
    "print(green)\n",
    "print(yellow)\n",
    "print(red)"
   ]
  },
  {
   "cell_type": "markdown",
   "id": "e1ee1a04",
   "metadata": {},
   "source": [
    "#### Multiply tuple"
   ]
  },
  {
   "cell_type": "code",
   "execution_count": 15,
   "id": "074b4200",
   "metadata": {},
   "outputs": [
    {
     "name": "stdout",
     "output_type": "stream",
     "text": [
      "('apple', 'banana', 'cherry', 'apple', 'banana', 'cherry')\n"
     ]
    }
   ],
   "source": [
    "fruits = (\"apple\", \"banana\", \"cherry\")\n",
    "mytuple = fruits * 2\n",
    "\n",
    "print(mytuple)"
   ]
  },
  {
   "cell_type": "markdown",
   "id": "bdbda52c",
   "metadata": {},
   "source": [
    "### Tuple method\n",
    "\n",
    "--> count()\tReturns the number of times a specified value occurs in a tuple   \n",
    "---> index()\tSearches the tuple for a specified value and returns the position of where it was found  \n",
    "### Note it only has one parameter and it's values\n",
    "\n",
    "\n",
    "#### len(), max(), min(), sum(), sorted(), any(), all() we can also use this type of methods to take expected outcomes from tuples"
   ]
  },
  {
   "cell_type": "code",
   "execution_count": 19,
   "id": "b1ac6e79",
   "metadata": {},
   "outputs": [
    {
     "name": "stdout",
     "output_type": "stream",
     "text": [
      "count:  2\n"
     ]
    }
   ],
   "source": [
    "thistuple = (1, 3, 7, 8, 7, 5, 4, 6, 8, 5)\n",
    "\n",
    "x = thistuple.count(5)\n",
    "\n",
    "print(\"count: \",x)"
   ]
  },
  {
   "cell_type": "code",
   "execution_count": 21,
   "id": "30947552",
   "metadata": {},
   "outputs": [
    {
     "name": "stdout",
     "output_type": "stream",
     "text": [
      "Index of element is:  3\n"
     ]
    }
   ],
   "source": [
    "thistuple = (1, 3, 7, 8, 7, 5, 4, 6, 8, 5)\n",
    "\n",
    "x = thistuple.index(8)\n",
    "\n",
    "print(\"Index of element is: \",x)"
   ]
  }
 ],
 "metadata": {
  "kernelspec": {
   "display_name": "Python 3",
   "language": "python",
   "name": "python3"
  },
  "language_info": {
   "codemirror_mode": {
    "name": "ipython",
    "version": 3
   },
   "file_extension": ".py",
   "mimetype": "text/x-python",
   "name": "python",
   "nbconvert_exporter": "python",
   "pygments_lexer": "ipython3",
   "version": "3.13.5"
  }
 },
 "nbformat": 4,
 "nbformat_minor": 5
}
