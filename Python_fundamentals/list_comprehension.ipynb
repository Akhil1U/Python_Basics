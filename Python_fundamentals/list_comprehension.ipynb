{
 "cells": [
  {
   "cell_type": "markdown",
   "id": "a60b47b5",
   "metadata": {},
   "source": [
    "### Replace element using list comprehension"
   ]
  },
  {
   "cell_type": "code",
   "execution_count": null,
   "id": "88fc59bb",
   "metadata": {},
   "outputs": [
    {
     "name": "stdout",
     "output_type": "stream",
     "text": [
      "['apple', 'kiwi', 'mango', 'watermelon']\n"
     ]
    }
   ],
   "source": [
    "####### Replace element using list comprehension\n",
    "\n",
    "\n",
    "fruits = ['apple', 'banana', 'cherry']\n",
    "newlist = [\"kiwi\" if item == \"apple\" else item for item in fruits]\n",
    "print(newlist)  #replace using list comp..\n",
    "\n"
   ]
  },
  {
   "cell_type": "markdown",
   "id": "66d02837",
   "metadata": {},
   "source": [
    "## ✅ What is List Comprehension?\n",
    "#### List comprehension is a concise way to create lists in Python. Instead of using loops like for or while with .append(), you can create a new list in a single line of code.\n",
    "### 📘 Basic Syntax\n",
    "\n",
    "\n",
    "[expression for item in iterable]  \n",
    "This expression is equivalent to:"
   ]
  },
  {
   "cell_type": "markdown",
   "id": "7acc2b6a",
   "metadata": {},
   "source": [
    "Sure! Let’s dive deep into List Comprehension in Python — a powerful, elegant, and often more readable way to create and manipulate lists. At the end, we’ll also cover the limitations and problems with list comprehensions.\n",
    "\n",
    "🔹 If-else in expression (inline conditional)  \n",
    "\n",
    "[expression_if_true if condition else expression_if_false for item in iterable]  \n",
    "Example: Label numbers as 'even' or 'odd'  \n",
    "\n",
    "\n",
    "🌀 Nested List Comprehension  \n",
    "You can have list comprehensions inside another.  \n",
    "\n",
    "Example: Flatten a 2D list  \n",
    "matrix = [[1, 2], [3, 4], [5, 6]]  \n",
    "\n",
    "Example: Transpose a matrix  \n",
    "matrix = [[1, 2, 3], [4, 5, 6]]  \n",
    "\n",
    "\n",
    "⚡ List Comprehension with Functions  \n",
    "You can call functions inside the expression.  \n",
    "\n",
    "def square(x): return x * x  \n",
    "squares = [square(x) for x in range(5)]  \n",
    " \n",
    "🧪 List Comprehension with Multiple Iterables   \n",
    "Example: Cartesian product  \n",
    "colors = ['red', 'blue']  \n",
    "objects = ['ball', 'box']  \n",
    "\n",
    "\n",
    "🧰 Using List Comprehension with Other Data Types  \n",
    "While list comprehension returns a list, similar syntax exists for:  \n",
    " \n",
    "Set Comprehension  \n"
   ]
  },
  {
   "cell_type": "code",
   "execution_count": null,
   "id": "20a98800",
   "metadata": {},
   "outputs": [],
   "source": [
    "# result = []   \n",
    "# for item in iterable:  \n",
    "#     result.append(expression)   \n",
    "# 🔍 Examples of Basic List Comprehension   \n",
    "# Example 1: Square of numbers from 0 to 9   \n",
    "\n",
    "squares = [x**2 for x in range(10)]   \n",
    "### Output: [0, 1, 4, 9, 16, 25, 36, 49, 64, 81]   "
   ]
  },
  {
   "cell_type": "code",
   "execution_count": 3,
   "id": "7d0af55b",
   "metadata": {},
   "outputs": [
    {
     "name": "stdout",
     "output_type": "stream",
     "text": [
      "['H', 'E', 'L', 'L', 'O', ' ', 'T', 'H', 'I', 'S', ' ', 'I', 'S', ' ', 'A', ' ', 'U', 'P', 'P', 'E', 'R', ' ', 'C', 'A', 'S', 'E']\n"
     ]
    }
   ],
   "source": [
    "###### convert string to upper case#####\n",
    "\n",
    "strings = \"hello this is a upper case\"\n",
    "upprcase = [upper.upper() for upper in strings]\n",
    "print(upprcase)"
   ]
  },
  {
   "cell_type": "code",
   "execution_count": 4,
   "id": "315f3831",
   "metadata": {},
   "outputs": [
    {
     "name": "stdout",
     "output_type": "stream",
     "text": [
      "[0, 2, 4, 6, 8, 10, 12, 14]\n"
     ]
    }
   ],
   "source": [
    "#### even number between range ####\n",
    "evenNumber = [num for num in range(15) if num % 2 == 0]\n",
    "print(evenNumber)"
   ]
  },
  {
   "cell_type": "code",
   "execution_count": 5,
   "id": "b0f4da29",
   "metadata": {},
   "outputs": [
    {
     "name": "stdout",
     "output_type": "stream",
     "text": [
      "['even', 'odd', 'even', 'odd', 'even', 'odd', 'even', 'odd']\n"
     ]
    }
   ],
   "source": [
    "### lable number as even or odd from/to range   ####\n",
    "evenOddLable = ['even' if num % 2 == 0 else 'odd' for num in range(8) ]\n",
    "print(evenOddLable)"
   ]
  },
  {
   "cell_type": "code",
   "execution_count": 17,
   "id": "063e5f64",
   "metadata": {},
   "outputs": [
    {
     "name": "stdout",
     "output_type": "stream",
     "text": [
      "[1, 2, 3, 4, 5, 6]\n",
      "[[1, 2], [3, 4], [5, 6]]\n"
     ]
    }
   ],
   "source": [
    "##########Example: Flatten a 2D list  \n",
    "matrix = [[1, 2], [3, 4], [5, 6]]\n",
    "flattenList = [element for row in matrix for element in row]\n",
    "print(flattenList)\n",
    "\n",
    "\n",
    "\n",
    "#####  make 2D array of this list\n",
    "cols = 2\n",
    "two_Darray = [flattenList[element:element+cols] for element in range(0, len(flattenList),cols)]\n",
    "print(two_Darray)"
   ]
  },
  {
   "cell_type": "code",
   "execution_count": 26,
   "id": "a884b6f1",
   "metadata": {},
   "outputs": [
    {
     "name": "stdout",
     "output_type": "stream",
     "text": [
      "[[1, 4], [2, 5], [3, 6]]\n"
     ]
    }
   ],
   "source": [
    "# Example: Transpose a matrix  \n",
    "matrix = [[1, 2, 3], [4, 5, 6]] \n",
    "\n",
    "transposed = [[row[i] for row in matrix] for i in range(3)]\n",
    "print(transposed)"
   ]
  },
  {
   "cell_type": "code",
   "execution_count": 28,
   "id": "d227032e",
   "metadata": {},
   "outputs": [
    {
     "name": "stdout",
     "output_type": "stream",
     "text": [
      "[0, 1, 4, 9, 16]\n"
     ]
    }
   ],
   "source": [
    "def square(x): return x * x  \n",
    "squares = [square(x) for x in range(5)]  \n",
    "print(squares)"
   ]
  },
  {
   "cell_type": "code",
   "execution_count": 37,
   "id": "58255919",
   "metadata": {},
   "outputs": [
    {
     "name": "stdout",
     "output_type": "stream",
     "text": [
      "[['red', 'ball'], ['red', 'box'], ['blue', 'ball'], ['blue', 'box']]\n"
     ]
    }
   ],
   "source": [
    "colors = ['red', 'blue']  \n",
    "objects = ['ball', 'box']\n",
    "\n",
    "Cartesian_product  = [[element,element2] for element in colors for element2 in objects]\n",
    "print(Cartesian_product)"
   ]
  },
  {
   "cell_type": "code",
   "execution_count": 38,
   "id": "423600d4",
   "metadata": {},
   "outputs": [
    {
     "name": "stdout",
     "output_type": "stream",
     "text": [
      "[0, 6, 12, 18, 24, 30, 36, 42, 48, 54, 60, 66, 72, 78, 84, 90, 96]\n"
     ]
    }
   ],
   "source": [
    "example = [x for x in range(100) if x % 2 == 0 if x % 3 == 0] \n",
    "print(example)"
   ]
  },
  {
   "cell_type": "code",
   "execution_count": null,
   "id": "ebf2ad7e",
   "metadata": {},
   "outputs": [],
   "source": []
  },
  {
   "cell_type": "code",
   "execution_count": 9,
   "id": "bb3e986b",
   "metadata": {},
   "outputs": [
    {
     "name": "stdout",
     "output_type": "stream",
     "text": [
      "[5, 5, 6]\n"
     ]
    }
   ],
   "source": [
    "# Create a list of the lengths of each word in a given list of words.\n",
    "\n",
    "words = ['hello', 'world', 'python']\n",
    "listOfChar = [sum(1 for _ in word) for word in words]\n",
    "print(listOfChar)"
   ]
  },
  {
   "cell_type": "code",
   "execution_count": null,
   "id": "a29fdcd8",
   "metadata": {},
   "outputs": [],
   "source": []
  },
  {
   "cell_type": "code",
   "execution_count": null,
   "id": "da7d614d",
   "metadata": {},
   "outputs": [],
   "source": []
  },
  {
   "cell_type": "code",
   "execution_count": null,
   "id": "17124efb",
   "metadata": {},
   "outputs": [],
   "source": []
  },
  {
   "cell_type": "code",
   "execution_count": null,
   "id": "118be638",
   "metadata": {},
   "outputs": [],
   "source": []
  },
  {
   "cell_type": "markdown",
   "id": "6cfec67b",
   "metadata": {},
   "source": [
    "### Hard to read  \n",
    "🚫 Problems / Limitations of List Comprehension  \n",
    "Even though list comprehensions are powerful, they are not always the best choice. Here’s why:  \n",
    "\n",
    "1. Readability suffers with complexity   \n",
    "Nested or multi-conditional comprehensions can become unreadable.    \n",
    "  \n",
    "2. Difficult to debug   \n",
    "You can’t insert print() or break/continue easily in a comprehension. Debugging becomes harder.   \n",
    "\n",
    "3. Performance concerns with large data  \n",
    "Comprehensions build entire lists in memory. For large datasets, they can be memory inefficient. Use generators when laziness is preferred.   \n",
    "\n",
    "4. Not suitable for side-effects  \n",
    "If you're doing I/O, logging, or anything with side effects, prefer a regular for loop.  \n",
    "\n",
    "5. Can be misused (too clever)  \n",
    "Overusing them can make code less Pythonic or understandable to beginners or teammates.  \n",
    "\n",
    "6. No Exception Handling  \n",
    "You can’t catch exceptions inside list comprehensions (no try-except blocks directly).  \n",
    "\n",
    "🏁 Final Thoughts  \n",
    "List comprehension is:  \n",
    "\n",
    "Clean and compact  \n",
    "\n",
    "Best for simple transformations  \n",
    "\n",
    "Powerful when used wisely   \n",
    "\n",
    "A poor choice when code clarity, debugging, or side-effects are involved  \n",
    "\n",
    "Would you like a visual diagram or cheat sheet of the list comprehension formats?   \n"
   ]
  }
 ],
 "metadata": {
  "kernelspec": {
   "display_name": "Python 3",
   "language": "python",
   "name": "python3"
  },
  "language_info": {
   "codemirror_mode": {
    "name": "ipython",
    "version": 3
   },
   "file_extension": ".py",
   "mimetype": "text/x-python",
   "name": "python",
   "nbconvert_exporter": "python",
   "pygments_lexer": "ipython3",
   "version": "3.13.5"
  }
 },
 "nbformat": 4,
 "nbformat_minor": 5
}
