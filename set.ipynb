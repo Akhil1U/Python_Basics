{
 "cells": [
  {
   "cell_type": "markdown",
   "id": "2d9697c2",
   "metadata": {},
   "source": [
    "# set\n",
    "### A set is a collection which is unordered, unchangeable*, and unindexed. No Duplicates\n",
    "\n",
    "=-> Set items are unchangeable, but you can remove items and add new items."
   ]
  },
  {
   "cell_type": "markdown",
   "id": "acd3682b",
   "metadata": {},
   "source": [
    " ### Note: Sets are unordered, so you cannot be sure in which order the items will appear. except all numeric values in set"
   ]
  },
  {
   "cell_type": "code",
   "execution_count": 9,
   "id": "4ac5e427",
   "metadata": {},
   "outputs": [
    {
     "name": "stdout",
     "output_type": "stream",
     "text": [
      "{'apple', 'cherry', 'banana'}\n"
     ]
    }
   ],
   "source": [
    "thisset = {\"apple\", \"banana\", \"cherry\"}\n",
    "print(thisset)"
   ]
  },
  {
   "cell_type": "code",
   "execution_count": 10,
   "id": "2d7e488d",
   "metadata": {},
   "outputs": [
    {
     "name": "stdout",
     "output_type": "stream",
     "text": [
      "{'apple', 'cherry', 'banana'}\n"
     ]
    }
   ],
   "source": [
    "print(thisset)"
   ]
  },
  {
   "cell_type": "code",
   "execution_count": null,
   "id": "9c22201e",
   "metadata": {},
   "outputs": [
    {
     "name": "stdout",
     "output_type": "stream",
     "text": [
      "{1, 2, 3, 5, 6}\n"
     ]
    }
   ],
   "source": [
    "numericset = {1,2,3,5,6,3} # it's always sorted ans ordered bcz it's numeric values\n",
    "print(numericset)"
   ]
  },
  {
   "cell_type": "code",
   "execution_count": null,
   "id": "82777f4b",
   "metadata": {},
   "outputs": [
    {
     "name": "stdout",
     "output_type": "stream",
     "text": [
      "{'d', 'c', 'a', 'b'}\n",
      "{'d', 'c', 'a', 'b'}\n"
     ]
    }
   ],
   "source": [
    "thisset = {'a','b','c','d'} # it's unordered \n",
    "print(thisset)\n",
    "print(thisset)"
   ]
  },
  {
   "cell_type": "markdown",
   "id": "ce2cb0a1",
   "metadata": {},
   "source": [
    "### Once a set is created, you cannot change its items, but you can REMOVE items and ADD new items.\n",
    "### Note: The values True and 1 are considered the same value in sets, and are treated as duplicates:\n",
    "### Note: The values False and 0 are considered the same value in sets, and are treated as duplicates:"
   ]
  },
  {
   "cell_type": "markdown",
   "id": "db418483",
   "metadata": {},
   "source": [
    "## Add()- method"
   ]
  },
  {
   "cell_type": "code",
   "execution_count": 1,
   "id": "2177b9d5",
   "metadata": {},
   "outputs": [
    {
     "name": "stdout",
     "output_type": "stream",
     "text": [
      "{'orange', 'banana', 'apple', 'cherry'}\n"
     ]
    }
   ],
   "source": [
    "thisset = {\"apple\", \"banana\", \"cherry\"}\n",
    "\n",
    "thisset.add(\"orange\")\n",
    "\n",
    "print(thisset)"
   ]
  },
  {
   "cell_type": "markdown",
   "id": "a3d59baa",
   "metadata": {},
   "source": [
    "## Update()- method\n",
    "\n",
    "### update in set can have any ITERABLE as argument\n",
    "\n",
    "\n",
    "### Note: if we use single element not variable than it will spread all object within set"
   ]
  },
  {
   "cell_type": "code",
   "execution_count": 8,
   "id": "90e75fec",
   "metadata": {},
   "outputs": [
    {
     "name": "stdout",
     "output_type": "stream",
     "text": [
      "{'banana', 'papaya', 'apple', 'pineapple', 'cherry', 'mango'}\n",
      "{'papaya', 'apple', 'pineapple', 'W', 'cherry', 'I', 'banana', 'mango', 'K'}\n"
     ]
    }
   ],
   "source": [
    "thisset = {\"apple\", \"banana\", \"cherry\"}\n",
    "tropical = {\"pineapple\", \"mango\", \"papaya\"}\n",
    "\n",
    "thisset.update(tropical)\n",
    "\n",
    "\n",
    "print(thisset)\n",
    "thisset.update(\"KIWI\")  #{'k', 'papaya', 'apple', 'pineapple', 'i', 'cherry', 'banana', 'mango', 'w'}\n",
    "\n",
    "print(thisset)"
   ]
  },
  {
   "cell_type": "markdown",
   "id": "dd1532aa",
   "metadata": {},
   "source": [
    "## Remove set items\n",
    "\n",
    "### thisset.remove(\"banana\")"
   ]
  },
  {
   "cell_type": "code",
   "execution_count": null,
   "id": "8d1573bf",
   "metadata": {},
   "outputs": [
    {
     "name": "stdout",
     "output_type": "stream",
     "text": [
      "{'banana', 'pineapple', 'apple', 'cherry', 'wiki'}\n",
      "{'banana', 'pineapple', 'apple', 'cherry', 'wiki'}\n",
      "{'pineapple', 'apple', 'cherry', 'wiki'}\n",
      "set()\n"
     ]
    },
    {
     "ename": "NameError",
     "evalue": "name 'thisset' is not defined",
     "output_type": "error",
     "traceback": [
      "\u001b[31m---------------------------------------------------------------------------\u001b[39m",
      "\u001b[31mNameError\u001b[39m                                 Traceback (most recent call last)",
      "\u001b[36mCell\u001b[39m\u001b[36m \u001b[39m\u001b[32mIn[20]\u001b[39m\u001b[32m, line 25\u001b[39m\n\u001b[32m     23\u001b[39m \u001b[38;5;66;03m#### del keyword\u001b[39;00m\n\u001b[32m     24\u001b[39m \u001b[38;5;28;01mdel\u001b[39;00m thisset\n\u001b[32m---> \u001b[39m\u001b[32m25\u001b[39m \u001b[38;5;28mprint\u001b[39m(\u001b[43mthisset\u001b[49m)\n",
      "\u001b[31mNameError\u001b[39m: name 'thisset' is not defined"
     ]
    }
   ],
   "source": [
    "thisset = {\"apple\", \"banana\", \"cherry\",'wiki', \"pineapple\"}\n",
    "\n",
    "\n",
    "### Remove - it will rise ERROR id item does not exist\n",
    "# thisset.remove(\"mango\")\n",
    "print(thisset)\n",
    "\n",
    "### discard() = it will not rise error\n",
    "thisset.discard(\"mango\")\n",
    "print(thisset)\n",
    "\n",
    "\n",
    "### pop() = it return any element from set while set is unordered\n",
    "thisset.pop()\n",
    "print(thisset) \n",
    "\n",
    "\n",
    "### clear() = empties the set\n",
    "thisset.clear()\n",
    "print(thisset)\n",
    "\n",
    "\n",
    "#### del keyword\n",
    "del thisset\n",
    "print(thisset) # outpur \" this set is not defined\""
   ]
  },
  {
   "cell_type": "markdown",
   "id": "1f784b47",
   "metadata": {},
   "source": [
    "## join set"
   ]
  },
  {
   "cell_type": "code",
   "execution_count": null,
   "id": "7a43542c",
   "metadata": {},
   "outputs": [
    {
     "name": "stdout",
     "output_type": "stream",
     "text": [
      "{'c', 1, 2, 3, 'b', '2', '1', 'a'}\n",
      "{'a', '1'}\n",
      "{'c', '2', 'b'}\n",
      "{1, 2, 3, 'c', 'b', '2'}\n"
     ]
    }
   ],
   "source": [
    "set1 = {\"a\", \"b\", \"c\", '1', '2', '2' }\n",
    "set2 = {1, 2, 3, '1',\"a\"}\n",
    "\n",
    "#### union of set  ===> The union() and update() methods joins all items from both sets.\n",
    "unionset = set1.union(set2)\n",
    "print(unionset)\n",
    "\n",
    "\n",
    "### intersection - only duplicate\n",
    "\n",
    "intersectionset = set1.intersection(set2)\n",
    "print(intersectionset)\n",
    "\n",
    "\n",
    "### difference = method keeps the items from the first set that are not in the other set(s).\n",
    "### sybol  -\n",
    "differenceset = set1.difference(set2)\n",
    "print(differenceset)\n",
    "\n",
    "\n",
    "### symmetric_difference = all item axcept duplicate  \n",
    "## symbol   ' ^ ' \n",
    "\n",
    "symmetric_difference_set = set1.symmetric_difference(set2)\n",
    "print(symmetric_difference_set)"
   ]
  },
  {
   "cell_type": "markdown",
   "id": "29474a79",
   "metadata": {},
   "source": [
    "### join set with other datatype like list and tuple\n"
   ]
  },
  {
   "cell_type": "code",
   "execution_count": null,
   "id": "6be80c4c",
   "metadata": {},
   "outputs": [
    {
     "name": "stdout",
     "output_type": "stream",
     "text": [
      "{'c', 2, 1, 3, 'b', 'a'}\n",
      "{'c', 2, 1, 3, 'b', 'a'}\n",
      "\n",
      "\n",
      "{'c', 1, 2, 3, 'b', 'bananas', 'a', 'apple', 'cherry', 'John', 'Elena'}\n",
      "{'c', 1, 2, 3, 'b', 'bananas', 'a', 'apple', 'cherry', 'John', 'Elena'}\n"
     ]
    }
   ],
   "source": [
    "set1 = {\"a\", \"b\", \"c\"}\n",
    "list1 = [1,2,3]\n",
    "tuple1 = (1, 2, 3)\n",
    "\n",
    "finalset1 = set1.union(tuple1)  #### set + tuple\n",
    "print(finalset1)   \n",
    "\n",
    "\n",
    "finalset2 = set1.union(list1) ### set + list\n",
    "print(finalset2)\n",
    "\n",
    "print()\n",
    "print()\n",
    "\n",
    "\n",
    "##### join multiple set\n",
    "set1 = {\"a\", \"b\", \"c\"}\n",
    "set2 = {1, 2, 3}\n",
    "set3 = {\"John\", \"Elena\"}\n",
    "set4 = {\"apple\", \"bananas\", \"cherry\"}\n",
    "\n",
    "myset = set1.union(set2, set3, set4)\n",
    "print(myset)\n",
    "\n",
    "\n",
    "myset = set1 | set2 | set3 |set4  # same as union\n",
    "print(myset)\n",
    "\n",
    "# & use insted of itersection\n",
    "# - instead of difference\n",
    "# ^ instead of symmetric_difference\n",
    "# | insted of union"
   ]
  },
  {
   "cell_type": "markdown",
   "id": "c08d2f24",
   "metadata": {},
   "source": [
    "###  Note: Both union() and update() will exclude any duplicate items."
   ]
  },
  {
   "cell_type": "markdown",
   "id": "7596f66f",
   "metadata": {},
   "source": [
    "# all set method"
   ]
  },
  {
   "cell_type": "markdown",
   "id": "6a3564c8",
   "metadata": {},
   "source": [
    "add()\t                  \t------Adds an element to the set      \n",
    "clear()\t \t                ------Removes all the elements from the set   \n",
    "copy()\t \t               --------- Returns a copy of the set      \n",
    "difference()\t-\t        --------Returns a set containing the difference between two or more sets      \n",
    "difference_update()\t-=\t    ----------Removes the items in this set that are also included in another, specified set     \n",
    "discard()\t \t            -------Remove the specified item     \n",
    "intersection()\t&\t        ----------Returns a set, that is the intersection of two other sets      \n",
    "intersection_update()\t&=\t--------Removes the items in this set that are not present in other, specified set(s)     \n",
    "isdisjoint()\t \t       ---------- Returns whether two sets have a intersection or not    \n",
    "issubset()\t<=\t            ----------Returns True if all items of this set is present in another set   \n",
    " \t<\t                    ----------Returns True if all items of this set is present in another, larger set     \n",
    "issuperset()\t>=         ---------- Returns True if all items of another set is present in this set    \n",
    " \t>\t                    -----------Returns True if all items of another, smaller set is present in thi s set        \n",
    "pop()\t                \t---------Removes an element from the set   \n",
    "remove()\t \t            ------------Removes the specified element      \n",
    "symmetric_difference()\t^\t   ----------------Returns a set with the symmetric differences of two sets     \n",
    "symmetric_difference_update()\t^=\t  ----------  Inserts the symmetric differences from this set and another    \n",
    "union()\t|\t                          --------  Return a set containing the union of sets          \n",
    "update()\t|=\t                      -----------  Update the set with the union of this set and others      "
   ]
  }
 ],
 "metadata": {
  "kernelspec": {
   "display_name": "Python 3",
   "language": "python",
   "name": "python3"
  },
  "language_info": {
   "codemirror_mode": {
    "name": "ipython",
    "version": 3
   },
   "file_extension": ".py",
   "mimetype": "text/x-python",
   "name": "python",
   "nbconvert_exporter": "python",
   "pygments_lexer": "ipython3",
   "version": "3.13.5"
  }
 },
 "nbformat": 4,
 "nbformat_minor": 5
}
