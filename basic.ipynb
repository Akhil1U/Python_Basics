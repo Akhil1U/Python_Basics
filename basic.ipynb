{
 "cells": [
  {
   "cell_type": "markdown",
   "id": "4ee5afc7",
   "metadata": {},
   "source": [
    "## Python data types. i.e, 15 data types\n"
   ]
  },
  {
   "cell_type": "markdown",
   "id": "80878ddc",
   "metadata": {},
   "source": []
  },
  {
   "cell_type": "markdown",
   "id": "f0020405",
   "metadata": {},
   "source": [
    "#### Text Type:\tstr \n",
    "#### Numeric Types:\tint, float, complex\n",
    "#### Sequence Types:\tlist, tuple, range\n",
    "#### Mapping Type:\tdict\n",
    "#### Set Types:\tset, frozenset\n",
    "#### Boolean Type:\tbool\n",
    "#### Binary Types:\tbytes, bytearray, memoryview\n",
    "#### None Type:\tNoneType"
   ]
  },
  {
   "cell_type": "code",
   "execution_count": 1,
   "id": "b070c455",
   "metadata": {},
   "outputs": [
    {
     "name": "stdout",
     "output_type": "stream",
     "text": [
      "5j\n"
     ]
    }
   ],
   "source": [
    "# complex data type\n",
    "complex1 = 5j\n",
    "print(complex1)"
   ]
  },
  {
   "cell_type": "markdown",
   "id": "e707d45c",
   "metadata": {},
   "source": [
    "### None type"
   ]
  },
  {
   "cell_type": "code",
   "execution_count": 14,
   "id": "1a8fb09c",
   "metadata": {},
   "outputs": [
    {
     "name": "stdout",
     "output_type": "stream",
     "text": [
      "None\n",
      "<class 'NoneType'>\n"
     ]
    }
   ],
   "source": [
    "x = None\n",
    "\n",
    "#display x:\n",
    "print(x)\n",
    "\n",
    "#display the data type of x:\n",
    "print(type(x)) \n"
   ]
  },
  {
   "cell_type": "code",
   "execution_count": 2,
   "id": "8d21f626",
   "metadata": {},
   "outputs": [
    {
     "name": "stdout",
     "output_type": "stream",
     "text": [
      "range(0, 5)\n"
     ]
    }
   ],
   "source": [
    "x = range(5)\n",
    "print(x)"
   ]
  },
  {
   "cell_type": "markdown",
   "id": "f1c2a6f5",
   "metadata": {},
   "source": [
    "### frozen set\n"
   ]
  },
  {
   "cell_type": "code",
   "execution_count": 4,
   "id": "caac003a",
   "metadata": {},
   "outputs": [
    {
     "name": "stdout",
     "output_type": "stream",
     "text": [
      "<class 'frozenset'> frozenset({'cherry', 'banana', 'apple'})\n"
     ]
    }
   ],
   "source": [
    "x = frozenset({\"apple\", \"banana\", \"cherry\"})\n",
    "print(type(x),x)"
   ]
  },
  {
   "cell_type": "code",
   "execution_count": 5,
   "id": "db9e8f20",
   "metadata": {},
   "outputs": [
    {
     "name": "stdout",
     "output_type": "stream",
     "text": [
      "True\n",
      "<class 'bool'>\n"
     ]
    }
   ],
   "source": [
    "#------------bool---------->\n",
    "x = True\n",
    "\n",
    "#display x:\n",
    "print(x)\n",
    "\n",
    "#display the data type of x:\n",
    "print(type(x)) \n"
   ]
  },
  {
   "cell_type": "markdown",
   "id": "da3e8bca",
   "metadata": {},
   "source": [
    "### bytes"
   ]
  },
  {
   "cell_type": "code",
   "execution_count": 7,
   "id": "d2a8c258",
   "metadata": {},
   "outputs": [
    {
     "name": "stdout",
     "output_type": "stream",
     "text": [
      "b'\\x00\\x00\\x00\\x00\\x00'\n",
      "<class 'bytes'>\n",
      "\n",
      "b'Hello'\n",
      "<class 'bytes'>\n"
     ]
    }
   ],
   "source": [
    "#-------bytes--------\n",
    "x = bytes(5)\n",
    "\n",
    "#display x:\n",
    "print(x)\n",
    "\n",
    "#display the data type of x:\n",
    "print(type(x)) \n",
    "\n",
    "print()\n",
    "\n",
    "x = b\"Hello\"\n",
    "\n",
    "#display x:\n",
    "print(x)\n",
    "\n",
    "#display the data type of x:\n",
    "print(type(x)) \n",
    "\n"
   ]
  },
  {
   "cell_type": "code",
   "execution_count": 11,
   "id": "cfd94912",
   "metadata": {},
   "outputs": [
    {
     "name": "stdout",
     "output_type": "stream",
     "text": [
      "b'geeks'\n"
     ]
    }
   ],
   "source": [
    "a = \"geeks\"\n",
    "\n",
    " # UTF-8 encoding is used\n",
    "b = bytes(a, 'utf-8') \n",
    "print(b)"
   ]
  },
  {
   "cell_type": "markdown",
   "id": "eba18b83",
   "metadata": {},
   "source": [
    "### bytearray"
   ]
  },
  {
   "cell_type": "code",
   "execution_count": null,
   "id": "c2be89a7",
   "metadata": {},
   "outputs": [
    {
     "name": "stdout",
     "output_type": "stream",
     "text": [
      "bytearray(b'\\x00\\x00\\x00\\x00\\x00')\n",
      "<class 'bytearray'>\n"
     ]
    }
   ],
   "source": [
    "x = bytearray(5)\n",
    "\n",
    "#display x:\n",
    "print(x)\n",
    "\n",
    "#display the data type of x:\n",
    "print(type(x))  "
   ]
  },
  {
   "cell_type": "markdown",
   "id": "cd5a0252",
   "metadata": {},
   "source": [
    "### memoryview"
   ]
  },
  {
   "cell_type": "code",
   "execution_count": 13,
   "id": "97f88bbe",
   "metadata": {},
   "outputs": [
    {
     "name": "stdout",
     "output_type": "stream",
     "text": [
      "<memory at 0x000001659596B340>\n",
      "<class 'memoryview'>\n"
     ]
    }
   ],
   "source": [
    "x = memoryview(bytes(5))\n",
    "\n",
    "#display x:\n",
    "print(x)\n",
    "\n",
    "#display the data type of x:\n",
    "print(type(x)) "
   ]
  }
 ],
 "metadata": {
  "kernelspec": {
   "display_name": "Python 3",
   "language": "python",
   "name": "python3"
  },
  "language_info": {
   "codemirror_mode": {
    "name": "ipython",
    "version": 3
   },
   "file_extension": ".py",
   "mimetype": "text/x-python",
   "name": "python",
   "nbconvert_exporter": "python",
   "pygments_lexer": "ipython3",
   "version": "3.13.5"
  }
 },
 "nbformat": 4,
 "nbformat_minor": 5
}
