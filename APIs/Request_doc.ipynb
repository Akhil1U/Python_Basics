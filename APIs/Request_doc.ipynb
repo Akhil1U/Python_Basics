{
 "cells": [
  {
   "cell_type": "markdown",
   "id": "4f4c8b48",
   "metadata": {},
   "source": [
    "## HTTP request methods\n",
    "\n",
    "\n",
    "== url: https://developer.mozilla.org/en-US/docs/Web/HTTP/Reference/Methods"
   ]
  },
  {
   "cell_type": "markdown",
   "id": "530f5ea1",
   "metadata": {},
   "source": [
    "### GET\n",
    "--->Requests using GET should only retrieve data and should not contain a request content.\n",
    "### HEAD\n",
    "---> The HEAD method asks for a response identical to a GET request, but without a response body.\n",
    "### POST\n",
    "--->The POST method submits an entity to the specified resource, often causing a change in state or side effects on the server.\n",
    "### PUT\n",
    "---> The PUT method replaces all current representations of the target resource with the request content.\n",
    "### DELETE\n",
    "---> The DELETE method deletes the specified resource.\n",
    "### PATCH\n",
    "---> The PATCH method applies partial modifications to a resource."
   ]
  },
  {
   "cell_type": "markdown",
   "id": "7c51d908",
   "metadata": {},
   "source": []
  },
  {
   "cell_type": "markdown",
   "id": "4cd0de29",
   "metadata": {},
   "source": []
  },
  {
   "cell_type": "markdown",
   "id": "83de6f2f",
   "metadata": {},
   "source": []
  },
  {
   "cell_type": "markdown",
   "id": "047280e0",
   "metadata": {},
   "source": [
    "## HTTP response status codes"
   ]
  },
  {
   "cell_type": "markdown",
   "id": "5264f1c8",
   "metadata": {},
   "source": [
    "Informational responses (100 – 199)\n",
    "Successful responses (200 – 299)\n",
    "Redirection messages (300 – 399)\n",
    "Client error responses (400 – 499)\n",
    "Server error responses (500 – 599)\n",
    "\n",
    "\n",
    "for detail refer this : https://developer.mozilla.org/en-US/docs/Web/HTTP/Reference/Status#informational_responses"
   ]
  },
  {
   "cell_type": "markdown",
   "id": "bbfd4224",
   "metadata": {},
   "source": [
    "### 200: ok  \n",
    "GET: The resource has been fetched and transmitted in the message body.   \n",
    "HEAD: Representation headers are included in the response without any message body.   \n",
    "PUT or POST: The resource describing the result of the action is transmitted in the message body.   \n",
    "TRACE: The message body contains the request as received by the server.  \n",
    "\n",
    "\n",
    "### 204 No Content- \n",
    "#### There is no content to send for this request,\n",
    "\n",
    "\n",
    "### 301\n",
    "#### moved parminately -The URL of the requested resource has been changed permanently. The new URL is given in the response.\n",
    "\n",
    "\n",
    "### 400 bad request\n",
    "#### The server cannot or will not process the request due to something that is perceived to be a client error (e.g., malformed request syntax, invalid request message framing, or deceptive request routing).\n",
    "\n",
    "### 401 - unauthorized access\n",
    "\n",
    "### 403 Forbidden\n",
    "#### The client does not have access rights to the content; that is, it is unauthorized, so the server is refusing to give the requested resource. Unlike 401 Unauthorized, the #### client's identity is known to the server.\n",
    "\n",
    "\n",
    "### 404 not found\n",
    "#### The server cannot find the requested resource , the resource itself does not exist\n",
    "\n",
    "\n",
    "### 405 Method Not Allowed\n",
    "#### The request method is known by the server but is not supported by the target resource. For example, an API may not allow DELETE on a resource, or the TRACE method entirely.\n",
    "\n",
    "\n",
    "### 500 Internal Server Error\n",
    "#### server cannot find a more appropriate 5XX status code to respond with.\n",
    "\n",
    "### 501 Not Implemented\n",
    "#### The request method is not supported by the server and cannot be handled. The only methods that servers are required to support (and therefore that must not return this code) are GET and HEAD."
   ]
  }
 ],
 "metadata": {
  "language_info": {
   "name": "python"
  }
 },
 "nbformat": 4,
 "nbformat_minor": 5
}
