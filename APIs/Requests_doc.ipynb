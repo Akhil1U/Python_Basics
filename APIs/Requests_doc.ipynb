{
 "cells": [
  {
   "cell_type": "markdown",
   "id": "4f4c8b48",
   "metadata": {},
   "source": [
    "## HTTP request methods\n",
    "\n",
    "\n",
    "== url: https://developer.mozilla.org/en-US/docs/Web/HTTP/Reference/Methods"
   ]
  },
  {
   "cell_type": "markdown",
   "id": "530f5ea1",
   "metadata": {},
   "source": [
    "\n",
    "### HEAD\n",
    "---> The HEAD method asks for a response identical to a GET request, but without a response body.\n",
    "\n",
    "\n",
    "### DELETE\n",
    "---> The DELETE method deletes the specified resource.\n"
   ]
  },
  {
   "cell_type": "code",
   "execution_count": null,
   "id": "c17cc988",
   "metadata": {},
   "outputs": [],
   "source": [
    "#### GET\n",
    "# --->Requests using GET should only retrieve data and should not contain a request content.\n",
    "\n",
    "\n",
    "params = {'q': 'London', 'appid': 'your_api_key'}\n",
    "response = requests.get('https://api.openweathermap.org/data/2.5/weather', params=params)"
   ]
  },
  {
   "cell_type": "code",
   "execution_count": null,
   "id": "3266f0cb",
   "metadata": {},
   "outputs": [],
   "source": [
    "### POST = Send data to the server, usually to create a new resource.\n",
    "\n",
    "\n",
    "#$# You sign up on a website, and your data is sent to the server. and for submitting forms, registration etc..,\n",
    "\n",
    "data = {'name' : 'avbhd', 'user_name' : 'jdfkdnf'}\n",
    "\n",
    "response = request.post(url, json=data)"
   ]
  },
  {
   "cell_type": "code",
   "execution_count": null,
   "id": "ac748c6a",
   "metadata": {},
   "outputs": [],
   "source": [
    "#### PUT Update a resource completely on the server.\n",
    "\n",
    "### Example : you are editing your profile, so need to update data on server\n",
    "\n",
    "data = {\"name\":\"jhv\", \"email\":'ngkn@jh.com'}\n",
    "response = request.PUT(url,json=data)"
   ]
  },
  {
   "cell_type": "code",
   "execution_count": null,
   "id": "45bf61e8",
   "metadata": {},
   "outputs": [],
   "source": [
    "#### PATCH\n",
    "\n",
    "#### partially update data, like you want to updae email\n",
    "\n",
    "data = { \"email\":'ngkn@jh.com'}\n",
    "response = request.PATCH(url,json=data)\n",
    "\n"
   ]
  },
  {
   "cell_type": "code",
   "execution_count": null,
   "id": "89f2d536",
   "metadata": {},
   "outputs": [],
   "source": [
    "### DELETE\n",
    "\n",
    "#### DELETE A resource from server\n",
    "\n",
    "#Example : you are going to delete your account\n",
    "\n",
    "response = request.DELETE(url)"
   ]
  },
  {
   "cell_type": "code",
   "execution_count": null,
   "id": "9f177ebe",
   "metadata": {},
   "outputs": [],
   "source": [
    "### HEAD\n",
    "\n",
    "# work as GET but only fetch head data do not fetch body\n",
    "\n",
    "# Example: You want to check if a file exists on a server without downloading it.\n",
    "\n",
    "\n",
    "response = requests.head('https://example.com/file.pdf')\n",
    "\n",
    "print(response.headers['Content-Length']) "
   ]
  },
  {
   "cell_type": "markdown",
   "id": "047280e0",
   "metadata": {},
   "source": [
    "## HTTP response status codes"
   ]
  },
  {
   "cell_type": "markdown",
   "id": "5264f1c8",
   "metadata": {},
   "source": [
    "Informational responses (100 – 199)\n",
    "Successful responses (200 – 299)\n",
    "Redirection messages (300 – 399)\n",
    "Client error responses (400 – 499)\n",
    "Server error responses (500 – 599)\n",
    "\n",
    "\n",
    "for detail refer this : https://developer.mozilla.org/en-US/docs/Web/HTTP/Reference/Status#informational_responses"
   ]
  },
  {
   "cell_type": "markdown",
   "id": "bbfd4224",
   "metadata": {},
   "source": [
    "### 200: ok  \n",
    "GET: The resource has been fetched and transmitted in the message body.   \n",
    "HEAD: Representation headers are included in the response without any message body.   \n",
    "PUT or POST: The resource describing the result of the action is transmitted in the message body.   \n",
    "TRACE: The message body contains the request as received by the server.  \n",
    "\n",
    "\n",
    "### 204 No Content- \n",
    "#### There is no content to send for this request,\n",
    "\n",
    "\n",
    "### 301\n",
    "#### moved parminately -The URL of the requested resource has been changed permanently. The new URL is given in the response.\n",
    "\n",
    "\n",
    "### 400 bad request\n",
    "#### The server cannot or will not process the request due to something that is perceived to be a client error (e.g., malformed request syntax, invalid request message framing, or deceptive request routing).\n",
    "\n",
    "### 401 - unauthorized access\n",
    "\n",
    "### 403 Forbidden\n",
    "#### The client does not have access rights to the content; that is, it is unauthorized, so the server is refusing to give the requested resource. Unlike 401 Unauthorized, the #### client's identity is known to the server.\n",
    "\n",
    "\n",
    "### 404 not found\n",
    "#### The server cannot find the requested resource , the resource itself does not exist\n",
    "\n",
    "\n",
    "### 405 Method Not Allowed\n",
    "#### The request method is known by the server but is not supported by the target resource. For example, an API may not allow DELETE on a resource, or the TRACE method entirely.\n",
    "\n",
    "\n",
    "### 500 Internal Server Error\n",
    "#### server cannot find a more appropriate 5XX status code to respond with.\n",
    "\n",
    "### 501 Not Implemented\n",
    "#### The request method is not supported by the server and cannot be handled. The only methods that servers are required to support (and therefore that must not return this code) are GET and HEAD."
   ]
  }
 ],
 "metadata": {
  "kernelspec": {
   "display_name": "Python 3",
   "language": "python",
   "name": "python3"
  },
  "language_info": {
   "name": "python",
   "version": "3.13.5"
  }
 },
 "nbformat": 4,
 "nbformat_minor": 5
}
