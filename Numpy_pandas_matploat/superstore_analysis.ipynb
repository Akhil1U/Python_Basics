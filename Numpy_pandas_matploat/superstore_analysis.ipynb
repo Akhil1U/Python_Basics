{
 "cells": [
  {
   "cell_type": "code",
   "execution_count": 182,
   "id": "053825d7-2618-47cc-ba59-75fe473f92fc",
   "metadata": {},
   "outputs": [],
   "source": [
    "import pandas as pd\n",
    "import chardet\n",
    "# import matploatlib as matlib\n",
    "# ! pip install jupyterlab anywidget"
   ]
  },
  {
   "cell_type": "code",
   "execution_count": null,
   "id": "0cca6f79-07c7-41b9-b605-b37f0703e76d",
   "metadata": {},
   "outputs": [],
   "source": [
    "\n",
    "\n",
    "with open(\"superstore.csv\", 'rb') as f:\n",
    "    result = chardet.detect(f.read())\n",
    "print(result)\n",
    "df = pd.read_csv(\"Superstore.csv\", encoding=result['encoding'])"
   ]
  },
  {
   "cell_type": "markdown",
   "id": "790a755a-549a-40cd-9b5e-034331fb0838",
   "metadata": {},
   "source": [
    "### ✅PHASE 1: Set Up and Understand the Data"
   ]
  },
  {
   "cell_type": "code",
   "execution_count": 54,
   "id": "676a5a91-865b-4999-b7b1-3a53f0ad6bd0",
   "metadata": {},
   "outputs": [
    {
     "data": {
      "text/html": [
       "<div>\n",
       "<style scoped>\n",
       "    .dataframe tbody tr th:only-of-type {\n",
       "        vertical-align: middle;\n",
       "    }\n",
       "\n",
       "    .dataframe tbody tr th {\n",
       "        vertical-align: top;\n",
       "    }\n",
       "\n",
       "    .dataframe thead th {\n",
       "        text-align: right;\n",
       "    }\n",
       "</style>\n",
       "<table border=\"1\" class=\"dataframe\">\n",
       "  <thead>\n",
       "    <tr style=\"text-align: right;\">\n",
       "      <th></th>\n",
       "      <th>Row ID</th>\n",
       "      <th>Order ID</th>\n",
       "      <th>Order Date</th>\n",
       "      <th>Ship Date</th>\n",
       "      <th>Ship Mode</th>\n",
       "      <th>Customer ID</th>\n",
       "      <th>Customer Name</th>\n",
       "      <th>Segment</th>\n",
       "      <th>Country</th>\n",
       "      <th>City</th>\n",
       "      <th>...</th>\n",
       "      <th>Postal Code</th>\n",
       "      <th>Region</th>\n",
       "      <th>Product ID</th>\n",
       "      <th>Category</th>\n",
       "      <th>Sub-Category</th>\n",
       "      <th>Product Name</th>\n",
       "      <th>Sales</th>\n",
       "      <th>Quantity</th>\n",
       "      <th>Discount</th>\n",
       "      <th>Profit</th>\n",
       "    </tr>\n",
       "  </thead>\n",
       "  <tbody>\n",
       "    <tr>\n",
       "      <th>0</th>\n",
       "      <td>1</td>\n",
       "      <td>CA-2016-152156</td>\n",
       "      <td>11/8/2016</td>\n",
       "      <td>11/11/2016</td>\n",
       "      <td>Second Class</td>\n",
       "      <td>CG-12520</td>\n",
       "      <td>Claire Gute</td>\n",
       "      <td>Consumer</td>\n",
       "      <td>United States</td>\n",
       "      <td>Henderson</td>\n",
       "      <td>...</td>\n",
       "      <td>42420</td>\n",
       "      <td>South</td>\n",
       "      <td>FUR-BO-10001798</td>\n",
       "      <td>Furniture</td>\n",
       "      <td>Bookcases</td>\n",
       "      <td>Bush Somerset Collection Bookcase</td>\n",
       "      <td>261.9600</td>\n",
       "      <td>2</td>\n",
       "      <td>0.00</td>\n",
       "      <td>41.9136</td>\n",
       "    </tr>\n",
       "    <tr>\n",
       "      <th>1</th>\n",
       "      <td>2</td>\n",
       "      <td>CA-2016-152156</td>\n",
       "      <td>11/8/2016</td>\n",
       "      <td>11/11/2016</td>\n",
       "      <td>Second Class</td>\n",
       "      <td>CG-12520</td>\n",
       "      <td>Claire Gute</td>\n",
       "      <td>Consumer</td>\n",
       "      <td>United States</td>\n",
       "      <td>Henderson</td>\n",
       "      <td>...</td>\n",
       "      <td>42420</td>\n",
       "      <td>South</td>\n",
       "      <td>FUR-CH-10000454</td>\n",
       "      <td>Furniture</td>\n",
       "      <td>Chairs</td>\n",
       "      <td>Hon Deluxe Fabric Upholstered Stacking Chairs,...</td>\n",
       "      <td>731.9400</td>\n",
       "      <td>3</td>\n",
       "      <td>0.00</td>\n",
       "      <td>219.5820</td>\n",
       "    </tr>\n",
       "    <tr>\n",
       "      <th>2</th>\n",
       "      <td>3</td>\n",
       "      <td>CA-2016-138688</td>\n",
       "      <td>6/12/2016</td>\n",
       "      <td>6/16/2016</td>\n",
       "      <td>Second Class</td>\n",
       "      <td>DV-13045</td>\n",
       "      <td>Darrin Van Huff</td>\n",
       "      <td>Corporate</td>\n",
       "      <td>United States</td>\n",
       "      <td>Los Angeles</td>\n",
       "      <td>...</td>\n",
       "      <td>90036</td>\n",
       "      <td>West</td>\n",
       "      <td>OFF-LA-10000240</td>\n",
       "      <td>Office Supplies</td>\n",
       "      <td>Labels</td>\n",
       "      <td>Self-Adhesive Address Labels for Typewriters b...</td>\n",
       "      <td>14.6200</td>\n",
       "      <td>2</td>\n",
       "      <td>0.00</td>\n",
       "      <td>6.8714</td>\n",
       "    </tr>\n",
       "    <tr>\n",
       "      <th>3</th>\n",
       "      <td>4</td>\n",
       "      <td>US-2015-108966</td>\n",
       "      <td>10/11/2015</td>\n",
       "      <td>10/18/2015</td>\n",
       "      <td>Standard Class</td>\n",
       "      <td>SO-20335</td>\n",
       "      <td>Sean O'Donnell</td>\n",
       "      <td>Consumer</td>\n",
       "      <td>United States</td>\n",
       "      <td>Fort Lauderdale</td>\n",
       "      <td>...</td>\n",
       "      <td>33311</td>\n",
       "      <td>South</td>\n",
       "      <td>FUR-TA-10000577</td>\n",
       "      <td>Furniture</td>\n",
       "      <td>Tables</td>\n",
       "      <td>Bretford CR4500 Series Slim Rectangular Table</td>\n",
       "      <td>957.5775</td>\n",
       "      <td>5</td>\n",
       "      <td>0.45</td>\n",
       "      <td>-383.0310</td>\n",
       "    </tr>\n",
       "    <tr>\n",
       "      <th>4</th>\n",
       "      <td>5</td>\n",
       "      <td>US-2015-108966</td>\n",
       "      <td>10/11/2015</td>\n",
       "      <td>10/18/2015</td>\n",
       "      <td>Standard Class</td>\n",
       "      <td>SO-20335</td>\n",
       "      <td>Sean O'Donnell</td>\n",
       "      <td>Consumer</td>\n",
       "      <td>United States</td>\n",
       "      <td>Fort Lauderdale</td>\n",
       "      <td>...</td>\n",
       "      <td>33311</td>\n",
       "      <td>South</td>\n",
       "      <td>OFF-ST-10000760</td>\n",
       "      <td>Office Supplies</td>\n",
       "      <td>Storage</td>\n",
       "      <td>Eldon Fold 'N Roll Cart System</td>\n",
       "      <td>22.3680</td>\n",
       "      <td>2</td>\n",
       "      <td>0.20</td>\n",
       "      <td>2.5164</td>\n",
       "    </tr>\n",
       "  </tbody>\n",
       "</table>\n",
       "<p>5 rows × 21 columns</p>\n",
       "</div>"
      ],
      "text/plain": [
       "   Row ID        Order ID  Order Date   Ship Date       Ship Mode Customer ID  \\\n",
       "0       1  CA-2016-152156   11/8/2016  11/11/2016    Second Class    CG-12520   \n",
       "1       2  CA-2016-152156   11/8/2016  11/11/2016    Second Class    CG-12520   \n",
       "2       3  CA-2016-138688   6/12/2016   6/16/2016    Second Class    DV-13045   \n",
       "3       4  US-2015-108966  10/11/2015  10/18/2015  Standard Class    SO-20335   \n",
       "4       5  US-2015-108966  10/11/2015  10/18/2015  Standard Class    SO-20335   \n",
       "\n",
       "     Customer Name    Segment        Country             City  ...  \\\n",
       "0      Claire Gute   Consumer  United States        Henderson  ...   \n",
       "1      Claire Gute   Consumer  United States        Henderson  ...   \n",
       "2  Darrin Van Huff  Corporate  United States      Los Angeles  ...   \n",
       "3   Sean O'Donnell   Consumer  United States  Fort Lauderdale  ...   \n",
       "4   Sean O'Donnell   Consumer  United States  Fort Lauderdale  ...   \n",
       "\n",
       "  Postal Code  Region       Product ID         Category Sub-Category  \\\n",
       "0       42420   South  FUR-BO-10001798        Furniture    Bookcases   \n",
       "1       42420   South  FUR-CH-10000454        Furniture       Chairs   \n",
       "2       90036    West  OFF-LA-10000240  Office Supplies       Labels   \n",
       "3       33311   South  FUR-TA-10000577        Furniture       Tables   \n",
       "4       33311   South  OFF-ST-10000760  Office Supplies      Storage   \n",
       "\n",
       "                                        Product Name     Sales  Quantity  \\\n",
       "0                  Bush Somerset Collection Bookcase  261.9600         2   \n",
       "1  Hon Deluxe Fabric Upholstered Stacking Chairs,...  731.9400         3   \n",
       "2  Self-Adhesive Address Labels for Typewriters b...   14.6200         2   \n",
       "3      Bretford CR4500 Series Slim Rectangular Table  957.5775         5   \n",
       "4                     Eldon Fold 'N Roll Cart System   22.3680         2   \n",
       "\n",
       "   Discount    Profit  \n",
       "0      0.00   41.9136  \n",
       "1      0.00  219.5820  \n",
       "2      0.00    6.8714  \n",
       "3      0.45 -383.0310  \n",
       "4      0.20    2.5164  \n",
       "\n",
       "[5 rows x 21 columns]"
      ]
     },
     "execution_count": 54,
     "metadata": {},
     "output_type": "execute_result"
    }
   ],
   "source": [
    "df.head()"
   ]
  },
  {
   "cell_type": "code",
   "execution_count": 56,
   "id": "2104d1eb-5b32-44d1-9ee4-a5b570901942",
   "metadata": {},
   "outputs": [
    {
     "data": {
      "text/plain": [
       "(9994, 21)"
      ]
     },
     "execution_count": 56,
     "metadata": {},
     "output_type": "execute_result"
    }
   ],
   "source": [
    "df.shape\n"
   ]
  },
  {
   "cell_type": "code",
   "execution_count": 57,
   "id": "9dc63979-cc7a-4e8e-b950-b9afdfb715e2",
   "metadata": {},
   "outputs": [
    {
     "data": {
      "text/plain": [
       "Row ID             int64\n",
       "Order ID          object\n",
       "Order Date        object\n",
       "Ship Date         object\n",
       "Ship Mode         object\n",
       "Customer ID       object\n",
       "Customer Name     object\n",
       "Segment           object\n",
       "Country           object\n",
       "City              object\n",
       "State             object\n",
       "Postal Code        int64\n",
       "Region            object\n",
       "Product ID        object\n",
       "Category          object\n",
       "Sub-Category      object\n",
       "Product Name      object\n",
       "Sales            float64\n",
       "Quantity           int64\n",
       "Discount         float64\n",
       "Profit           float64\n",
       "dtype: object"
      ]
     },
     "execution_count": 57,
     "metadata": {},
     "output_type": "execute_result"
    }
   ],
   "source": [
    "df.dtypes"
   ]
  },
  {
   "cell_type": "code",
   "execution_count": 60,
   "id": "89ebae0a-601c-40de-9059-ea7975639624",
   "metadata": {},
   "outputs": [
    {
     "data": {
      "text/plain": [
       "Row ID           0\n",
       "Order ID         0\n",
       "Order Date       0\n",
       "Ship Date        0\n",
       "Ship Mode        0\n",
       "Customer ID      0\n",
       "Customer Name    0\n",
       "Segment          0\n",
       "Country          0\n",
       "City             0\n",
       "State            0\n",
       "Postal Code      0\n",
       "Region           0\n",
       "Product ID       0\n",
       "Category         0\n",
       "Sub-Category     0\n",
       "Product Name     0\n",
       "Sales            0\n",
       "Quantity         0\n",
       "Discount         0\n",
       "Profit           0\n",
       "dtype: int64"
      ]
     },
     "execution_count": 60,
     "metadata": {},
     "output_type": "execute_result"
    }
   ],
   "source": [
    "df.isnull().sum()"
   ]
  },
  {
   "cell_type": "code",
   "execution_count": 61,
   "id": "6785943e-29c0-4e45-ae7c-5e98831fcb5d",
   "metadata": {},
   "outputs": [
    {
     "data": {
      "text/html": [
       "<div>\n",
       "<style scoped>\n",
       "    .dataframe tbody tr th:only-of-type {\n",
       "        vertical-align: middle;\n",
       "    }\n",
       "\n",
       "    .dataframe tbody tr th {\n",
       "        vertical-align: top;\n",
       "    }\n",
       "\n",
       "    .dataframe thead th {\n",
       "        text-align: right;\n",
       "    }\n",
       "</style>\n",
       "<table border=\"1\" class=\"dataframe\">\n",
       "  <thead>\n",
       "    <tr style=\"text-align: right;\">\n",
       "      <th></th>\n",
       "      <th>Row ID</th>\n",
       "      <th>Postal Code</th>\n",
       "      <th>Sales</th>\n",
       "      <th>Quantity</th>\n",
       "      <th>Discount</th>\n",
       "      <th>Profit</th>\n",
       "    </tr>\n",
       "  </thead>\n",
       "  <tbody>\n",
       "    <tr>\n",
       "      <th>count</th>\n",
       "      <td>9994.000000</td>\n",
       "      <td>9994.000000</td>\n",
       "      <td>9994.000000</td>\n",
       "      <td>9994.000000</td>\n",
       "      <td>9994.000000</td>\n",
       "      <td>9994.000000</td>\n",
       "    </tr>\n",
       "    <tr>\n",
       "      <th>mean</th>\n",
       "      <td>4997.500000</td>\n",
       "      <td>55190.379428</td>\n",
       "      <td>229.858001</td>\n",
       "      <td>3.789574</td>\n",
       "      <td>0.156203</td>\n",
       "      <td>28.656896</td>\n",
       "    </tr>\n",
       "    <tr>\n",
       "      <th>std</th>\n",
       "      <td>2885.163629</td>\n",
       "      <td>32063.693350</td>\n",
       "      <td>623.245101</td>\n",
       "      <td>2.225110</td>\n",
       "      <td>0.206452</td>\n",
       "      <td>234.260108</td>\n",
       "    </tr>\n",
       "    <tr>\n",
       "      <th>min</th>\n",
       "      <td>1.000000</td>\n",
       "      <td>1040.000000</td>\n",
       "      <td>0.444000</td>\n",
       "      <td>1.000000</td>\n",
       "      <td>0.000000</td>\n",
       "      <td>-6599.978000</td>\n",
       "    </tr>\n",
       "    <tr>\n",
       "      <th>25%</th>\n",
       "      <td>2499.250000</td>\n",
       "      <td>23223.000000</td>\n",
       "      <td>17.280000</td>\n",
       "      <td>2.000000</td>\n",
       "      <td>0.000000</td>\n",
       "      <td>1.728750</td>\n",
       "    </tr>\n",
       "    <tr>\n",
       "      <th>50%</th>\n",
       "      <td>4997.500000</td>\n",
       "      <td>56430.500000</td>\n",
       "      <td>54.490000</td>\n",
       "      <td>3.000000</td>\n",
       "      <td>0.200000</td>\n",
       "      <td>8.666500</td>\n",
       "    </tr>\n",
       "    <tr>\n",
       "      <th>75%</th>\n",
       "      <td>7495.750000</td>\n",
       "      <td>90008.000000</td>\n",
       "      <td>209.940000</td>\n",
       "      <td>5.000000</td>\n",
       "      <td>0.200000</td>\n",
       "      <td>29.364000</td>\n",
       "    </tr>\n",
       "    <tr>\n",
       "      <th>max</th>\n",
       "      <td>9994.000000</td>\n",
       "      <td>99301.000000</td>\n",
       "      <td>22638.480000</td>\n",
       "      <td>14.000000</td>\n",
       "      <td>0.800000</td>\n",
       "      <td>8399.976000</td>\n",
       "    </tr>\n",
       "  </tbody>\n",
       "</table>\n",
       "</div>"
      ],
      "text/plain": [
       "            Row ID   Postal Code         Sales     Quantity     Discount  \\\n",
       "count  9994.000000   9994.000000   9994.000000  9994.000000  9994.000000   \n",
       "mean   4997.500000  55190.379428    229.858001     3.789574     0.156203   \n",
       "std    2885.163629  32063.693350    623.245101     2.225110     0.206452   \n",
       "min       1.000000   1040.000000      0.444000     1.000000     0.000000   \n",
       "25%    2499.250000  23223.000000     17.280000     2.000000     0.000000   \n",
       "50%    4997.500000  56430.500000     54.490000     3.000000     0.200000   \n",
       "75%    7495.750000  90008.000000    209.940000     5.000000     0.200000   \n",
       "max    9994.000000  99301.000000  22638.480000    14.000000     0.800000   \n",
       "\n",
       "            Profit  \n",
       "count  9994.000000  \n",
       "mean     28.656896  \n",
       "std     234.260108  \n",
       "min   -6599.978000  \n",
       "25%       1.728750  \n",
       "50%       8.666500  \n",
       "75%      29.364000  \n",
       "max    8399.976000  "
      ]
     },
     "execution_count": 61,
     "metadata": {},
     "output_type": "execute_result"
    }
   ],
   "source": [
    "df.describe()"
   ]
  },
  {
   "cell_type": "code",
   "execution_count": 66,
   "id": "ae7227fd-7dcd-4657-a216-ee37c118c0b3",
   "metadata": {},
   "outputs": [
    {
     "name": "stdout",
     "output_type": "stream",
     "text": [
      "0\n"
     ]
    }
   ],
   "source": [
    "print(df.duplicated().sum())"
   ]
  },
  {
   "cell_type": "markdown",
   "id": "fa714bb1-1e3d-4860-862f-73c5abf239dc",
   "metadata": {},
   "source": [
    "### ✅PHASE 2: Exploratory Data Analysis (EDA)"
   ]
  },
  {
   "cell_type": "code",
   "execution_count": 147,
   "id": "ea4d78d1-86dd-4db6-886c-f6be90af1d20",
   "metadata": {},
   "outputs": [
    {
     "data": {
      "text/html": [
       "<div>\n",
       "<style scoped>\n",
       "    .dataframe tbody tr th:only-of-type {\n",
       "        vertical-align: middle;\n",
       "    }\n",
       "\n",
       "    .dataframe tbody tr th {\n",
       "        vertical-align: top;\n",
       "    }\n",
       "\n",
       "    .dataframe thead th {\n",
       "        text-align: right;\n",
       "    }\n",
       "</style>\n",
       "<table border=\"1\" class=\"dataframe\">\n",
       "  <thead>\n",
       "    <tr style=\"text-align: right;\">\n",
       "      <th></th>\n",
       "      <th>Row ID</th>\n",
       "      <th>Order ID</th>\n",
       "      <th>Order Date</th>\n",
       "      <th>Ship Date</th>\n",
       "      <th>Ship Mode</th>\n",
       "      <th>Customer ID</th>\n",
       "      <th>Customer Name</th>\n",
       "      <th>Segment</th>\n",
       "      <th>Country</th>\n",
       "      <th>City</th>\n",
       "      <th>...</th>\n",
       "      <th>Postal Code</th>\n",
       "      <th>Region</th>\n",
       "      <th>Product ID</th>\n",
       "      <th>Category</th>\n",
       "      <th>Sub-Category</th>\n",
       "      <th>Product Name</th>\n",
       "      <th>Sales</th>\n",
       "      <th>Quantity</th>\n",
       "      <th>Discount</th>\n",
       "      <th>Profit</th>\n",
       "    </tr>\n",
       "  </thead>\n",
       "  <tbody>\n",
       "    <tr>\n",
       "      <th>0</th>\n",
       "      <td>1</td>\n",
       "      <td>CA-2016-152156</td>\n",
       "      <td>11/8/2016</td>\n",
       "      <td>11/11/2016</td>\n",
       "      <td>Second Class</td>\n",
       "      <td>CG-12520</td>\n",
       "      <td>Claire Gute</td>\n",
       "      <td>Consumer</td>\n",
       "      <td>United States</td>\n",
       "      <td>Henderson</td>\n",
       "      <td>...</td>\n",
       "      <td>42420</td>\n",
       "      <td>South</td>\n",
       "      <td>FUR-BO-10001798</td>\n",
       "      <td>Furniture</td>\n",
       "      <td>Bookcases</td>\n",
       "      <td>Bush Somerset Collection Bookcase</td>\n",
       "      <td>261.9600</td>\n",
       "      <td>2</td>\n",
       "      <td>0.00</td>\n",
       "      <td>41.9136</td>\n",
       "    </tr>\n",
       "    <tr>\n",
       "      <th>1</th>\n",
       "      <td>2</td>\n",
       "      <td>CA-2016-152156</td>\n",
       "      <td>11/8/2016</td>\n",
       "      <td>11/11/2016</td>\n",
       "      <td>Second Class</td>\n",
       "      <td>CG-12520</td>\n",
       "      <td>Claire Gute</td>\n",
       "      <td>Consumer</td>\n",
       "      <td>United States</td>\n",
       "      <td>Henderson</td>\n",
       "      <td>...</td>\n",
       "      <td>42420</td>\n",
       "      <td>South</td>\n",
       "      <td>FUR-CH-10000454</td>\n",
       "      <td>Furniture</td>\n",
       "      <td>Chairs</td>\n",
       "      <td>Hon Deluxe Fabric Upholstered Stacking Chairs,...</td>\n",
       "      <td>731.9400</td>\n",
       "      <td>3</td>\n",
       "      <td>0.00</td>\n",
       "      <td>219.5820</td>\n",
       "    </tr>\n",
       "    <tr>\n",
       "      <th>2</th>\n",
       "      <td>3</td>\n",
       "      <td>CA-2016-138688</td>\n",
       "      <td>6/12/2016</td>\n",
       "      <td>6/16/2016</td>\n",
       "      <td>Second Class</td>\n",
       "      <td>DV-13045</td>\n",
       "      <td>Darrin Van Huff</td>\n",
       "      <td>Corporate</td>\n",
       "      <td>United States</td>\n",
       "      <td>Los Angeles</td>\n",
       "      <td>...</td>\n",
       "      <td>90036</td>\n",
       "      <td>West</td>\n",
       "      <td>OFF-LA-10000240</td>\n",
       "      <td>Office Supplies</td>\n",
       "      <td>Labels</td>\n",
       "      <td>Self-Adhesive Address Labels for Typewriters b...</td>\n",
       "      <td>14.6200</td>\n",
       "      <td>2</td>\n",
       "      <td>0.00</td>\n",
       "      <td>6.8714</td>\n",
       "    </tr>\n",
       "    <tr>\n",
       "      <th>3</th>\n",
       "      <td>4</td>\n",
       "      <td>US-2015-108966</td>\n",
       "      <td>10/11/2015</td>\n",
       "      <td>10/18/2015</td>\n",
       "      <td>Standard Class</td>\n",
       "      <td>SO-20335</td>\n",
       "      <td>Sean O'Donnell</td>\n",
       "      <td>Consumer</td>\n",
       "      <td>United States</td>\n",
       "      <td>Fort Lauderdale</td>\n",
       "      <td>...</td>\n",
       "      <td>33311</td>\n",
       "      <td>South</td>\n",
       "      <td>FUR-TA-10000577</td>\n",
       "      <td>Furniture</td>\n",
       "      <td>Tables</td>\n",
       "      <td>Bretford CR4500 Series Slim Rectangular Table</td>\n",
       "      <td>957.5775</td>\n",
       "      <td>5</td>\n",
       "      <td>0.45</td>\n",
       "      <td>-383.0310</td>\n",
       "    </tr>\n",
       "    <tr>\n",
       "      <th>4</th>\n",
       "      <td>5</td>\n",
       "      <td>US-2015-108966</td>\n",
       "      <td>10/11/2015</td>\n",
       "      <td>10/18/2015</td>\n",
       "      <td>Standard Class</td>\n",
       "      <td>SO-20335</td>\n",
       "      <td>Sean O'Donnell</td>\n",
       "      <td>Consumer</td>\n",
       "      <td>United States</td>\n",
       "      <td>Fort Lauderdale</td>\n",
       "      <td>...</td>\n",
       "      <td>33311</td>\n",
       "      <td>South</td>\n",
       "      <td>OFF-ST-10000760</td>\n",
       "      <td>Office Supplies</td>\n",
       "      <td>Storage</td>\n",
       "      <td>Eldon Fold 'N Roll Cart System</td>\n",
       "      <td>22.3680</td>\n",
       "      <td>2</td>\n",
       "      <td>0.20</td>\n",
       "      <td>2.5164</td>\n",
       "    </tr>\n",
       "  </tbody>\n",
       "</table>\n",
       "<p>5 rows × 21 columns</p>\n",
       "</div>"
      ],
      "text/plain": [
       "   Row ID        Order ID  Order Date   Ship Date       Ship Mode Customer ID  \\\n",
       "0       1  CA-2016-152156   11/8/2016  11/11/2016    Second Class    CG-12520   \n",
       "1       2  CA-2016-152156   11/8/2016  11/11/2016    Second Class    CG-12520   \n",
       "2       3  CA-2016-138688   6/12/2016   6/16/2016    Second Class    DV-13045   \n",
       "3       4  US-2015-108966  10/11/2015  10/18/2015  Standard Class    SO-20335   \n",
       "4       5  US-2015-108966  10/11/2015  10/18/2015  Standard Class    SO-20335   \n",
       "\n",
       "     Customer Name    Segment        Country             City  ...  \\\n",
       "0      Claire Gute   Consumer  United States        Henderson  ...   \n",
       "1      Claire Gute   Consumer  United States        Henderson  ...   \n",
       "2  Darrin Van Huff  Corporate  United States      Los Angeles  ...   \n",
       "3   Sean O'Donnell   Consumer  United States  Fort Lauderdale  ...   \n",
       "4   Sean O'Donnell   Consumer  United States  Fort Lauderdale  ...   \n",
       "\n",
       "  Postal Code  Region       Product ID         Category Sub-Category  \\\n",
       "0       42420   South  FUR-BO-10001798        Furniture    Bookcases   \n",
       "1       42420   South  FUR-CH-10000454        Furniture       Chairs   \n",
       "2       90036    West  OFF-LA-10000240  Office Supplies       Labels   \n",
       "3       33311   South  FUR-TA-10000577        Furniture       Tables   \n",
       "4       33311   South  OFF-ST-10000760  Office Supplies      Storage   \n",
       "\n",
       "                                        Product Name     Sales  Quantity  \\\n",
       "0                  Bush Somerset Collection Bookcase  261.9600         2   \n",
       "1  Hon Deluxe Fabric Upholstered Stacking Chairs,...  731.9400         3   \n",
       "2  Self-Adhesive Address Labels for Typewriters b...   14.6200         2   \n",
       "3      Bretford CR4500 Series Slim Rectangular Table  957.5775         5   \n",
       "4                     Eldon Fold 'N Roll Cart System   22.3680         2   \n",
       "\n",
       "   Discount    Profit  \n",
       "0      0.00   41.9136  \n",
       "1      0.00  219.5820  \n",
       "2      0.00    6.8714  \n",
       "3      0.45 -383.0310  \n",
       "4      0.20    2.5164  \n",
       "\n",
       "[5 rows x 21 columns]"
      ]
     },
     "execution_count": 147,
     "metadata": {},
     "output_type": "execute_result"
    }
   ],
   "source": [
    "df.head()"
   ]
  },
  {
   "cell_type": "code",
   "execution_count": null,
   "id": "39956ef4-8a86-4429-97d0-b1d640b5ced7",
   "metadata": {},
   "outputs": [],
   "source": [
    "# here we find some insights such as total saels, total profit, total discount give, category wise profit, sales, city wise sales profit"
   ]
  },
  {
   "cell_type": "code",
   "execution_count": 81,
   "id": "f9fbc517-e4e3-4bec-af03-3ff353848406",
   "metadata": {},
   "outputs": [
    {
     "name": "stdout",
     "output_type": "stream",
     "text": [
      "Total Sales: $2,297,200.86\n"
     ]
    }
   ],
   "source": [
    "total_sales = df['Sales'].sum()\n",
    "print(f\"Total Sales: ${total_sales:,.2f}\")\n"
   ]
  },
  {
   "cell_type": "code",
   "execution_count": 83,
   "id": "9d066639-c63d-43cd-a130-2888b7166b65",
   "metadata": {},
   "outputs": [
    {
     "name": "stdout",
     "output_type": "stream",
     "text": [
      "total profits: $286,397.02\n"
     ]
    }
   ],
   "source": [
    "# profit after dicount\n",
    "total_profits = df['Profit'].sum()\n",
    "print(f\"total profits: ${total_profits:,.2f}\")"
   ]
  },
  {
   "cell_type": "code",
   "execution_count": 90,
   "id": "b3294aae-453a-4aac-b6ee-88c1a203fc22",
   "metadata": {},
   "outputs": [
    {
     "name": "stdout",
     "output_type": "stream",
     "text": [
      "average discount : 15.6203%\n"
     ]
    }
   ],
   "source": [
    "average_discount = df['Discount'].mean()\n",
    "\n",
    "print(f\"average discount : {average_discount*100:,.4f}%\")"
   ]
  },
  {
   "cell_type": "code",
   "execution_count": 100,
   "id": "b05a8114-a204-4ec7-a965-38f38e3e02ed",
   "metadata": {},
   "outputs": [
    {
     "name": "stdout",
     "output_type": "stream",
     "text": [
      "2297200.8603\n",
      "spent_on_discount : $425,246.24\n"
     ]
    }
   ],
   "source": [
    "# now we calculate discount given in $\n",
    "print(total_sales)\n",
    "spent_on_discount = (2297200.8603 * 15.62)/84.38\n",
    "print(f\"spent_on_discount : ${spent_on_discount:,.2f}\")"
   ]
  },
  {
   "cell_type": "code",
   "execution_count": 101,
   "id": "7c74b9d4-5f5d-4d4c-a74c-63d09e3754c1",
   "metadata": {},
   "outputs": [
    {
     "name": "stdout",
     "output_type": "stream",
     "text": [
      "Total Quantity Sold: 37,873 Units\n"
     ]
    }
   ],
   "source": [
    "total_quantity = df['Quantity'].sum()\n",
    "print(f\"Total Quantity Sold: {total_quantity:,} Units\")"
   ]
  },
  {
   "cell_type": "code",
   "execution_count": null,
   "id": "b862beb5-4c9f-4240-8a5c-0ee5f3477aa8",
   "metadata": {},
   "outputs": [],
   "source": [
    "# now let's find  total user and unique user "
   ]
  },
  {
   "cell_type": "code",
   "execution_count": 112,
   "id": "c9d8fd29-ed31-401a-90b2-e287575cef68",
   "metadata": {},
   "outputs": [
    {
     "name": "stdout",
     "output_type": "stream",
     "text": [
      "Number of Unique Customers: 793\n",
      "Number of Unique Orders: 5009\n"
     ]
    }
   ],
   "source": [
    "\n",
    "unique_customers = df['Customer ID'].nunique()\n",
    "print(f\"Number of Unique Customers: {unique_customers}\")\n",
    "\n",
    "unique_orders = df['Order ID'].nunique()\n",
    "print(f\"Number of Unique Orders: {unique_orders}\")\n"
   ]
  },
  {
   "cell_type": "code",
   "execution_count": null,
   "id": "747759d7-b180-4561-90ed-f23f79ced68d",
   "metadata": {},
   "outputs": [],
   "source": [
    "# analize region wise......"
   ]
  },
  {
   "cell_type": "code",
   "execution_count": 114,
   "id": "ee6dcec4-4bcf-4c12-8edd-8832e9f852dc",
   "metadata": {},
   "outputs": [
    {
     "data": {
      "text/plain": [
       "4"
      ]
     },
     "execution_count": 114,
     "metadata": {},
     "output_type": "execute_result"
    }
   ],
   "source": [
    "df['Region'].nunique()"
   ]
  },
  {
   "cell_type": "code",
   "execution_count": 145,
   "id": "8d61fc82-8bf9-47b1-a587-5e9edfd0c052",
   "metadata": {},
   "outputs": [
    {
     "name": "stdout",
     "output_type": "stream",
     "text": [
      "               Sales       Profit\n",
      "Region                           \n",
      "West     725457.8245  108418.4489\n",
      "East     678781.2400   91522.7800\n",
      "Central  501239.8908   39706.3625\n",
      "South    391721.9050   46749.4303\n"
     ]
    }
   ],
   "source": [
    "# rigion wise sales\n",
    "\n",
    "region_stats = df.groupby('Region').agg({'Sales': 'sum', 'Profit': 'sum'}).sort_values('Sales', ascending=False)\n",
    "print(region_stats)\n",
    "\n",
    "# # By Country\n",
    "# region_stats = df.groupby('Country').agg({'Sales': 'sum', 'Profit': 'sum'}).sort_values('Sales', ascending=False)\n",
    "# print(region_stats)"
   ]
  },
  {
   "cell_type": "code",
   "execution_count": 121,
   "id": "07a29385-a5c8-4712-864c-9d630b984a20",
   "metadata": {},
   "outputs": [
    {
     "name": "stdout",
     "output_type": "stream",
     "text": [
      "                                    Sales      Profit\n",
      "Category        Sub-Category                         \n",
      "Technology      Phones        330007.0540  44515.7306\n",
      "Furniture       Chairs        328449.1030  26590.1663\n",
      "Office Supplies Storage       223843.6080  21278.8264\n",
      "Furniture       Tables        206965.5320 -17725.4811\n",
      "Office Supplies Binders       203412.7330  30221.7633\n",
      "Technology      Machines      189238.6310   3384.7569\n",
      "                Accessories   167380.3180  41936.6357\n",
      "                Copiers       149528.0300  55617.8249\n",
      "Furniture       Bookcases     114879.9963  -3472.5560\n",
      "Office Supplies Appliances    107532.1610  18138.0054\n",
      "Furniture       Furnishings    91705.1640  13059.1436\n",
      "Office Supplies Paper          78479.2060  34053.5693\n",
      "                Supplies       46673.5380  -1189.0995\n",
      "                Art            27118.7920   6527.7870\n",
      "                Envelopes      16476.4020   6964.1767\n",
      "                Labels         12486.3120   5546.2540\n",
      "                Fasteners       3024.2800    949.5182\n"
     ]
    }
   ],
   "source": [
    "### category wise sales and profits\n",
    "\n",
    "category_stats = df.groupby(['Category', 'Sub-Category']).agg({'Sales': 'sum', 'Profit': 'sum'}).sort_values('Sales', ascending=False)\n",
    "print(category_stats)\n"
   ]
  },
  {
   "cell_type": "code",
   "execution_count": 138,
   "id": "0c572e26-a2d7-4a5d-9800-636276af19b3",
   "metadata": {},
   "outputs": [
    {
     "data": {
      "text/plain": [
       "Ship Mode\n",
       "Standard Class    5968\n",
       "Second Class      1945\n",
       "First Class       1538\n",
       "Same Day           543\n",
       "Name: count, dtype: int64"
      ]
     },
     "execution_count": 138,
     "metadata": {},
     "output_type": "execute_result"
    }
   ],
   "source": [
    "## by Ship mode profit and sales\n",
    "\n",
    "df['Ship Mode'].value_counts()"
   ]
  },
  {
   "cell_type": "code",
   "execution_count": 140,
   "id": "88252dfb-eeff-42f8-b298-28866bcc9195",
   "metadata": {},
   "outputs": [
    {
     "name": "stdout",
     "output_type": "stream",
     "text": [
      "                       Sales       Profit\n",
      "Ship Mode                                \n",
      "First Class     3.514284e+05   48969.8399\n",
      "Same Day        1.283631e+05   15891.7589\n",
      "Second Class    4.591936e+05   57446.6354\n",
      "Standard Class  1.358216e+06  164088.7875\n"
     ]
    }
   ],
   "source": [
    "shipmode_wise = df.groupby(['Ship Mode']).agg({'Sales': 'sum', 'Profit': 'sum'})\n",
    "print(shipmode_wise)\n"
   ]
  },
  {
   "cell_type": "code",
   "execution_count": 141,
   "id": "ad3caf86-f57a-4942-9c19-cb1b6edada44",
   "metadata": {},
   "outputs": [
    {
     "data": {
      "text/plain": [
       "Segment\n",
       "Consumer       5191\n",
       "Corporate      3020\n",
       "Home Office    1783\n",
       "Name: count, dtype: int64"
      ]
     },
     "execution_count": 141,
     "metadata": {},
     "output_type": "execute_result"
    }
   ],
   "source": [
    "df['Segment'].value_counts()"
   ]
  },
  {
   "cell_type": "code",
   "execution_count": 142,
   "id": "483c6309-4623-4267-9756-fac28abfb6ab",
   "metadata": {},
   "outputs": [
    {
     "name": "stdout",
     "output_type": "stream",
     "text": [
      "                    Sales       Profit\n",
      "Segment                               \n",
      "Consumer     1.161401e+06  134119.2092\n",
      "Corporate    7.061464e+05   91979.1340\n",
      "Home Office  4.296531e+05   60298.6785\n"
     ]
    }
   ],
   "source": [
    "customer_segment_wise = df.groupby(['Segment']).agg({'Sales': 'sum', 'Profit': 'sum'})\n",
    "print(customer_segment_wise)"
   ]
  },
  {
   "cell_type": "code",
   "execution_count": 149,
   "id": "120ccc59-9a68-44bb-b8c2-20d0266f143c",
   "metadata": {},
   "outputs": [
    {
     "data": {
      "text/html": [
       "<div>\n",
       "<style scoped>\n",
       "    .dataframe tbody tr th:only-of-type {\n",
       "        vertical-align: middle;\n",
       "    }\n",
       "\n",
       "    .dataframe tbody tr th {\n",
       "        vertical-align: top;\n",
       "    }\n",
       "\n",
       "    .dataframe thead th {\n",
       "        text-align: right;\n",
       "    }\n",
       "</style>\n",
       "<table border=\"1\" class=\"dataframe\">\n",
       "  <thead>\n",
       "    <tr style=\"text-align: right;\">\n",
       "      <th></th>\n",
       "      <th>Row ID</th>\n",
       "      <th>Order ID</th>\n",
       "      <th>Order Date</th>\n",
       "      <th>Ship Date</th>\n",
       "      <th>Ship Mode</th>\n",
       "      <th>Customer ID</th>\n",
       "      <th>Customer Name</th>\n",
       "      <th>Segment</th>\n",
       "      <th>Country</th>\n",
       "      <th>City</th>\n",
       "      <th>...</th>\n",
       "      <th>Postal Code</th>\n",
       "      <th>Region</th>\n",
       "      <th>Product ID</th>\n",
       "      <th>Category</th>\n",
       "      <th>Sub-Category</th>\n",
       "      <th>Product Name</th>\n",
       "      <th>Sales</th>\n",
       "      <th>Quantity</th>\n",
       "      <th>Discount</th>\n",
       "      <th>Profit</th>\n",
       "    </tr>\n",
       "  </thead>\n",
       "  <tbody>\n",
       "    <tr>\n",
       "      <th>0</th>\n",
       "      <td>1</td>\n",
       "      <td>CA-2016-152156</td>\n",
       "      <td>11/8/2016</td>\n",
       "      <td>11/11/2016</td>\n",
       "      <td>Second Class</td>\n",
       "      <td>CG-12520</td>\n",
       "      <td>Claire Gute</td>\n",
       "      <td>Consumer</td>\n",
       "      <td>United States</td>\n",
       "      <td>Henderson</td>\n",
       "      <td>...</td>\n",
       "      <td>42420</td>\n",
       "      <td>South</td>\n",
       "      <td>FUR-BO-10001798</td>\n",
       "      <td>Furniture</td>\n",
       "      <td>Bookcases</td>\n",
       "      <td>Bush Somerset Collection Bookcase</td>\n",
       "      <td>261.9600</td>\n",
       "      <td>2</td>\n",
       "      <td>0.00</td>\n",
       "      <td>41.9136</td>\n",
       "    </tr>\n",
       "    <tr>\n",
       "      <th>1</th>\n",
       "      <td>2</td>\n",
       "      <td>CA-2016-152156</td>\n",
       "      <td>11/8/2016</td>\n",
       "      <td>11/11/2016</td>\n",
       "      <td>Second Class</td>\n",
       "      <td>CG-12520</td>\n",
       "      <td>Claire Gute</td>\n",
       "      <td>Consumer</td>\n",
       "      <td>United States</td>\n",
       "      <td>Henderson</td>\n",
       "      <td>...</td>\n",
       "      <td>42420</td>\n",
       "      <td>South</td>\n",
       "      <td>FUR-CH-10000454</td>\n",
       "      <td>Furniture</td>\n",
       "      <td>Chairs</td>\n",
       "      <td>Hon Deluxe Fabric Upholstered Stacking Chairs,...</td>\n",
       "      <td>731.9400</td>\n",
       "      <td>3</td>\n",
       "      <td>0.00</td>\n",
       "      <td>219.5820</td>\n",
       "    </tr>\n",
       "    <tr>\n",
       "      <th>2</th>\n",
       "      <td>3</td>\n",
       "      <td>CA-2016-138688</td>\n",
       "      <td>6/12/2016</td>\n",
       "      <td>6/16/2016</td>\n",
       "      <td>Second Class</td>\n",
       "      <td>DV-13045</td>\n",
       "      <td>Darrin Van Huff</td>\n",
       "      <td>Corporate</td>\n",
       "      <td>United States</td>\n",
       "      <td>Los Angeles</td>\n",
       "      <td>...</td>\n",
       "      <td>90036</td>\n",
       "      <td>West</td>\n",
       "      <td>OFF-LA-10000240</td>\n",
       "      <td>Office Supplies</td>\n",
       "      <td>Labels</td>\n",
       "      <td>Self-Adhesive Address Labels for Typewriters b...</td>\n",
       "      <td>14.6200</td>\n",
       "      <td>2</td>\n",
       "      <td>0.00</td>\n",
       "      <td>6.8714</td>\n",
       "    </tr>\n",
       "    <tr>\n",
       "      <th>3</th>\n",
       "      <td>4</td>\n",
       "      <td>US-2015-108966</td>\n",
       "      <td>10/11/2015</td>\n",
       "      <td>10/18/2015</td>\n",
       "      <td>Standard Class</td>\n",
       "      <td>SO-20335</td>\n",
       "      <td>Sean O'Donnell</td>\n",
       "      <td>Consumer</td>\n",
       "      <td>United States</td>\n",
       "      <td>Fort Lauderdale</td>\n",
       "      <td>...</td>\n",
       "      <td>33311</td>\n",
       "      <td>South</td>\n",
       "      <td>FUR-TA-10000577</td>\n",
       "      <td>Furniture</td>\n",
       "      <td>Tables</td>\n",
       "      <td>Bretford CR4500 Series Slim Rectangular Table</td>\n",
       "      <td>957.5775</td>\n",
       "      <td>5</td>\n",
       "      <td>0.45</td>\n",
       "      <td>-383.0310</td>\n",
       "    </tr>\n",
       "    <tr>\n",
       "      <th>4</th>\n",
       "      <td>5</td>\n",
       "      <td>US-2015-108966</td>\n",
       "      <td>10/11/2015</td>\n",
       "      <td>10/18/2015</td>\n",
       "      <td>Standard Class</td>\n",
       "      <td>SO-20335</td>\n",
       "      <td>Sean O'Donnell</td>\n",
       "      <td>Consumer</td>\n",
       "      <td>United States</td>\n",
       "      <td>Fort Lauderdale</td>\n",
       "      <td>...</td>\n",
       "      <td>33311</td>\n",
       "      <td>South</td>\n",
       "      <td>OFF-ST-10000760</td>\n",
       "      <td>Office Supplies</td>\n",
       "      <td>Storage</td>\n",
       "      <td>Eldon Fold 'N Roll Cart System</td>\n",
       "      <td>22.3680</td>\n",
       "      <td>2</td>\n",
       "      <td>0.20</td>\n",
       "      <td>2.5164</td>\n",
       "    </tr>\n",
       "  </tbody>\n",
       "</table>\n",
       "<p>5 rows × 21 columns</p>\n",
       "</div>"
      ],
      "text/plain": [
       "   Row ID        Order ID  Order Date   Ship Date       Ship Mode Customer ID  \\\n",
       "0       1  CA-2016-152156   11/8/2016  11/11/2016    Second Class    CG-12520   \n",
       "1       2  CA-2016-152156   11/8/2016  11/11/2016    Second Class    CG-12520   \n",
       "2       3  CA-2016-138688   6/12/2016   6/16/2016    Second Class    DV-13045   \n",
       "3       4  US-2015-108966  10/11/2015  10/18/2015  Standard Class    SO-20335   \n",
       "4       5  US-2015-108966  10/11/2015  10/18/2015  Standard Class    SO-20335   \n",
       "\n",
       "     Customer Name    Segment        Country             City  ...  \\\n",
       "0      Claire Gute   Consumer  United States        Henderson  ...   \n",
       "1      Claire Gute   Consumer  United States        Henderson  ...   \n",
       "2  Darrin Van Huff  Corporate  United States      Los Angeles  ...   \n",
       "3   Sean O'Donnell   Consumer  United States  Fort Lauderdale  ...   \n",
       "4   Sean O'Donnell   Consumer  United States  Fort Lauderdale  ...   \n",
       "\n",
       "  Postal Code  Region       Product ID         Category Sub-Category  \\\n",
       "0       42420   South  FUR-BO-10001798        Furniture    Bookcases   \n",
       "1       42420   South  FUR-CH-10000454        Furniture       Chairs   \n",
       "2       90036    West  OFF-LA-10000240  Office Supplies       Labels   \n",
       "3       33311   South  FUR-TA-10000577        Furniture       Tables   \n",
       "4       33311   South  OFF-ST-10000760  Office Supplies      Storage   \n",
       "\n",
       "                                        Product Name     Sales  Quantity  \\\n",
       "0                  Bush Somerset Collection Bookcase  261.9600         2   \n",
       "1  Hon Deluxe Fabric Upholstered Stacking Chairs,...  731.9400         3   \n",
       "2  Self-Adhesive Address Labels for Typewriters b...   14.6200         2   \n",
       "3      Bretford CR4500 Series Slim Rectangular Table  957.5775         5   \n",
       "4                     Eldon Fold 'N Roll Cart System   22.3680         2   \n",
       "\n",
       "   Discount    Profit  \n",
       "0      0.00   41.9136  \n",
       "1      0.00  219.5820  \n",
       "2      0.00    6.8714  \n",
       "3      0.45 -383.0310  \n",
       "4      0.20    2.5164  \n",
       "\n",
       "[5 rows x 21 columns]"
      ]
     },
     "execution_count": 149,
     "metadata": {},
     "output_type": "execute_result"
    }
   ],
   "source": [
    "df.head()"
   ]
  },
  {
   "cell_type": "code",
   "execution_count": 152,
   "id": "0efad0a7-ea21-458c-8ff4-748cd26377d5",
   "metadata": {},
   "outputs": [
    {
     "data": {
      "text/plain": [
       "dtype('<M8[ns]')"
      ]
     },
     "execution_count": 152,
     "metadata": {},
     "output_type": "execute_result"
    }
   ],
   "source": [
    "df['Order Date'] = pd.to_datetime(df['Order Date'], format='%m/%d/%Y')\n",
    "    \n",
    "df['Order Date'].dtype # ir should 'ns'"
   ]
  },
  {
   "cell_type": "code",
   "execution_count": 166,
   "id": "53595951-ef11-49a5-b2ef-1c97e4c397fb",
   "metadata": {},
   "outputs": [
    {
     "name": "stdout",
     "output_type": "stream",
     "text": [
      "    Year      Month        Sales      Profit\n",
      "26  2016   December   96999.0430  17885.3093\n",
      "34  2016    October   59687.7450  16243.1425\n",
      "43  2017      March   58872.3528  14751.8915\n",
      "21  2015   November   75972.5635  12474.7884\n",
      "47  2017  September   87866.6520  10991.5556\n",
      "19  2015      March   38726.2520   9732.0978\n",
      "45  2017   November  118447.8250   9690.1037\n",
      "35  2016  September   73410.0249   9328.6576\n",
      "9   2014   November   78628.7167   9292.1269\n",
      "46  2017    October   77776.9232   9275.2755\n",
      "37  2017     August   63120.8880   9040.9557\n",
      "2   2014   December   69545.6205   8983.5699\n"
     ]
    }
   ],
   "source": [
    "### Month wise profit analysis\n",
    "\n",
    "df['Year'] = df['Order Date'].dt.year\n",
    "df['Month'] = df['Order Date'].dt.month_name()  # e.g., January\n",
    "\n",
    "# here we sort month with highest profit\n",
    "monthly_trends = df.groupby(['Year', 'Month']).agg({'Sales': 'sum', 'Profit': 'sum'}).reset_index().sort_values('Profit', ascending=False)\n",
    "first_year = monthly_trends.head(12)\n",
    "print(first_year)"
   ]
  },
  {
   "cell_type": "code",
   "execution_count": 171,
   "id": "b91e6074-d36d-437b-97c5-05ea2e0d4ca5",
   "metadata": {},
   "outputs": [
    {
     "name": "stdout",
     "output_type": "stream",
     "text": [
      "   Year        Sales      Profit\n",
      "3  2017  733215.2552  93439.2696\n",
      "2  2016  609205.5980  81795.1743\n",
      "1  2015  470532.5090  61618.6037\n",
      "0  2014  484247.4981  49543.9741\n"
     ]
    }
   ],
   "source": [
    "## year wise trand analysis\n",
    "\n",
    "yearly_trands = df.groupby(['Year']).agg({'Sales': 'sum', 'Profit': 'sum'}).reset_index().sort_values('Profit', ascending=False)\n",
    "print(yearly_trands)"
   ]
  },
  {
   "cell_type": "code",
   "execution_count": 179,
   "id": "8aa17ac6-cf31-401f-8173-5f9295e77775",
   "metadata": {},
   "outputs": [
    {
     "data": {
      "text/html": [
       "<style type=\"text/css\">\n",
       "</style>\n",
       "<table id=\"T_ec659\">\n",
       "  <thead>\n",
       "    <tr>\n",
       "      <th class=\"blank level0\" >&nbsp;</th>\n",
       "      <th id=\"T_ec659_level0_col0\" class=\"col_heading level0 col0\" >Category</th>\n",
       "      <th id=\"T_ec659_level0_col1\" class=\"col_heading level0 col1\" >Sub-Category</th>\n",
       "      <th id=\"T_ec659_level0_col2\" class=\"col_heading level0 col2\" >Sales</th>\n",
       "      <th id=\"T_ec659_level0_col3\" class=\"col_heading level0 col3\" >Profit</th>\n",
       "      <th id=\"T_ec659_level0_col4\" class=\"col_heading level0 col4\" >Discount</th>\n",
       "      <th id=\"T_ec659_level0_col5\" class=\"col_heading level0 col5\" >Profit Margin (%)</th>\n",
       "    </tr>\n",
       "  </thead>\n",
       "  <tbody>\n",
       "    <tr>\n",
       "      <th id=\"T_ec659_level0_row0\" class=\"row_heading level0 row0\" >3</th>\n",
       "      <td id=\"T_ec659_row0_col0\" class=\"data row0 col0\" >Furniture</td>\n",
       "      <td id=\"T_ec659_row0_col1\" class=\"data row0 col1\" >Tables</td>\n",
       "      <td id=\"T_ec659_row0_col2\" class=\"data row0 col2\" >$206,965.53</td>\n",
       "      <td id=\"T_ec659_row0_col3\" class=\"data row0 col3\" >$-17,725.48</td>\n",
       "      <td id=\"T_ec659_row0_col4\" class=\"data row0 col4\" >26.13%</td>\n",
       "      <td id=\"T_ec659_row0_col5\" class=\"data row0 col5\" >-8.56%</td>\n",
       "    </tr>\n",
       "    <tr>\n",
       "      <th id=\"T_ec659_level0_row1\" class=\"row_heading level0 row1\" >0</th>\n",
       "      <td id=\"T_ec659_row1_col0\" class=\"data row1 col0\" >Furniture</td>\n",
       "      <td id=\"T_ec659_row1_col1\" class=\"data row1 col1\" >Bookcases</td>\n",
       "      <td id=\"T_ec659_row1_col2\" class=\"data row1 col2\" >$114,880.00</td>\n",
       "      <td id=\"T_ec659_row1_col3\" class=\"data row1 col3\" >$-3,472.56</td>\n",
       "      <td id=\"T_ec659_row1_col4\" class=\"data row1 col4\" >21.11%</td>\n",
       "      <td id=\"T_ec659_row1_col5\" class=\"data row1 col5\" >-3.02%</td>\n",
       "    </tr>\n",
       "    <tr>\n",
       "      <th id=\"T_ec659_level0_row2\" class=\"row_heading level0 row2\" >12</th>\n",
       "      <td id=\"T_ec659_row2_col0\" class=\"data row2 col0\" >Office Supplies</td>\n",
       "      <td id=\"T_ec659_row2_col1\" class=\"data row2 col1\" >Supplies</td>\n",
       "      <td id=\"T_ec659_row2_col2\" class=\"data row2 col2\" >$46,673.54</td>\n",
       "      <td id=\"T_ec659_row2_col3\" class=\"data row2 col3\" >$-1,189.10</td>\n",
       "      <td id=\"T_ec659_row2_col4\" class=\"data row2 col4\" >7.68%</td>\n",
       "      <td id=\"T_ec659_row2_col5\" class=\"data row2 col5\" >-2.55%</td>\n",
       "    </tr>\n",
       "    <tr>\n",
       "      <th id=\"T_ec659_level0_row3\" class=\"row_heading level0 row3\" >15</th>\n",
       "      <td id=\"T_ec659_row3_col0\" class=\"data row3 col0\" >Technology</td>\n",
       "      <td id=\"T_ec659_row3_col1\" class=\"data row3 col1\" >Machines</td>\n",
       "      <td id=\"T_ec659_row3_col2\" class=\"data row3 col2\" >$189,238.63</td>\n",
       "      <td id=\"T_ec659_row3_col3\" class=\"data row3 col3\" >$3,384.76</td>\n",
       "      <td id=\"T_ec659_row3_col4\" class=\"data row3 col4\" >30.61%</td>\n",
       "      <td id=\"T_ec659_row3_col5\" class=\"data row3 col5\" >1.79%</td>\n",
       "    </tr>\n",
       "    <tr>\n",
       "      <th id=\"T_ec659_level0_row4\" class=\"row_heading level0 row4\" >1</th>\n",
       "      <td id=\"T_ec659_row4_col0\" class=\"data row4 col0\" >Furniture</td>\n",
       "      <td id=\"T_ec659_row4_col1\" class=\"data row4 col1\" >Chairs</td>\n",
       "      <td id=\"T_ec659_row4_col2\" class=\"data row4 col2\" >$328,449.10</td>\n",
       "      <td id=\"T_ec659_row4_col3\" class=\"data row4 col3\" >$26,590.17</td>\n",
       "      <td id=\"T_ec659_row4_col4\" class=\"data row4 col4\" >17.02%</td>\n",
       "      <td id=\"T_ec659_row4_col5\" class=\"data row4 col5\" >8.10%</td>\n",
       "    </tr>\n",
       "    <tr>\n",
       "      <th id=\"T_ec659_level0_row5\" class=\"row_heading level0 row5\" >11</th>\n",
       "      <td id=\"T_ec659_row5_col0\" class=\"data row5 col0\" >Office Supplies</td>\n",
       "      <td id=\"T_ec659_row5_col1\" class=\"data row5 col1\" >Storage</td>\n",
       "      <td id=\"T_ec659_row5_col2\" class=\"data row5 col2\" >$223,843.61</td>\n",
       "      <td id=\"T_ec659_row5_col3\" class=\"data row5 col3\" >$21,278.83</td>\n",
       "      <td id=\"T_ec659_row5_col4\" class=\"data row5 col4\" >7.47%</td>\n",
       "      <td id=\"T_ec659_row5_col5\" class=\"data row5 col5\" >9.51%</td>\n",
       "    </tr>\n",
       "    <tr>\n",
       "      <th id=\"T_ec659_level0_row6\" class=\"row_heading level0 row6\" >16</th>\n",
       "      <td id=\"T_ec659_row6_col0\" class=\"data row6 col0\" >Technology</td>\n",
       "      <td id=\"T_ec659_row6_col1\" class=\"data row6 col1\" >Phones</td>\n",
       "      <td id=\"T_ec659_row6_col2\" class=\"data row6 col2\" >$330,007.05</td>\n",
       "      <td id=\"T_ec659_row6_col3\" class=\"data row6 col3\" >$44,515.73</td>\n",
       "      <td id=\"T_ec659_row6_col4\" class=\"data row6 col4\" >15.46%</td>\n",
       "      <td id=\"T_ec659_row6_col5\" class=\"data row6 col5\" >13.49%</td>\n",
       "    </tr>\n",
       "    <tr>\n",
       "      <th id=\"T_ec659_level0_row7\" class=\"row_heading level0 row7\" >2</th>\n",
       "      <td id=\"T_ec659_row7_col0\" class=\"data row7 col0\" >Furniture</td>\n",
       "      <td id=\"T_ec659_row7_col1\" class=\"data row7 col1\" >Furnishings</td>\n",
       "      <td id=\"T_ec659_row7_col2\" class=\"data row7 col2\" >$91,705.16</td>\n",
       "      <td id=\"T_ec659_row7_col3\" class=\"data row7 col3\" >$13,059.14</td>\n",
       "      <td id=\"T_ec659_row7_col4\" class=\"data row7 col4\" >13.83%</td>\n",
       "      <td id=\"T_ec659_row7_col5\" class=\"data row7 col5\" >14.24%</td>\n",
       "    </tr>\n",
       "    <tr>\n",
       "      <th id=\"T_ec659_level0_row8\" class=\"row_heading level0 row8\" >6</th>\n",
       "      <td id=\"T_ec659_row8_col0\" class=\"data row8 col0\" >Office Supplies</td>\n",
       "      <td id=\"T_ec659_row8_col1\" class=\"data row8 col1\" >Binders</td>\n",
       "      <td id=\"T_ec659_row8_col2\" class=\"data row8 col2\" >$203,412.73</td>\n",
       "      <td id=\"T_ec659_row8_col3\" class=\"data row8 col3\" >$30,221.76</td>\n",
       "      <td id=\"T_ec659_row8_col4\" class=\"data row8 col4\" >37.23%</td>\n",
       "      <td id=\"T_ec659_row8_col5\" class=\"data row8 col5\" >14.86%</td>\n",
       "    </tr>\n",
       "    <tr>\n",
       "      <th id=\"T_ec659_level0_row9\" class=\"row_heading level0 row9\" >4</th>\n",
       "      <td id=\"T_ec659_row9_col0\" class=\"data row9 col0\" >Office Supplies</td>\n",
       "      <td id=\"T_ec659_row9_col1\" class=\"data row9 col1\" >Appliances</td>\n",
       "      <td id=\"T_ec659_row9_col2\" class=\"data row9 col2\" >$107,532.16</td>\n",
       "      <td id=\"T_ec659_row9_col3\" class=\"data row9 col3\" >$18,138.01</td>\n",
       "      <td id=\"T_ec659_row9_col4\" class=\"data row9 col4\" >16.65%</td>\n",
       "      <td id=\"T_ec659_row9_col5\" class=\"data row9 col5\" >16.87%</td>\n",
       "    </tr>\n",
       "    <tr>\n",
       "      <th id=\"T_ec659_level0_row10\" class=\"row_heading level0 row10\" >5</th>\n",
       "      <td id=\"T_ec659_row10_col0\" class=\"data row10 col0\" >Office Supplies</td>\n",
       "      <td id=\"T_ec659_row10_col1\" class=\"data row10 col1\" >Art</td>\n",
       "      <td id=\"T_ec659_row10_col2\" class=\"data row10 col2\" >$27,118.79</td>\n",
       "      <td id=\"T_ec659_row10_col3\" class=\"data row10 col3\" >$6,527.79</td>\n",
       "      <td id=\"T_ec659_row10_col4\" class=\"data row10 col4\" >7.49%</td>\n",
       "      <td id=\"T_ec659_row10_col5\" class=\"data row10 col5\" >24.07%</td>\n",
       "    </tr>\n",
       "    <tr>\n",
       "      <th id=\"T_ec659_level0_row11\" class=\"row_heading level0 row11\" >13</th>\n",
       "      <td id=\"T_ec659_row11_col0\" class=\"data row11 col0\" >Technology</td>\n",
       "      <td id=\"T_ec659_row11_col1\" class=\"data row11 col1\" >Accessories</td>\n",
       "      <td id=\"T_ec659_row11_col2\" class=\"data row11 col2\" >$167,380.32</td>\n",
       "      <td id=\"T_ec659_row11_col3\" class=\"data row11 col3\" >$41,936.64</td>\n",
       "      <td id=\"T_ec659_row11_col4\" class=\"data row11 col4\" >7.85%</td>\n",
       "      <td id=\"T_ec659_row11_col5\" class=\"data row11 col5\" >25.05%</td>\n",
       "    </tr>\n",
       "    <tr>\n",
       "      <th id=\"T_ec659_level0_row12\" class=\"row_heading level0 row12\" >8</th>\n",
       "      <td id=\"T_ec659_row12_col0\" class=\"data row12 col0\" >Office Supplies</td>\n",
       "      <td id=\"T_ec659_row12_col1\" class=\"data row12 col1\" >Fasteners</td>\n",
       "      <td id=\"T_ec659_row12_col2\" class=\"data row12 col2\" >$3,024.28</td>\n",
       "      <td id=\"T_ec659_row12_col3\" class=\"data row12 col3\" >$949.52</td>\n",
       "      <td id=\"T_ec659_row12_col4\" class=\"data row12 col4\" >8.20%</td>\n",
       "      <td id=\"T_ec659_row12_col5\" class=\"data row12 col5\" >31.40%</td>\n",
       "    </tr>\n",
       "    <tr>\n",
       "      <th id=\"T_ec659_level0_row13\" class=\"row_heading level0 row13\" >14</th>\n",
       "      <td id=\"T_ec659_row13_col0\" class=\"data row13 col0\" >Technology</td>\n",
       "      <td id=\"T_ec659_row13_col1\" class=\"data row13 col1\" >Copiers</td>\n",
       "      <td id=\"T_ec659_row13_col2\" class=\"data row13 col2\" >$149,528.03</td>\n",
       "      <td id=\"T_ec659_row13_col3\" class=\"data row13 col3\" >$55,617.82</td>\n",
       "      <td id=\"T_ec659_row13_col4\" class=\"data row13 col4\" >16.18%</td>\n",
       "      <td id=\"T_ec659_row13_col5\" class=\"data row13 col5\" >37.20%</td>\n",
       "    </tr>\n",
       "    <tr>\n",
       "      <th id=\"T_ec659_level0_row14\" class=\"row_heading level0 row14\" >7</th>\n",
       "      <td id=\"T_ec659_row14_col0\" class=\"data row14 col0\" >Office Supplies</td>\n",
       "      <td id=\"T_ec659_row14_col1\" class=\"data row14 col1\" >Envelopes</td>\n",
       "      <td id=\"T_ec659_row14_col2\" class=\"data row14 col2\" >$16,476.40</td>\n",
       "      <td id=\"T_ec659_row14_col3\" class=\"data row14 col3\" >$6,964.18</td>\n",
       "      <td id=\"T_ec659_row14_col4\" class=\"data row14 col4\" >8.03%</td>\n",
       "      <td id=\"T_ec659_row14_col5\" class=\"data row14 col5\" >42.27%</td>\n",
       "    </tr>\n",
       "    <tr>\n",
       "      <th id=\"T_ec659_level0_row15\" class=\"row_heading level0 row15\" >10</th>\n",
       "      <td id=\"T_ec659_row15_col0\" class=\"data row15 col0\" >Office Supplies</td>\n",
       "      <td id=\"T_ec659_row15_col1\" class=\"data row15 col1\" >Paper</td>\n",
       "      <td id=\"T_ec659_row15_col2\" class=\"data row15 col2\" >$78,479.21</td>\n",
       "      <td id=\"T_ec659_row15_col3\" class=\"data row15 col3\" >$34,053.57</td>\n",
       "      <td id=\"T_ec659_row15_col4\" class=\"data row15 col4\" >7.49%</td>\n",
       "      <td id=\"T_ec659_row15_col5\" class=\"data row15 col5\" >43.39%</td>\n",
       "    </tr>\n",
       "    <tr>\n",
       "      <th id=\"T_ec659_level0_row16\" class=\"row_heading level0 row16\" >9</th>\n",
       "      <td id=\"T_ec659_row16_col0\" class=\"data row16 col0\" >Office Supplies</td>\n",
       "      <td id=\"T_ec659_row16_col1\" class=\"data row16 col1\" >Labels</td>\n",
       "      <td id=\"T_ec659_row16_col2\" class=\"data row16 col2\" >$12,486.31</td>\n",
       "      <td id=\"T_ec659_row16_col3\" class=\"data row16 col3\" >$5,546.25</td>\n",
       "      <td id=\"T_ec659_row16_col4\" class=\"data row16 col4\" >6.87%</td>\n",
       "      <td id=\"T_ec659_row16_col5\" class=\"data row16 col5\" >44.42%</td>\n",
       "    </tr>\n",
       "  </tbody>\n",
       "</table>\n"
      ],
      "text/plain": [
       "<pandas.io.formats.style.Styler at 0x1bbe3db8640>"
      ]
     },
     "execution_count": 179,
     "metadata": {},
     "output_type": "execute_result"
    }
   ],
   "source": [
    "profit_analysis = df.groupby(['Category', 'Sub-Category']).agg({\n",
    "    'Sales': 'sum',\n",
    "    'Profit': 'sum',\n",
    "    'Discount': 'mean'\n",
    "}).reset_index()\n",
    "\n",
    "# Calculate Profit Margin\n",
    "profit_analysis['Profit Margin (%)'] = (profit_analysis['Profit'] / profit_analysis['Sales']) * 100\n",
    "\n",
    "# Format as styled table\n",
    "styled_table = (\n",
    "    profit_analysis.sort_values('Profit Margin (%)', ascending=True).style.format({\n",
    "        'Sales': '${:,.2f}',\n",
    "        'Profit': '${:,.2f}',\n",
    "        'Discount': '{:.2%}',\n",
    "        'Profit Margin (%)': '{:.2f}%'\n",
    "    }))\n",
    "styled_table"
   ]
  },
  {
   "cell_type": "code",
   "execution_count": 188,
   "id": "aecbf514-7bdf-422f-bc07-141aa143d499",
   "metadata": {},
   "outputs": [
    {
     "data": {
      "application/vnd.plotly.v1+json": {
       "config": {
        "plotlyServerURL": "https://plot.ly"
       },
       "data": [
        {
         "hovertemplate": "x=%{x}<br>y=%{y}<extra></extra>",
         "legendgroup": "",
         "marker": {
          "color": "#636efa",
          "pattern": {
           "shape": ""
          }
         },
         "name": "",
         "orientation": "v",
         "showlegend": false,
         "textposition": "auto",
         "type": "bar",
         "x": [
          "a",
          "b",
          "c"
         ],
         "xaxis": "x",
         "y": {
          "bdata": "AQMC",
          "dtype": "i1"
         },
         "yaxis": "y"
        }
       ],
       "layout": {
        "barmode": "relative",
        "legend": {
         "tracegroupgap": 0
        },
        "margin": {
         "t": 60
        },
        "template": {
         "data": {
          "bar": [
           {
            "error_x": {
             "color": "#2a3f5f"
            },
            "error_y": {
             "color": "#2a3f5f"
            },
            "marker": {
             "line": {
              "color": "#E5ECF6",
              "width": 0.5
             },
             "pattern": {
              "fillmode": "overlay",
              "size": 10,
              "solidity": 0.2
             }
            },
            "type": "bar"
           }
          ],
          "barpolar": [
           {
            "marker": {
             "line": {
              "color": "#E5ECF6",
              "width": 0.5
             },
             "pattern": {
              "fillmode": "overlay",
              "size": 10,
              "solidity": 0.2
             }
            },
            "type": "barpolar"
           }
          ],
          "carpet": [
           {
            "aaxis": {
             "endlinecolor": "#2a3f5f",
             "gridcolor": "white",
             "linecolor": "white",
             "minorgridcolor": "white",
             "startlinecolor": "#2a3f5f"
            },
            "baxis": {
             "endlinecolor": "#2a3f5f",
             "gridcolor": "white",
             "linecolor": "white",
             "minorgridcolor": "white",
             "startlinecolor": "#2a3f5f"
            },
            "type": "carpet"
           }
          ],
          "choropleth": [
           {
            "colorbar": {
             "outlinewidth": 0,
             "ticks": ""
            },
            "type": "choropleth"
           }
          ],
          "contour": [
           {
            "colorbar": {
             "outlinewidth": 0,
             "ticks": ""
            },
            "colorscale": [
             [
              0,
              "#0d0887"
             ],
             [
              0.1111111111111111,
              "#46039f"
             ],
             [
              0.2222222222222222,
              "#7201a8"
             ],
             [
              0.3333333333333333,
              "#9c179e"
             ],
             [
              0.4444444444444444,
              "#bd3786"
             ],
             [
              0.5555555555555556,
              "#d8576b"
             ],
             [
              0.6666666666666666,
              "#ed7953"
             ],
             [
              0.7777777777777778,
              "#fb9f3a"
             ],
             [
              0.8888888888888888,
              "#fdca26"
             ],
             [
              1,
              "#f0f921"
             ]
            ],
            "type": "contour"
           }
          ],
          "contourcarpet": [
           {
            "colorbar": {
             "outlinewidth": 0,
             "ticks": ""
            },
            "type": "contourcarpet"
           }
          ],
          "heatmap": [
           {
            "colorbar": {
             "outlinewidth": 0,
             "ticks": ""
            },
            "colorscale": [
             [
              0,
              "#0d0887"
             ],
             [
              0.1111111111111111,
              "#46039f"
             ],
             [
              0.2222222222222222,
              "#7201a8"
             ],
             [
              0.3333333333333333,
              "#9c179e"
             ],
             [
              0.4444444444444444,
              "#bd3786"
             ],
             [
              0.5555555555555556,
              "#d8576b"
             ],
             [
              0.6666666666666666,
              "#ed7953"
             ],
             [
              0.7777777777777778,
              "#fb9f3a"
             ],
             [
              0.8888888888888888,
              "#fdca26"
             ],
             [
              1,
              "#f0f921"
             ]
            ],
            "type": "heatmap"
           }
          ],
          "histogram": [
           {
            "marker": {
             "pattern": {
              "fillmode": "overlay",
              "size": 10,
              "solidity": 0.2
             }
            },
            "type": "histogram"
           }
          ],
          "histogram2d": [
           {
            "colorbar": {
             "outlinewidth": 0,
             "ticks": ""
            },
            "colorscale": [
             [
              0,
              "#0d0887"
             ],
             [
              0.1111111111111111,
              "#46039f"
             ],
             [
              0.2222222222222222,
              "#7201a8"
             ],
             [
              0.3333333333333333,
              "#9c179e"
             ],
             [
              0.4444444444444444,
              "#bd3786"
             ],
             [
              0.5555555555555556,
              "#d8576b"
             ],
             [
              0.6666666666666666,
              "#ed7953"
             ],
             [
              0.7777777777777778,
              "#fb9f3a"
             ],
             [
              0.8888888888888888,
              "#fdca26"
             ],
             [
              1,
              "#f0f921"
             ]
            ],
            "type": "histogram2d"
           }
          ],
          "histogram2dcontour": [
           {
            "colorbar": {
             "outlinewidth": 0,
             "ticks": ""
            },
            "colorscale": [
             [
              0,
              "#0d0887"
             ],
             [
              0.1111111111111111,
              "#46039f"
             ],
             [
              0.2222222222222222,
              "#7201a8"
             ],
             [
              0.3333333333333333,
              "#9c179e"
             ],
             [
              0.4444444444444444,
              "#bd3786"
             ],
             [
              0.5555555555555556,
              "#d8576b"
             ],
             [
              0.6666666666666666,
              "#ed7953"
             ],
             [
              0.7777777777777778,
              "#fb9f3a"
             ],
             [
              0.8888888888888888,
              "#fdca26"
             ],
             [
              1,
              "#f0f921"
             ]
            ],
            "type": "histogram2dcontour"
           }
          ],
          "mesh3d": [
           {
            "colorbar": {
             "outlinewidth": 0,
             "ticks": ""
            },
            "type": "mesh3d"
           }
          ],
          "parcoords": [
           {
            "line": {
             "colorbar": {
              "outlinewidth": 0,
              "ticks": ""
             }
            },
            "type": "parcoords"
           }
          ],
          "pie": [
           {
            "automargin": true,
            "type": "pie"
           }
          ],
          "scatter": [
           {
            "fillpattern": {
             "fillmode": "overlay",
             "size": 10,
             "solidity": 0.2
            },
            "type": "scatter"
           }
          ],
          "scatter3d": [
           {
            "line": {
             "colorbar": {
              "outlinewidth": 0,
              "ticks": ""
             }
            },
            "marker": {
             "colorbar": {
              "outlinewidth": 0,
              "ticks": ""
             }
            },
            "type": "scatter3d"
           }
          ],
          "scattercarpet": [
           {
            "marker": {
             "colorbar": {
              "outlinewidth": 0,
              "ticks": ""
             }
            },
            "type": "scattercarpet"
           }
          ],
          "scattergeo": [
           {
            "marker": {
             "colorbar": {
              "outlinewidth": 0,
              "ticks": ""
             }
            },
            "type": "scattergeo"
           }
          ],
          "scattergl": [
           {
            "marker": {
             "colorbar": {
              "outlinewidth": 0,
              "ticks": ""
             }
            },
            "type": "scattergl"
           }
          ],
          "scattermap": [
           {
            "marker": {
             "colorbar": {
              "outlinewidth": 0,
              "ticks": ""
             }
            },
            "type": "scattermap"
           }
          ],
          "scattermapbox": [
           {
            "marker": {
             "colorbar": {
              "outlinewidth": 0,
              "ticks": ""
             }
            },
            "type": "scattermapbox"
           }
          ],
          "scatterpolar": [
           {
            "marker": {
             "colorbar": {
              "outlinewidth": 0,
              "ticks": ""
             }
            },
            "type": "scatterpolar"
           }
          ],
          "scatterpolargl": [
           {
            "marker": {
             "colorbar": {
              "outlinewidth": 0,
              "ticks": ""
             }
            },
            "type": "scatterpolargl"
           }
          ],
          "scatterternary": [
           {
            "marker": {
             "colorbar": {
              "outlinewidth": 0,
              "ticks": ""
             }
            },
            "type": "scatterternary"
           }
          ],
          "surface": [
           {
            "colorbar": {
             "outlinewidth": 0,
             "ticks": ""
            },
            "colorscale": [
             [
              0,
              "#0d0887"
             ],
             [
              0.1111111111111111,
              "#46039f"
             ],
             [
              0.2222222222222222,
              "#7201a8"
             ],
             [
              0.3333333333333333,
              "#9c179e"
             ],
             [
              0.4444444444444444,
              "#bd3786"
             ],
             [
              0.5555555555555556,
              "#d8576b"
             ],
             [
              0.6666666666666666,
              "#ed7953"
             ],
             [
              0.7777777777777778,
              "#fb9f3a"
             ],
             [
              0.8888888888888888,
              "#fdca26"
             ],
             [
              1,
              "#f0f921"
             ]
            ],
            "type": "surface"
           }
          ],
          "table": [
           {
            "cells": {
             "fill": {
              "color": "#EBF0F8"
             },
             "line": {
              "color": "white"
             }
            },
            "header": {
             "fill": {
              "color": "#C8D4E3"
             },
             "line": {
              "color": "white"
             }
            },
            "type": "table"
           }
          ]
         },
         "layout": {
          "annotationdefaults": {
           "arrowcolor": "#2a3f5f",
           "arrowhead": 0,
           "arrowwidth": 1
          },
          "autotypenumbers": "strict",
          "coloraxis": {
           "colorbar": {
            "outlinewidth": 0,
            "ticks": ""
           }
          },
          "colorscale": {
           "diverging": [
            [
             0,
             "#8e0152"
            ],
            [
             0.1,
             "#c51b7d"
            ],
            [
             0.2,
             "#de77ae"
            ],
            [
             0.3,
             "#f1b6da"
            ],
            [
             0.4,
             "#fde0ef"
            ],
            [
             0.5,
             "#f7f7f7"
            ],
            [
             0.6,
             "#e6f5d0"
            ],
            [
             0.7,
             "#b8e186"
            ],
            [
             0.8,
             "#7fbc41"
            ],
            [
             0.9,
             "#4d9221"
            ],
            [
             1,
             "#276419"
            ]
           ],
           "sequential": [
            [
             0,
             "#0d0887"
            ],
            [
             0.1111111111111111,
             "#46039f"
            ],
            [
             0.2222222222222222,
             "#7201a8"
            ],
            [
             0.3333333333333333,
             "#9c179e"
            ],
            [
             0.4444444444444444,
             "#bd3786"
            ],
            [
             0.5555555555555556,
             "#d8576b"
            ],
            [
             0.6666666666666666,
             "#ed7953"
            ],
            [
             0.7777777777777778,
             "#fb9f3a"
            ],
            [
             0.8888888888888888,
             "#fdca26"
            ],
            [
             1,
             "#f0f921"
            ]
           ],
           "sequentialminus": [
            [
             0,
             "#0d0887"
            ],
            [
             0.1111111111111111,
             "#46039f"
            ],
            [
             0.2222222222222222,
             "#7201a8"
            ],
            [
             0.3333333333333333,
             "#9c179e"
            ],
            [
             0.4444444444444444,
             "#bd3786"
            ],
            [
             0.5555555555555556,
             "#d8576b"
            ],
            [
             0.6666666666666666,
             "#ed7953"
            ],
            [
             0.7777777777777778,
             "#fb9f3a"
            ],
            [
             0.8888888888888888,
             "#fdca26"
            ],
            [
             1,
             "#f0f921"
            ]
           ]
          },
          "colorway": [
           "#636efa",
           "#EF553B",
           "#00cc96",
           "#ab63fa",
           "#FFA15A",
           "#19d3f3",
           "#FF6692",
           "#B6E880",
           "#FF97FF",
           "#FECB52"
          ],
          "font": {
           "color": "#2a3f5f"
          },
          "geo": {
           "bgcolor": "white",
           "lakecolor": "white",
           "landcolor": "#E5ECF6",
           "showlakes": true,
           "showland": true,
           "subunitcolor": "white"
          },
          "hoverlabel": {
           "align": "left"
          },
          "hovermode": "closest",
          "mapbox": {
           "style": "light"
          },
          "paper_bgcolor": "white",
          "plot_bgcolor": "#E5ECF6",
          "polar": {
           "angularaxis": {
            "gridcolor": "white",
            "linecolor": "white",
            "ticks": ""
           },
           "bgcolor": "#E5ECF6",
           "radialaxis": {
            "gridcolor": "white",
            "linecolor": "white",
            "ticks": ""
           }
          },
          "scene": {
           "xaxis": {
            "backgroundcolor": "#E5ECF6",
            "gridcolor": "white",
            "gridwidth": 2,
            "linecolor": "white",
            "showbackground": true,
            "ticks": "",
            "zerolinecolor": "white"
           },
           "yaxis": {
            "backgroundcolor": "#E5ECF6",
            "gridcolor": "white",
            "gridwidth": 2,
            "linecolor": "white",
            "showbackground": true,
            "ticks": "",
            "zerolinecolor": "white"
           },
           "zaxis": {
            "backgroundcolor": "#E5ECF6",
            "gridcolor": "white",
            "gridwidth": 2,
            "linecolor": "white",
            "showbackground": true,
            "ticks": "",
            "zerolinecolor": "white"
           }
          },
          "shapedefaults": {
           "line": {
            "color": "#2a3f5f"
           }
          },
          "ternary": {
           "aaxis": {
            "gridcolor": "white",
            "linecolor": "white",
            "ticks": ""
           },
           "baxis": {
            "gridcolor": "white",
            "linecolor": "white",
            "ticks": ""
           },
           "bgcolor": "#E5ECF6",
           "caxis": {
            "gridcolor": "white",
            "linecolor": "white",
            "ticks": ""
           }
          },
          "title": {
           "x": 0.05
          },
          "xaxis": {
           "automargin": true,
           "gridcolor": "white",
           "linecolor": "white",
           "ticks": "",
           "title": {
            "standoff": 15
           },
           "zerolinecolor": "white",
           "zerolinewidth": 2
          },
          "yaxis": {
           "automargin": true,
           "gridcolor": "white",
           "linecolor": "white",
           "ticks": "",
           "title": {
            "standoff": 15
           },
           "zerolinecolor": "white",
           "zerolinewidth": 2
          }
         }
        },
        "xaxis": {
         "anchor": "y",
         "domain": [
          0,
          1
         ],
         "title": {
          "text": "x"
         }
        },
        "yaxis": {
         "anchor": "x",
         "domain": [
          0,
          1
         ],
         "title": {
          "text": "y"
         }
        }
       }
      }
     },
     "metadata": {},
     "output_type": "display_data"
    }
   ],
   "source": [
    "import plotly.express as px\n",
    "fig = px.bar(x=[\"a\", \"b\", \"c\"], y=[1, 3, 2])\n",
    "fig.show()"
   ]
  },
  {
   "cell_type": "code",
   "execution_count": null,
   "id": "afcab75b-7fe9-4f32-8b67-8a083a27db6d",
   "metadata": {},
   "outputs": [],
   "source": []
  },
  {
   "cell_type": "code",
   "execution_count": null,
   "id": "fc2c6874-5164-474c-8400-afb8972933cb",
   "metadata": {},
   "outputs": [],
   "source": []
  },
  {
   "cell_type": "code",
   "execution_count": null,
   "id": "75b2e7bf-749a-4b37-ae3b-9f940bc29da0",
   "metadata": {},
   "outputs": [],
   "source": []
  },
  {
   "cell_type": "code",
   "execution_count": null,
   "id": "8c894211-5d28-4675-b50a-0336981c300f",
   "metadata": {},
   "outputs": [],
   "source": []
  },
  {
   "cell_type": "code",
   "execution_count": null,
   "id": "b72493bc-0054-4e1d-968d-ec9229486eed",
   "metadata": {},
   "outputs": [],
   "source": []
  },
  {
   "cell_type": "code",
   "execution_count": null,
   "id": "e1d09fc1-f832-42fa-9b07-02186c728bc7",
   "metadata": {},
   "outputs": [],
   "source": []
  }
 ],
 "metadata": {
  "kernelspec": {
   "display_name": "Python 3 (ipykernel)",
   "language": "python",
   "name": "python3"
  },
  "language_info": {
   "codemirror_mode": {
    "name": "ipython",
    "version": 3
   },
   "file_extension": ".py",
   "mimetype": "text/x-python",
   "name": "python",
   "nbconvert_exporter": "python",
   "pygments_lexer": "ipython3",
   "version": "3.13.5"
  }
 },
 "nbformat": 4,
 "nbformat_minor": 5
}
