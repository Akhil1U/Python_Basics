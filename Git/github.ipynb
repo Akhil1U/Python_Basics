{
 "cells": [
  {
   "cell_type": "markdown",
   "id": "6c1c41c4",
   "metadata": {},
   "source": [
    "## Git\n",
    "\n",
    "🔧 What is Git?\n",
    "A version control system that tracks changes in your code\n",
    "\n",
    "Lets you save, revert, and branch your project safely\n",
    "\n",
    "Works offline — Git is local"
   ]
  },
  {
   "cell_type": "markdown",
   "id": "e34f59be",
   "metadata": {},
   "source": [
    "## Github"
   ]
  },
  {
   "cell_type": "markdown",
   "id": "89630c50",
   "metadata": {},
   "source": [
    "🌐 What is GitHub?\n",
    "A cloud platform to host Git repositories\n",
    "\n",
    "Enables collaboration, sharing, and portfolio building\n",
    "\n",
    "Adds features like:\n",
    "\n",
    "Pull requests\n",
    "\n",
    "Issues & discussions\n",
    "\n",
    "Project boards\n",
    "\n",
    "Actions (CI/CD)"
   ]
  },
  {
   "cell_type": "code",
   "execution_count": null,
   "id": "f31d43b1",
   "metadata": {},
   "outputs": [],
   "source": [
    "### 📘 Key Concepts to Learn in Git/GitHub\n",
    "# Concept Description    \n",
    "\n",
    "# git init\t            Start a new repo     \n",
    "#  \n",
    "# git add\t            Stage changes     also git add <file> \n",
    "\n",
    "# git commit\t        Save a version   \n",
    "#   \n",
    "# git push\t            Upload to GitHub   \n",
    "#                  \n",
    "# git pull\t            Download latest from GitHub  \n",
    "#                        \n",
    "# branches\t            Work on new features without breaking main code  \n",
    "#                 \n",
    "# merge\t                Combine branches           \n",
    "#                        \n",
    "# clone\t                Copy a GitHub repo locally  \n",
    "#          \n",
    "# .gitignore\t        Ignore unnecessary files   \n",
    "# \n",
    "# \n",
    "# git commit -am \"message\"\tAdd and commit modified files (skips git add for tracked files) commit + add\n",
    "# \n",
    "# \n",
    "#      "
   ]
  },
  {
   "cell_type": "code",
   "execution_count": null,
   "id": "fd01452c",
   "metadata": {},
   "outputs": [],
   "source": [
    "##### working with git branch #########\n",
    "\n",
    "# git branch\t            List all branches\n",
    "\n",
    "# git branch <name>\t        Create a new branch\n",
    "\n",
    "# git checkout <branch>\t    Switch to another branch\n",
    "\n",
    "# git checkout -b <name>\tCreate and switch to a new branch\n",
    "\n",
    "# git merge <branch>\t    Merge a branch into your current branch\n",
    "\n",
    "# git branch -d <branch>\tDelete a branch"
   ]
  },
  {
   "cell_type": "code",
   "execution_count": null,
   "id": "aa58abd4",
   "metadata": {},
   "outputs": [],
   "source": [
    "######## 📤 Remote Repositories (GitHub, etc.)\n",
    "# git remote add origin <url>\tLink local repo to a remote one (e.g. GitHub)\n",
    "# git remote -v\t                Show linked remotes\n",
    "# git push origin <branch>\t    Push changes to remote branch\n",
    "# git push -u origin <branch>\tPush and set default upstream branch\n",
    "# git pull origin <branch>\t    Fetch and merge latest changes from remote\n",
    "# git fetch\t                    Download changes without merging"
   ]
  },
  {
   "cell_type": "code",
   "execution_count": null,
   "id": "5973c1f9",
   "metadata": {},
   "outputs": [],
   "source": [
    "### undo commits and \n",
    "# git checkout -- <file>\tRevert file to last committed state\n",
    "# git restore <file>\t    Alternative to checkout (modern syntax)\n",
    "# git reset --soft HEAD~1\tUndo last commit but keep changes staged\n",
    "# git reset --mixed HEAD~1\tUndo last commit and unstage changes\n",
    "# git reset --hard HEAD~1\tUndo last commit and delete changes (⚠️ irreversible!)"
   ]
  },
  {
   "cell_type": "code",
   "execution_count": null,
   "id": "0d1c3109",
   "metadata": {},
   "outputs": [],
   "source": [
    "###### 📜 Logs & History\n",
    "\n",
    "# git log\t             Show commit history\n",
    "# git log --oneline\t    Short summary of commits\n",
    "# git show\t            Show changes in a specific commit\n",
    "# git blame <file>\t       Show who changed each line in a file"
   ]
  },
  {
   "cell_type": "code",
   "execution_count": null,
   "id": "dd03e48c",
   "metadata": {},
   "outputs": [],
   "source": [
    "##### 🔄 Stashing (Save Work Temporarily)\n",
    "\n",
    "# git stash\t        Save current uncommitted work\n",
    "# git stash apply\tReapply last stashed changes\n",
    "# git stash list\tShow all stashed changes\n",
    "# git stash drop\tRemove last stash"
   ]
  },
  {
   "cell_type": "code",
   "execution_count": null,
   "id": "aa244533",
   "metadata": {},
   "outputs": [],
   "source": [
    "# 🧹 Cleanup & Maintenance\n",
    "\n",
    "# git clean -f\tDelete untracked files (⚠️ use carefully!)\n",
    "# git gc\t    Garbage collection (optimize repo)\n",
    "# git fsck\t    Check for repo issues"
   ]
  }
 ],
 "metadata": {
  "kernelspec": {
   "display_name": "Python 3",
   "language": "python",
   "name": "python3"
  },
  "language_info": {
   "codemirror_mode": {
    "name": "ipython",
    "version": 3
   },
   "file_extension": ".py",
   "mimetype": "text/x-python",
   "name": "python",
   "nbconvert_exporter": "python",
   "pygments_lexer": "ipython3",
   "version": "3.13.5"
  }
 },
 "nbformat": 4,
 "nbformat_minor": 5
}
